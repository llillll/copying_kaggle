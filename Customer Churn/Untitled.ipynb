{
 "cells": [
  {
   "cell_type": "markdown",
   "id": "ae8b97c0",
   "metadata": {},
   "source": [
    "## Library import"
   ]
  },
  {
   "cell_type": "code",
   "execution_count": 1,
   "id": "05fab3c2",
   "metadata": {
    "ExecuteTime": {
     "end_time": "2024-11-07T02:41:36.823880Z",
     "start_time": "2024-11-07T02:41:15.626109Z"
    },
    "scrolled": true
   },
   "outputs": [],
   "source": [
    "import pandas as pd\n",
    "import numpy as np\n",
    "import seaborn as sns\n",
    "import matplotlib.pyplot as plt\n",
    "import tensorflow as tf"
   ]
  },
  {
   "cell_type": "code",
   "execution_count": 2,
   "id": "671019b5",
   "metadata": {
    "ExecuteTime": {
     "end_time": "2024-11-07T02:41:37.981160Z",
     "start_time": "2024-11-07T02:41:37.967933Z"
    }
   },
   "outputs": [],
   "source": [
    "#!pip install tensorflow"
   ]
  },
  {
   "cell_type": "markdown",
   "id": "0b89aee3",
   "metadata": {},
   "source": [
    "## Data import"
   ]
  },
  {
   "cell_type": "code",
   "execution_count": 3,
   "id": "ca2e3dfb",
   "metadata": {
    "ExecuteTime": {
     "end_time": "2024-11-07T02:41:39.219016Z",
     "start_time": "2024-11-07T02:41:38.914829Z"
    }
   },
   "outputs": [
    {
     "data": {
      "text/html": [
       "<div>\n",
       "<style scoped>\n",
       "    .dataframe tbody tr th:only-of-type {\n",
       "        vertical-align: middle;\n",
       "    }\n",
       "\n",
       "    .dataframe tbody tr th {\n",
       "        vertical-align: top;\n",
       "    }\n",
       "\n",
       "    .dataframe thead th {\n",
       "        text-align: right;\n",
       "    }\n",
       "</style>\n",
       "<table border=\"1\" class=\"dataframe\">\n",
       "  <thead>\n",
       "    <tr style=\"text-align: right;\">\n",
       "      <th></th>\n",
       "      <th>customerID</th>\n",
       "      <th>gender</th>\n",
       "      <th>SeniorCitizen</th>\n",
       "      <th>Partner</th>\n",
       "      <th>Dependents</th>\n",
       "      <th>tenure</th>\n",
       "      <th>PhoneService</th>\n",
       "      <th>MultipleLines</th>\n",
       "      <th>InternetService</th>\n",
       "      <th>OnlineSecurity</th>\n",
       "      <th>...</th>\n",
       "      <th>Premium Tech Support</th>\n",
       "      <th>Unlimited Data</th>\n",
       "      <th>Total Refunds</th>\n",
       "      <th>Total Extra Data Charges</th>\n",
       "      <th>Total Long Distance Charges</th>\n",
       "      <th>Total Revenue</th>\n",
       "      <th>Satisfaction Score</th>\n",
       "      <th>Customer Status</th>\n",
       "      <th>Churn Score.1</th>\n",
       "      <th>Churn Category</th>\n",
       "    </tr>\n",
       "  </thead>\n",
       "  <tbody>\n",
       "    <tr>\n",
       "      <th>0</th>\n",
       "      <td>3668-QPYBK</td>\n",
       "      <td>Male</td>\n",
       "      <td>0</td>\n",
       "      <td>No</td>\n",
       "      <td>No</td>\n",
       "      <td>2</td>\n",
       "      <td>Yes</td>\n",
       "      <td>No</td>\n",
       "      <td>DSL</td>\n",
       "      <td>Yes</td>\n",
       "      <td>...</td>\n",
       "      <td>No</td>\n",
       "      <td>Yes</td>\n",
       "      <td>0.0</td>\n",
       "      <td>0</td>\n",
       "      <td>20.94</td>\n",
       "      <td>129.09</td>\n",
       "      <td>1</td>\n",
       "      <td>Churned</td>\n",
       "      <td>86</td>\n",
       "      <td>Competitor</td>\n",
       "    </tr>\n",
       "    <tr>\n",
       "      <th>1</th>\n",
       "      <td>9237-HQITU</td>\n",
       "      <td>Female</td>\n",
       "      <td>0</td>\n",
       "      <td>No</td>\n",
       "      <td>No</td>\n",
       "      <td>2</td>\n",
       "      <td>Yes</td>\n",
       "      <td>No</td>\n",
       "      <td>Fiber optic</td>\n",
       "      <td>No</td>\n",
       "      <td>...</td>\n",
       "      <td>No</td>\n",
       "      <td>Yes</td>\n",
       "      <td>0.0</td>\n",
       "      <td>0</td>\n",
       "      <td>18.24</td>\n",
       "      <td>169.89</td>\n",
       "      <td>2</td>\n",
       "      <td>Churned</td>\n",
       "      <td>67</td>\n",
       "      <td>Other</td>\n",
       "    </tr>\n",
       "    <tr>\n",
       "      <th>2</th>\n",
       "      <td>9305-CDSKC</td>\n",
       "      <td>Female</td>\n",
       "      <td>0</td>\n",
       "      <td>No</td>\n",
       "      <td>No</td>\n",
       "      <td>8</td>\n",
       "      <td>Yes</td>\n",
       "      <td>Yes</td>\n",
       "      <td>Fiber optic</td>\n",
       "      <td>No</td>\n",
       "      <td>...</td>\n",
       "      <td>No</td>\n",
       "      <td>Yes</td>\n",
       "      <td>0.0</td>\n",
       "      <td>0</td>\n",
       "      <td>97.20</td>\n",
       "      <td>917.70</td>\n",
       "      <td>3</td>\n",
       "      <td>Churned</td>\n",
       "      <td>86</td>\n",
       "      <td>Other</td>\n",
       "    </tr>\n",
       "  </tbody>\n",
       "</table>\n",
       "<p>3 rows × 52 columns</p>\n",
       "</div>"
      ],
      "text/plain": [
       "   customerID  gender  SeniorCitizen Partner Dependents  tenure PhoneService  \\\n",
       "0  3668-QPYBK    Male              0      No         No       2          Yes   \n",
       "1  9237-HQITU  Female              0      No         No       2          Yes   \n",
       "2  9305-CDSKC  Female              0      No         No       8          Yes   \n",
       "\n",
       "  MultipleLines InternetService OnlineSecurity  ... Premium Tech Support  \\\n",
       "0            No             DSL            Yes  ...                   No   \n",
       "1            No     Fiber optic             No  ...                   No   \n",
       "2           Yes     Fiber optic             No  ...                   No   \n",
       "\n",
       "  Unlimited Data Total Refunds Total Extra Data Charges  \\\n",
       "0            Yes           0.0                        0   \n",
       "1            Yes           0.0                        0   \n",
       "2            Yes           0.0                        0   \n",
       "\n",
       "  Total Long Distance Charges Total Revenue Satisfaction Score  \\\n",
       "0                       20.94        129.09                  1   \n",
       "1                       18.24        169.89                  2   \n",
       "2                       97.20        917.70                  3   \n",
       "\n",
       "  Customer Status  Churn Score.1 Churn Category  \n",
       "0         Churned             86     Competitor  \n",
       "1         Churned             67          Other  \n",
       "2         Churned             86          Other  \n",
       "\n",
       "[3 rows x 52 columns]"
      ]
     },
     "execution_count": 3,
     "metadata": {},
     "output_type": "execute_result"
    }
   ],
   "source": [
    "data = pd.read_csv('./data/Telco_customer_churn.csv')\n",
    "data.head(3)"
   ]
  },
  {
   "cell_type": "markdown",
   "id": "63145720",
   "metadata": {},
   "source": [
    "## Understanding the dataset + Feature engineering"
   ]
  },
  {
   "cell_type": "code",
   "execution_count": 4,
   "id": "e2c26622",
   "metadata": {
    "ExecuteTime": {
     "end_time": "2024-11-07T02:41:40.197239Z",
     "start_time": "2024-11-07T02:41:40.174932Z"
    }
   },
   "outputs": [
    {
     "data": {
      "text/plain": [
       "customerID                            object\n",
       "gender                                object\n",
       "SeniorCitizen                          int64\n",
       "Partner                               object\n",
       "Dependents                            object\n",
       "tenure                                 int64\n",
       "PhoneService                          object\n",
       "MultipleLines                         object\n",
       "InternetService                       object\n",
       "OnlineSecurity                        object\n",
       "OnlineBackup                          object\n",
       "DeviceProtection                      object\n",
       "TechSupport                           object\n",
       "StreamingTV                           object\n",
       "StreamingMovies                       object\n",
       "Contract                              object\n",
       "PaperlessBilling                      object\n",
       "PaymentMethod                         object\n",
       "MonthlyCharges                       float64\n",
       "TotalCharges                          object\n",
       "Churn                                 object\n",
       "churn_rate                             int64\n",
       "Churn Score                            int64\n",
       "CLTV                                   int64\n",
       "Churn Reason                          object\n",
       "Count                                  int64\n",
       "Country                               object\n",
       "State                                 object\n",
       "City                                  object\n",
       "Zip Code                               int64\n",
       "Lat Long                              object\n",
       "Latitude                             float64\n",
       "Longitude                            float64\n",
       "Age                                    int64\n",
       "Under 30                              object\n",
       "Married                               object\n",
       "Referred a Friend                     object\n",
       "Number of Referrals                    int64\n",
       "Offer                                 object\n",
       "Avg Monthly Long Distance Charges    float64\n",
       "Avg Monthly GB Download                int64\n",
       "Streaming Music                       object\n",
       "Premium Tech Support                  object\n",
       "Unlimited Data                        object\n",
       "Total Refunds                        float64\n",
       "Total Extra Data Charges               int64\n",
       "Total Long Distance Charges          float64\n",
       "Total Revenue                        float64\n",
       "Satisfaction Score                     int64\n",
       "Customer Status                       object\n",
       "Churn Score.1                          int64\n",
       "Churn Category                        object\n",
       "dtype: object"
      ]
     },
     "execution_count": 4,
     "metadata": {},
     "output_type": "execute_result"
    }
   ],
   "source": [
    "data.dtypes"
   ]
  },
  {
   "cell_type": "code",
   "execution_count": 5,
   "id": "7fba711c",
   "metadata": {
    "ExecuteTime": {
     "end_time": "2024-11-07T02:41:41.141757Z",
     "start_time": "2024-11-07T02:41:41.093341Z"
    }
   },
   "outputs": [
    {
     "data": {
      "text/plain": [
       "customerID                              0\n",
       "gender                                  0\n",
       "SeniorCitizen                           0\n",
       "Partner                                 0\n",
       "Dependents                              0\n",
       "tenure                                  0\n",
       "PhoneService                            0\n",
       "MultipleLines                           0\n",
       "InternetService                         0\n",
       "OnlineSecurity                          0\n",
       "OnlineBackup                            0\n",
       "DeviceProtection                        0\n",
       "TechSupport                             0\n",
       "StreamingTV                             0\n",
       "StreamingMovies                         0\n",
       "Contract                                0\n",
       "PaperlessBilling                        0\n",
       "PaymentMethod                           0\n",
       "MonthlyCharges                          0\n",
       "TotalCharges                            0\n",
       "Churn                                   0\n",
       "churn_rate                              0\n",
       "Churn Score                             0\n",
       "CLTV                                    0\n",
       "Churn Reason                         5174\n",
       "Count                                   0\n",
       "Country                                 0\n",
       "State                                   0\n",
       "City                                    0\n",
       "Zip Code                                0\n",
       "Lat Long                                0\n",
       "Latitude                                0\n",
       "Longitude                               0\n",
       "Age                                     0\n",
       "Under 30                                0\n",
       "Married                                 0\n",
       "Referred a Friend                       0\n",
       "Number of Referrals                     0\n",
       "Offer                                3877\n",
       "Avg Monthly Long Distance Charges       0\n",
       "Avg Monthly GB Download                 0\n",
       "Streaming Music                         0\n",
       "Premium Tech Support                    0\n",
       "Unlimited Data                          0\n",
       "Total Refunds                           0\n",
       "Total Extra Data Charges                0\n",
       "Total Long Distance Charges             0\n",
       "Total Revenue                           0\n",
       "Satisfaction Score                      0\n",
       "Customer Status                         0\n",
       "Churn Score.1                           0\n",
       "Churn Category                          0\n",
       "dtype: int64"
      ]
     },
     "execution_count": 5,
     "metadata": {},
     "output_type": "execute_result"
    }
   ],
   "source": [
    "data.isna().sum(axis = 0)"
   ]
  },
  {
   "cell_type": "markdown",
   "id": "d4a8b21d",
   "metadata": {},
   "source": [
    "Churn Reason과 Offer에만 null값이 있다.Churn Reason 데이터에서는 고객이 이탈하지 않았기 때문에 null값이 있는 것이다."
   ]
  },
  {
   "cell_type": "code",
   "execution_count": 6,
   "id": "5c6eb06c",
   "metadata": {
    "ExecuteTime": {
     "end_time": "2024-11-07T02:41:42.907518Z",
     "start_time": "2024-11-07T02:41:42.851821Z"
    }
   },
   "outputs": [
    {
     "data": {
      "text/html": [
       "<div>\n",
       "<style scoped>\n",
       "    .dataframe tbody tr th:only-of-type {\n",
       "        vertical-align: middle;\n",
       "    }\n",
       "\n",
       "    .dataframe tbody tr th {\n",
       "        vertical-align: top;\n",
       "    }\n",
       "\n",
       "    .dataframe thead th {\n",
       "        text-align: right;\n",
       "    }\n",
       "</style>\n",
       "<table border=\"1\" class=\"dataframe\">\n",
       "  <thead>\n",
       "    <tr style=\"text-align: right;\">\n",
       "      <th></th>\n",
       "      <th>gender</th>\n",
       "      <th>SeniorCitizen</th>\n",
       "      <th>Partner</th>\n",
       "      <th>Dependents</th>\n",
       "      <th>tenure</th>\n",
       "      <th>PhoneService</th>\n",
       "      <th>MultipleLines</th>\n",
       "      <th>InternetService</th>\n",
       "      <th>OnlineSecurity</th>\n",
       "      <th>OnlineBackup</th>\n",
       "      <th>...</th>\n",
       "      <th>Premium Tech Support</th>\n",
       "      <th>Unlimited Data</th>\n",
       "      <th>Total Refunds</th>\n",
       "      <th>Total Extra Data Charges</th>\n",
       "      <th>Total Long Distance Charges</th>\n",
       "      <th>Total Revenue</th>\n",
       "      <th>Satisfaction Score</th>\n",
       "      <th>Customer Status</th>\n",
       "      <th>Churn Score.1</th>\n",
       "      <th>Churn Category</th>\n",
       "    </tr>\n",
       "  </thead>\n",
       "  <tbody>\n",
       "    <tr>\n",
       "      <th>0</th>\n",
       "      <td>Male</td>\n",
       "      <td>0</td>\n",
       "      <td>No</td>\n",
       "      <td>No</td>\n",
       "      <td>2</td>\n",
       "      <td>Yes</td>\n",
       "      <td>No</td>\n",
       "      <td>DSL</td>\n",
       "      <td>Yes</td>\n",
       "      <td>Yes</td>\n",
       "      <td>...</td>\n",
       "      <td>No</td>\n",
       "      <td>Yes</td>\n",
       "      <td>0.0</td>\n",
       "      <td>0</td>\n",
       "      <td>20.94</td>\n",
       "      <td>129.09</td>\n",
       "      <td>1</td>\n",
       "      <td>Churned</td>\n",
       "      <td>86</td>\n",
       "      <td>Competitor</td>\n",
       "    </tr>\n",
       "    <tr>\n",
       "      <th>1</th>\n",
       "      <td>Female</td>\n",
       "      <td>0</td>\n",
       "      <td>No</td>\n",
       "      <td>No</td>\n",
       "      <td>2</td>\n",
       "      <td>Yes</td>\n",
       "      <td>No</td>\n",
       "      <td>Fiber optic</td>\n",
       "      <td>No</td>\n",
       "      <td>No</td>\n",
       "      <td>...</td>\n",
       "      <td>No</td>\n",
       "      <td>Yes</td>\n",
       "      <td>0.0</td>\n",
       "      <td>0</td>\n",
       "      <td>18.24</td>\n",
       "      <td>169.89</td>\n",
       "      <td>2</td>\n",
       "      <td>Churned</td>\n",
       "      <td>67</td>\n",
       "      <td>Other</td>\n",
       "    </tr>\n",
       "    <tr>\n",
       "      <th>2</th>\n",
       "      <td>Female</td>\n",
       "      <td>0</td>\n",
       "      <td>No</td>\n",
       "      <td>No</td>\n",
       "      <td>8</td>\n",
       "      <td>Yes</td>\n",
       "      <td>Yes</td>\n",
       "      <td>Fiber optic</td>\n",
       "      <td>No</td>\n",
       "      <td>No</td>\n",
       "      <td>...</td>\n",
       "      <td>No</td>\n",
       "      <td>Yes</td>\n",
       "      <td>0.0</td>\n",
       "      <td>0</td>\n",
       "      <td>97.20</td>\n",
       "      <td>917.70</td>\n",
       "      <td>3</td>\n",
       "      <td>Churned</td>\n",
       "      <td>86</td>\n",
       "      <td>Other</td>\n",
       "    </tr>\n",
       "  </tbody>\n",
       "</table>\n",
       "<p>3 rows × 42 columns</p>\n",
       "</div>"
      ],
      "text/plain": [
       "   gender  SeniorCitizen Partner Dependents  tenure PhoneService  \\\n",
       "0    Male              0      No         No       2          Yes   \n",
       "1  Female              0      No         No       2          Yes   \n",
       "2  Female              0      No         No       8          Yes   \n",
       "\n",
       "  MultipleLines InternetService OnlineSecurity OnlineBackup  ...  \\\n",
       "0            No             DSL            Yes          Yes  ...   \n",
       "1            No     Fiber optic             No           No  ...   \n",
       "2           Yes     Fiber optic             No           No  ...   \n",
       "\n",
       "  Premium Tech Support Unlimited Data Total Refunds Total Extra Data Charges  \\\n",
       "0                   No            Yes           0.0                        0   \n",
       "1                   No            Yes           0.0                        0   \n",
       "2                   No            Yes           0.0                        0   \n",
       "\n",
       "  Total Long Distance Charges Total Revenue Satisfaction Score  \\\n",
       "0                       20.94        129.09                  1   \n",
       "1                       18.24        169.89                  2   \n",
       "2                       97.20        917.70                  3   \n",
       "\n",
       "   Customer Status Churn Score.1  Churn Category  \n",
       "0          Churned            86      Competitor  \n",
       "1          Churned            67           Other  \n",
       "2          Churned            86           Other  \n",
       "\n",
       "[3 rows x 42 columns]"
      ]
     },
     "execution_count": 6,
     "metadata": {},
     "output_type": "execute_result"
    }
   ],
   "source": [
    "data.drop(['customerID', 'churn_rate', 'Churn', 'Country', 'State', 'City', 'Zip Code', 'Lat Long', 'Latitude', 'Longitude'], axis = 1, inplace = True)\n",
    "data.head(3)"
   ]
  },
  {
   "cell_type": "markdown",
   "id": "c0dbddc2",
   "metadata": {
    "ExecuteTime": {
     "end_time": "2024-10-29T06:51:42.195423Z",
     "start_time": "2024-10-29T06:51:42.151540Z"
    }
   },
   "source": [
    "관련 없는 변수는 drop 한다."
   ]
  },
  {
   "cell_type": "code",
   "execution_count": 7,
   "id": "13acd548",
   "metadata": {
    "ExecuteTime": {
     "end_time": "2024-11-07T02:41:44.200161Z",
     "start_time": "2024-11-07T02:41:44.178095Z"
    }
   },
   "outputs": [
    {
     "data": {
      "text/plain": [
       "array([1], dtype=int64)"
      ]
     },
     "execution_count": 7,
     "metadata": {},
     "output_type": "execute_result"
    }
   ],
   "source": [
    "data['Count'].unique()"
   ]
  },
  {
   "cell_type": "markdown",
   "id": "a0c8eb21",
   "metadata": {},
   "source": [
    "'Count' 변수는 1만 가지고 있다. 이것도 drop한다."
   ]
  },
  {
   "cell_type": "code",
   "execution_count": 8,
   "id": "e2e85057",
   "metadata": {
    "ExecuteTime": {
     "end_time": "2024-11-07T02:41:45.364587Z",
     "start_time": "2024-11-07T02:41:45.345648Z"
    }
   },
   "outputs": [],
   "source": [
    "data.drop('Count', axis = 1, inplace = True)"
   ]
  },
  {
   "cell_type": "markdown",
   "id": "24c11a37",
   "metadata": {},
   "source": [
    "'가입'고객의 행동은 아직 결정되지 않았기 때문에 생략한다."
   ]
  },
  {
   "cell_type": "code",
   "execution_count": 9,
   "id": "f4285b41",
   "metadata": {
    "ExecuteTime": {
     "end_time": "2024-11-07T02:41:46.366948Z",
     "start_time": "2024-11-07T02:41:46.336810Z"
    }
   },
   "outputs": [],
   "source": [
    "data = data[data['Customer Status'] != 'Joined']"
   ]
  },
  {
   "cell_type": "markdown",
   "id": "b7bbe274",
   "metadata": {},
   "source": [
    "Yes/No 를 0/1로 변경"
   ]
  },
  {
   "cell_type": "code",
   "execution_count": 10,
   "id": "8628e561",
   "metadata": {
    "ExecuteTime": {
     "end_time": "2024-11-07T02:41:47.192636Z",
     "start_time": "2024-11-07T02:41:47.126852Z"
    }
   },
   "outputs": [],
   "source": [
    "boolean_features = ['Partner', 'Dependents', 'PhoneService', 'MultipleLines', 'OnlineSecurity', 'OnlineBackup', \n",
    "                   'StreamingTV', 'StreamingMovies', 'DeviceProtection', 'TechSupport', 'PaperlessBilling', 'Streaming Music',\n",
    "                   'Under 30', 'Married', 'Referred a Friend', 'Unlimited Data', 'Premium Tech Support']\n",
    "for feat in boolean_features:\n",
    "    data[feat] = data[feat].map({'Yes' : 1, 'No' : 0, 'No phone service' : 0, 'No internet service' : 0})\n",
    "data['Customer Status'] = data['Customer Status'].map({'Stayed':0, 'Churned':1})"
   ]
  },
  {
   "cell_type": "code",
   "execution_count": 11,
   "id": "ab14f9c0",
   "metadata": {
    "ExecuteTime": {
     "end_time": "2024-11-07T02:41:47.652808Z",
     "start_time": "2024-11-07T02:41:47.624747Z"
    }
   },
   "outputs": [
    {
     "data": {
      "text/plain": [
       "gender                                  0\n",
       "SeniorCitizen                           0\n",
       "Partner                                 0\n",
       "Dependents                              0\n",
       "tenure                                  0\n",
       "PhoneService                            0\n",
       "MultipleLines                           0\n",
       "InternetService                         0\n",
       "OnlineSecurity                          0\n",
       "OnlineBackup                            0\n",
       "DeviceProtection                        0\n",
       "TechSupport                             0\n",
       "StreamingTV                             0\n",
       "StreamingMovies                         0\n",
       "Contract                                0\n",
       "PaperlessBilling                        0\n",
       "PaymentMethod                           0\n",
       "MonthlyCharges                          0\n",
       "TotalCharges                            0\n",
       "Churn Score                             0\n",
       "CLTV                                    0\n",
       "Churn Reason                         4720\n",
       "Age                                     0\n",
       "Under 30                                0\n",
       "Married                                 0\n",
       "Referred a Friend                       0\n",
       "Number of Referrals                     0\n",
       "Offer                                3598\n",
       "Avg Monthly Long Distance Charges       0\n",
       "Avg Monthly GB Download                 0\n",
       "Streaming Music                         0\n",
       "Premium Tech Support                    0\n",
       "Unlimited Data                          0\n",
       "Total Refunds                           0\n",
       "Total Extra Data Charges                0\n",
       "Total Long Distance Charges             0\n",
       "Total Revenue                           0\n",
       "Satisfaction Score                      0\n",
       "Customer Status                         0\n",
       "Churn Score.1                           0\n",
       "Churn Category                          0\n",
       "dtype: int64"
      ]
     },
     "execution_count": 11,
     "metadata": {},
     "output_type": "execute_result"
    }
   ],
   "source": [
    "data.isna().sum(axis = 0)"
   ]
  },
  {
   "cell_type": "code",
   "execution_count": 12,
   "id": "42e00260",
   "metadata": {
    "ExecuteTime": {
     "end_time": "2024-11-07T02:41:48.195051Z",
     "start_time": "2024-11-07T02:41:48.180537Z"
    }
   },
   "outputs": [
    {
     "data": {
      "text/plain": [
       "gender                                object\n",
       "SeniorCitizen                          int64\n",
       "Partner                                int64\n",
       "Dependents                             int64\n",
       "tenure                                 int64\n",
       "PhoneService                           int64\n",
       "MultipleLines                          int64\n",
       "InternetService                       object\n",
       "OnlineSecurity                         int64\n",
       "OnlineBackup                           int64\n",
       "DeviceProtection                       int64\n",
       "TechSupport                            int64\n",
       "StreamingTV                            int64\n",
       "StreamingMovies                        int64\n",
       "Contract                              object\n",
       "PaperlessBilling                       int64\n",
       "PaymentMethod                         object\n",
       "MonthlyCharges                       float64\n",
       "TotalCharges                          object\n",
       "Churn Score                            int64\n",
       "CLTV                                   int64\n",
       "Churn Reason                          object\n",
       "Age                                    int64\n",
       "Under 30                               int64\n",
       "Married                                int64\n",
       "Referred a Friend                      int64\n",
       "Number of Referrals                    int64\n",
       "Offer                                 object\n",
       "Avg Monthly Long Distance Charges    float64\n",
       "Avg Monthly GB Download                int64\n",
       "Streaming Music                        int64\n",
       "Premium Tech Support                   int64\n",
       "Unlimited Data                         int64\n",
       "Total Refunds                        float64\n",
       "Total Extra Data Charges               int64\n",
       "Total Long Distance Charges          float64\n",
       "Total Revenue                        float64\n",
       "Satisfaction Score                     int64\n",
       "Customer Status                        int64\n",
       "Churn Score.1                          int64\n",
       "Churn Category                        object\n",
       "dtype: object"
      ]
     },
     "execution_count": 12,
     "metadata": {},
     "output_type": "execute_result"
    }
   ],
   "source": [
    "data.dtypes"
   ]
  },
  {
   "cell_type": "markdown",
   "id": "e8837d9f",
   "metadata": {},
   "source": [
    "'Under 30', 'SeniorCitizen' 변수가 있기 때문에 'Age'는 없애도 된다."
   ]
  },
  {
   "cell_type": "code",
   "execution_count": 13,
   "id": "07f66189",
   "metadata": {
    "ExecuteTime": {
     "end_time": "2024-11-07T02:41:49.304205Z",
     "start_time": "2024-11-07T02:41:49.283547Z"
    }
   },
   "outputs": [],
   "source": [
    "data.drop('Age', axis = 1, inplace = True)"
   ]
  },
  {
   "cell_type": "markdown",
   "id": "8ba89210",
   "metadata": {},
   "source": [
    "'Number of Referrals' 변수가 있기 때문에 'Referred a Friend'는 없애도 된다."
   ]
  },
  {
   "cell_type": "code",
   "execution_count": 14,
   "id": "e051b5bb",
   "metadata": {
    "ExecuteTime": {
     "end_time": "2024-11-07T02:41:50.466266Z",
     "start_time": "2024-11-07T02:41:50.077679Z"
    }
   },
   "outputs": [
    {
     "data": {
      "image/png": "[encoded data removed]",
      "text/plain": [
       "<Figure size 640x480 with 1 Axes>"
      ]
     },
     "metadata": {},
     "output_type": "display_data"
    }
   ],
   "source": [
    "sns.scatterplot(x = data[\"Number of Referrals\"], y = data[\"Referred a Friend\"])\n",
    "\n",
    "plt.grid(True) # x, y 축에 대해 그리드 표시\n",
    "\n",
    "plt.show()"
   ]
  },
  {
   "cell_type": "markdown",
   "id": "adbb764d",
   "metadata": {},
   "source": [
    "가능한 이탈 이유 모두 확인"
   ]
  },
  {
   "cell_type": "code",
   "execution_count": 15,
   "id": "a9dcf839",
   "metadata": {
    "ExecuteTime": {
     "end_time": "2024-11-07T02:41:50.847959Z",
     "start_time": "2024-11-07T02:41:50.817971Z"
    }
   },
   "outputs": [
    {
     "data": {
      "text/plain": [
       "Churn Reason\n",
       "Attitude of support person                   192\n",
       "Competitor offered higher download speeds    189\n",
       "Competitor offered more data                 162\n",
       "Don't know                                   154\n",
       "Competitor made better offer                 140\n",
       "Attitude of service provider                 135\n",
       "Competitor had better devices                130\n",
       "Network reliability                          103\n",
       "Product dissatisfaction                      102\n",
       "Price too high                                98\n",
       "Service dissatisfaction                       89\n",
       "Lack of self-service on Website               88\n",
       "Extra data charges                            57\n",
       "Moved                                         53\n",
       "Limited range of services                     44\n",
       "Long distance charges                         44\n",
       "Lack of affordable download/upload speed      44\n",
       "Poor expertise of phone support               20\n",
       "Poor expertise of online support              19\n",
       "Deceased                                       6\n",
       "Name: count, dtype: int64"
      ]
     },
     "execution_count": 15,
     "metadata": {},
     "output_type": "execute_result"
    }
   ],
   "source": [
    "data['Churn Reason'].value_counts()"
   ]
  },
  {
   "cell_type": "markdown",
   "id": "2bd88499",
   "metadata": {},
   "source": [
    "'Deceased'와 'Moved'는 외부적인 요인이므로 이번 분석에는 포함하지 않는다."
   ]
  },
  {
   "cell_type": "code",
   "execution_count": 16,
   "id": "78857256",
   "metadata": {
    "ExecuteTime": {
     "end_time": "2024-11-07T02:41:51.602204Z",
     "start_time": "2024-11-07T02:41:51.556044Z"
    }
   },
   "outputs": [
    {
     "data": {
      "text/html": [
       "<div>\n",
       "<style scoped>\n",
       "    .dataframe tbody tr th:only-of-type {\n",
       "        vertical-align: middle;\n",
       "    }\n",
       "\n",
       "    .dataframe tbody tr th {\n",
       "        vertical-align: top;\n",
       "    }\n",
       "\n",
       "    .dataframe thead th {\n",
       "        text-align: right;\n",
       "    }\n",
       "</style>\n",
       "<table border=\"1\" class=\"dataframe\">\n",
       "  <thead>\n",
       "    <tr style=\"text-align: right;\">\n",
       "      <th></th>\n",
       "      <th>gender</th>\n",
       "      <th>SeniorCitizen</th>\n",
       "      <th>Partner</th>\n",
       "      <th>Dependents</th>\n",
       "      <th>tenure</th>\n",
       "      <th>PhoneService</th>\n",
       "      <th>MultipleLines</th>\n",
       "      <th>InternetService</th>\n",
       "      <th>OnlineSecurity</th>\n",
       "      <th>OnlineBackup</th>\n",
       "      <th>...</th>\n",
       "      <th>Premium Tech Support</th>\n",
       "      <th>Unlimited Data</th>\n",
       "      <th>Total Refunds</th>\n",
       "      <th>Total Extra Data Charges</th>\n",
       "      <th>Total Long Distance Charges</th>\n",
       "      <th>Total Revenue</th>\n",
       "      <th>Satisfaction Score</th>\n",
       "      <th>Customer Status</th>\n",
       "      <th>Churn Score.1</th>\n",
       "      <th>Churn Category</th>\n",
       "    </tr>\n",
       "  </thead>\n",
       "  <tbody>\n",
       "    <tr>\n",
       "      <th>0</th>\n",
       "      <td>Male</td>\n",
       "      <td>0</td>\n",
       "      <td>0</td>\n",
       "      <td>0</td>\n",
       "      <td>2</td>\n",
       "      <td>1</td>\n",
       "      <td>0</td>\n",
       "      <td>DSL</td>\n",
       "      <td>1</td>\n",
       "      <td>1</td>\n",
       "      <td>...</td>\n",
       "      <td>0</td>\n",
       "      <td>1</td>\n",
       "      <td>0.0</td>\n",
       "      <td>0</td>\n",
       "      <td>20.94</td>\n",
       "      <td>129.09</td>\n",
       "      <td>1</td>\n",
       "      <td>1</td>\n",
       "      <td>86</td>\n",
       "      <td>Competitor</td>\n",
       "    </tr>\n",
       "    <tr>\n",
       "      <th>4</th>\n",
       "      <td>Male</td>\n",
       "      <td>0</td>\n",
       "      <td>0</td>\n",
       "      <td>0</td>\n",
       "      <td>49</td>\n",
       "      <td>1</td>\n",
       "      <td>1</td>\n",
       "      <td>Fiber optic</td>\n",
       "      <td>0</td>\n",
       "      <td>1</td>\n",
       "      <td>...</td>\n",
       "      <td>0</td>\n",
       "      <td>1</td>\n",
       "      <td>0.0</td>\n",
       "      <td>0</td>\n",
       "      <td>2172.17</td>\n",
       "      <td>7208.47</td>\n",
       "      <td>1</td>\n",
       "      <td>1</td>\n",
       "      <td>89</td>\n",
       "      <td>Competitor</td>\n",
       "    </tr>\n",
       "    <tr>\n",
       "      <th>5</th>\n",
       "      <td>Female</td>\n",
       "      <td>0</td>\n",
       "      <td>1</td>\n",
       "      <td>1</td>\n",
       "      <td>10</td>\n",
       "      <td>1</td>\n",
       "      <td>0</td>\n",
       "      <td>DSL</td>\n",
       "      <td>0</td>\n",
       "      <td>0</td>\n",
       "      <td>...</td>\n",
       "      <td>1</td>\n",
       "      <td>1</td>\n",
       "      <td>0.0</td>\n",
       "      <td>0</td>\n",
       "      <td>94.10</td>\n",
       "      <td>622.45</td>\n",
       "      <td>1</td>\n",
       "      <td>1</td>\n",
       "      <td>78</td>\n",
       "      <td>Competitor</td>\n",
       "    </tr>\n",
       "  </tbody>\n",
       "</table>\n",
       "<p>3 rows × 40 columns</p>\n",
       "</div>"
      ],
      "text/plain": [
       "   gender  SeniorCitizen  Partner  Dependents  tenure  PhoneService  \\\n",
       "0    Male              0        0           0       2             1   \n",
       "4    Male              0        0           0      49             1   \n",
       "5  Female              0        1           1      10             1   \n",
       "\n",
       "   MultipleLines InternetService  OnlineSecurity  OnlineBackup  ...  \\\n",
       "0              0             DSL               1             1  ...   \n",
       "4              1     Fiber optic               0             1  ...   \n",
       "5              0             DSL               0             0  ...   \n",
       "\n",
       "   Premium Tech Support  Unlimited Data  Total Refunds  \\\n",
       "0                     0               1            0.0   \n",
       "4                     0               1            0.0   \n",
       "5                     1               1            0.0   \n",
       "\n",
       "   Total Extra Data Charges Total Long Distance Charges  Total Revenue  \\\n",
       "0                         0                       20.94         129.09   \n",
       "4                         0                     2172.17        7208.47   \n",
       "5                         0                       94.10         622.45   \n",
       "\n",
       "  Satisfaction Score  Customer Status Churn Score.1  Churn Category  \n",
       "0                  1                1            86      Competitor  \n",
       "4                  1                1            89      Competitor  \n",
       "5                  1                1            78      Competitor  \n",
       "\n",
       "[3 rows x 40 columns]"
      ]
     },
     "execution_count": 16,
     "metadata": {},
     "output_type": "execute_result"
    }
   ],
   "source": [
    "data = data[~data['Churn Reason'].isin(['Deceased', 'Moved'])]\n",
    "data.head(3)"
   ]
  },
  {
   "cell_type": "markdown",
   "id": "df73ee66",
   "metadata": {},
   "source": [
    "이탈 이유를 더 넓은 범주로 그룹화한다."
   ]
  },
  {
   "cell_type": "code",
   "execution_count": 17,
   "id": "4a8733bd",
   "metadata": {
    "ExecuteTime": {
     "end_time": "2024-11-07T02:41:52.390136Z",
     "start_time": "2024-11-07T02:41:52.368058Z"
    }
   },
   "outputs": [
    {
     "data": {
      "text/plain": [
       "Churn Category\n",
       "0                  4720\n",
       "Competitor          834\n",
       "Attitude            314\n",
       "Dissatisfaction     303\n",
       "Price               211\n",
       "Other               148\n",
       "Name: count, dtype: int64"
      ]
     },
     "execution_count": 17,
     "metadata": {},
     "output_type": "execute_result"
    }
   ],
   "source": [
    "data['Churn Category'].value_counts()"
   ]
  },
  {
   "cell_type": "code",
   "execution_count": 18,
   "id": "d15d88df",
   "metadata": {
    "ExecuteTime": {
     "end_time": "2024-11-07T02:41:52.920136Z",
     "start_time": "2024-11-07T02:41:52.862402Z"
    }
   },
   "outputs": [
    {
     "data": {
      "text/html": [
       "<div>\n",
       "<style scoped>\n",
       "    .dataframe tbody tr th:only-of-type {\n",
       "        vertical-align: middle;\n",
       "    }\n",
       "\n",
       "    .dataframe tbody tr th {\n",
       "        vertical-align: top;\n",
       "    }\n",
       "\n",
       "    .dataframe thead th {\n",
       "        text-align: right;\n",
       "    }\n",
       "</style>\n",
       "<table border=\"1\" class=\"dataframe\">\n",
       "  <thead>\n",
       "    <tr style=\"text-align: right;\">\n",
       "      <th>Churn Category</th>\n",
       "      <th>Attitude</th>\n",
       "      <th>Competitor</th>\n",
       "      <th>Dissatisfaction</th>\n",
       "      <th>Other</th>\n",
       "      <th>Price</th>\n",
       "    </tr>\n",
       "    <tr>\n",
       "      <th>Churn Reason</th>\n",
       "      <th></th>\n",
       "      <th></th>\n",
       "      <th></th>\n",
       "      <th></th>\n",
       "      <th></th>\n",
       "    </tr>\n",
       "  </thead>\n",
       "  <tbody>\n",
       "    <tr>\n",
       "      <th>Attitude of service provider</th>\n",
       "      <td>91</td>\n",
       "      <td>40</td>\n",
       "      <td>0</td>\n",
       "      <td>1</td>\n",
       "      <td>3</td>\n",
       "    </tr>\n",
       "    <tr>\n",
       "      <th>Attitude of support person</th>\n",
       "      <td>138</td>\n",
       "      <td>50</td>\n",
       "      <td>0</td>\n",
       "      <td>1</td>\n",
       "      <td>3</td>\n",
       "    </tr>\n",
       "    <tr>\n",
       "      <th>Competitor had better devices</th>\n",
       "      <td>0</td>\n",
       "      <td>126</td>\n",
       "      <td>0</td>\n",
       "      <td>0</td>\n",
       "      <td>4</td>\n",
       "    </tr>\n",
       "    <tr>\n",
       "      <th>Competitor made better offer</th>\n",
       "      <td>0</td>\n",
       "      <td>136</td>\n",
       "      <td>0</td>\n",
       "      <td>4</td>\n",
       "      <td>0</td>\n",
       "    </tr>\n",
       "    <tr>\n",
       "      <th>Competitor offered higher download speeds</th>\n",
       "      <td>28</td>\n",
       "      <td>158</td>\n",
       "      <td>0</td>\n",
       "      <td>2</td>\n",
       "      <td>1</td>\n",
       "    </tr>\n",
       "    <tr>\n",
       "      <th>Competitor offered more data</th>\n",
       "      <td>9</td>\n",
       "      <td>152</td>\n",
       "      <td>0</td>\n",
       "      <td>1</td>\n",
       "      <td>0</td>\n",
       "    </tr>\n",
       "    <tr>\n",
       "      <th>Don't know</th>\n",
       "      <td>0</td>\n",
       "      <td>15</td>\n",
       "      <td>0</td>\n",
       "      <td>133</td>\n",
       "      <td>6</td>\n",
       "    </tr>\n",
       "    <tr>\n",
       "      <th>Extra data charges</th>\n",
       "      <td>0</td>\n",
       "      <td>16</td>\n",
       "      <td>0</td>\n",
       "      <td>1</td>\n",
       "      <td>40</td>\n",
       "    </tr>\n",
       "    <tr>\n",
       "      <th>Lack of affordable download/upload speed</th>\n",
       "      <td>5</td>\n",
       "      <td>8</td>\n",
       "      <td>0</td>\n",
       "      <td>0</td>\n",
       "      <td>31</td>\n",
       "    </tr>\n",
       "    <tr>\n",
       "      <th>Lack of self-service on Website</th>\n",
       "      <td>38</td>\n",
       "      <td>16</td>\n",
       "      <td>29</td>\n",
       "      <td>0</td>\n",
       "      <td>5</td>\n",
       "    </tr>\n",
       "    <tr>\n",
       "      <th>Limited range of services</th>\n",
       "      <td>0</td>\n",
       "      <td>6</td>\n",
       "      <td>37</td>\n",
       "      <td>1</td>\n",
       "      <td>0</td>\n",
       "    </tr>\n",
       "    <tr>\n",
       "      <th>Long distance charges</th>\n",
       "      <td>0</td>\n",
       "      <td>9</td>\n",
       "      <td>0</td>\n",
       "      <td>0</td>\n",
       "      <td>35</td>\n",
       "    </tr>\n",
       "    <tr>\n",
       "      <th>Network reliability</th>\n",
       "      <td>4</td>\n",
       "      <td>26</td>\n",
       "      <td>72</td>\n",
       "      <td>1</td>\n",
       "      <td>0</td>\n",
       "    </tr>\n",
       "    <tr>\n",
       "      <th>Poor expertise of online support</th>\n",
       "      <td>0</td>\n",
       "      <td>6</td>\n",
       "      <td>13</td>\n",
       "      <td>0</td>\n",
       "      <td>0</td>\n",
       "    </tr>\n",
       "    <tr>\n",
       "      <th>Poor expertise of phone support</th>\n",
       "      <td>0</td>\n",
       "      <td>8</td>\n",
       "      <td>12</td>\n",
       "      <td>0</td>\n",
       "      <td>0</td>\n",
       "    </tr>\n",
       "    <tr>\n",
       "      <th>Price too high</th>\n",
       "      <td>0</td>\n",
       "      <td>18</td>\n",
       "      <td>0</td>\n",
       "      <td>2</td>\n",
       "      <td>78</td>\n",
       "    </tr>\n",
       "    <tr>\n",
       "      <th>Product dissatisfaction</th>\n",
       "      <td>1</td>\n",
       "      <td>19</td>\n",
       "      <td>77</td>\n",
       "      <td>0</td>\n",
       "      <td>5</td>\n",
       "    </tr>\n",
       "    <tr>\n",
       "      <th>Service dissatisfaction</th>\n",
       "      <td>0</td>\n",
       "      <td>25</td>\n",
       "      <td>63</td>\n",
       "      <td>1</td>\n",
       "      <td>0</td>\n",
       "    </tr>\n",
       "  </tbody>\n",
       "</table>\n",
       "</div>"
      ],
      "text/plain": [
       "Churn Category                             Attitude  Competitor  \\\n",
       "Churn Reason                                                      \n",
       "Attitude of service provider                     91          40   \n",
       "Attitude of support person                      138          50   \n",
       "Competitor had better devices                     0         126   \n",
       "Competitor made better offer                      0         136   \n",
       "Competitor offered higher download speeds        28         158   \n",
       "Competitor offered more data                      9         152   \n",
       "Don't know                                        0          15   \n",
       "Extra data charges                                0          16   \n",
       "Lack of affordable download/upload speed          5           8   \n",
       "Lack of self-service on Website                  38          16   \n",
       "Limited range of services                         0           6   \n",
       "Long distance charges                             0           9   \n",
       "Network reliability                               4          26   \n",
       "Poor expertise of online support                  0           6   \n",
       "Poor expertise of phone support                   0           8   \n",
       "Price too high                                    0          18   \n",
       "Product dissatisfaction                           1          19   \n",
       "Service dissatisfaction                           0          25   \n",
       "\n",
       "Churn Category                             Dissatisfaction  Other  Price  \n",
       "Churn Reason                                                              \n",
       "Attitude of service provider                             0      1      3  \n",
       "Attitude of support person                               0      1      3  \n",
       "Competitor had better devices                            0      0      4  \n",
       "Competitor made better offer                             0      4      0  \n",
       "Competitor offered higher download speeds                0      2      1  \n",
       "Competitor offered more data                             0      1      0  \n",
       "Don't know                                               0    133      6  \n",
       "Extra data charges                                       0      1     40  \n",
       "Lack of affordable download/upload speed                 0      0     31  \n",
       "Lack of self-service on Website                         29      0      5  \n",
       "Limited range of services                               37      1      0  \n",
       "Long distance charges                                    0      0     35  \n",
       "Network reliability                                     72      1      0  \n",
       "Poor expertise of online support                        13      0      0  \n",
       "Poor expertise of phone support                         12      0      0  \n",
       "Price too high                                           0      2     78  \n",
       "Product dissatisfaction                                 77      0      5  \n",
       "Service dissatisfaction                                 63      1      0  "
      ]
     },
     "execution_count": 18,
     "metadata": {},
     "output_type": "execute_result"
    }
   ],
   "source": [
    "pd.crosstab(data['Churn Reason'], data['Churn Category'])"
   ]
  },
  {
   "cell_type": "markdown",
   "id": "ac4c3f8a",
   "metadata": {},
   "source": [
    "데이터 불균형이 확인된다. 보다시피 'Joined', 'Stayed', 'Churned' 고객이 있다."
   ]
  },
  {
   "cell_type": "code",
   "execution_count": 19,
   "id": "ce97bfa7",
   "metadata": {
    "ExecuteTime": {
     "end_time": "2024-11-07T02:41:53.784600Z",
     "start_time": "2024-11-07T02:41:53.762609Z"
    }
   },
   "outputs": [
    {
     "data": {
      "text/plain": [
       "Customer Status\n",
       "0    4720\n",
       "1    1810\n",
       "Name: count, dtype: int64"
      ]
     },
     "execution_count": 19,
     "metadata": {},
     "output_type": "execute_result"
    }
   ],
   "source": [
    "data['Customer Status'].value_counts()"
   ]
  },
  {
   "cell_type": "code",
   "execution_count": 20,
   "id": "9c35739c",
   "metadata": {
    "ExecuteTime": {
     "end_time": "2024-11-07T02:41:54.219521Z",
     "start_time": "2024-11-07T02:41:54.167953Z"
    }
   },
   "outputs": [
    {
     "data": {
      "text/html": [
       "<div>\n",
       "<style scoped>\n",
       "    .dataframe tbody tr th:only-of-type {\n",
       "        vertical-align: middle;\n",
       "    }\n",
       "\n",
       "    .dataframe tbody tr th {\n",
       "        vertical-align: top;\n",
       "    }\n",
       "\n",
       "    .dataframe thead th {\n",
       "        text-align: right;\n",
       "    }\n",
       "</style>\n",
       "<table border=\"1\" class=\"dataframe\">\n",
       "  <thead>\n",
       "    <tr style=\"text-align: right;\">\n",
       "      <th></th>\n",
       "      <th>gender</th>\n",
       "      <th>SeniorCitizen</th>\n",
       "      <th>Partner</th>\n",
       "      <th>Dependents</th>\n",
       "      <th>tenure</th>\n",
       "      <th>PhoneService</th>\n",
       "      <th>MultipleLines</th>\n",
       "      <th>InternetService</th>\n",
       "      <th>OnlineSecurity</th>\n",
       "      <th>OnlineBackup</th>\n",
       "      <th>...</th>\n",
       "      <th>Premium Tech Support</th>\n",
       "      <th>Unlimited Data</th>\n",
       "      <th>Total Refunds</th>\n",
       "      <th>Total Extra Data Charges</th>\n",
       "      <th>Total Long Distance Charges</th>\n",
       "      <th>Total Revenue</th>\n",
       "      <th>Satisfaction Score</th>\n",
       "      <th>Customer Status</th>\n",
       "      <th>Churn Score.1</th>\n",
       "      <th>Churn Category</th>\n",
       "    </tr>\n",
       "  </thead>\n",
       "  <tbody>\n",
       "    <tr>\n",
       "      <th>0</th>\n",
       "      <td>Male</td>\n",
       "      <td>0</td>\n",
       "      <td>0</td>\n",
       "      <td>0</td>\n",
       "      <td>2</td>\n",
       "      <td>1</td>\n",
       "      <td>0</td>\n",
       "      <td>DSL</td>\n",
       "      <td>1</td>\n",
       "      <td>1</td>\n",
       "      <td>...</td>\n",
       "      <td>0</td>\n",
       "      <td>1</td>\n",
       "      <td>0.0</td>\n",
       "      <td>0</td>\n",
       "      <td>20.94</td>\n",
       "      <td>129.09</td>\n",
       "      <td>1</td>\n",
       "      <td>1</td>\n",
       "      <td>86</td>\n",
       "      <td>Competitor</td>\n",
       "    </tr>\n",
       "    <tr>\n",
       "      <th>4</th>\n",
       "      <td>Male</td>\n",
       "      <td>0</td>\n",
       "      <td>0</td>\n",
       "      <td>0</td>\n",
       "      <td>49</td>\n",
       "      <td>1</td>\n",
       "      <td>1</td>\n",
       "      <td>Fiber optic</td>\n",
       "      <td>0</td>\n",
       "      <td>1</td>\n",
       "      <td>...</td>\n",
       "      <td>0</td>\n",
       "      <td>1</td>\n",
       "      <td>0.0</td>\n",
       "      <td>0</td>\n",
       "      <td>2172.17</td>\n",
       "      <td>7208.47</td>\n",
       "      <td>1</td>\n",
       "      <td>1</td>\n",
       "      <td>89</td>\n",
       "      <td>Competitor</td>\n",
       "    </tr>\n",
       "    <tr>\n",
       "      <th>5</th>\n",
       "      <td>Female</td>\n",
       "      <td>0</td>\n",
       "      <td>1</td>\n",
       "      <td>1</td>\n",
       "      <td>10</td>\n",
       "      <td>1</td>\n",
       "      <td>0</td>\n",
       "      <td>DSL</td>\n",
       "      <td>0</td>\n",
       "      <td>0</td>\n",
       "      <td>...</td>\n",
       "      <td>1</td>\n",
       "      <td>1</td>\n",
       "      <td>0.0</td>\n",
       "      <td>0</td>\n",
       "      <td>94.10</td>\n",
       "      <td>622.45</td>\n",
       "      <td>1</td>\n",
       "      <td>1</td>\n",
       "      <td>78</td>\n",
       "      <td>Competitor</td>\n",
       "    </tr>\n",
       "  </tbody>\n",
       "</table>\n",
       "<p>3 rows × 40 columns</p>\n",
       "</div>"
      ],
      "text/plain": [
       "   gender  SeniorCitizen  Partner  Dependents  tenure  PhoneService  \\\n",
       "0    Male              0        0           0       2             1   \n",
       "4    Male              0        0           0      49             1   \n",
       "5  Female              0        1           1      10             1   \n",
       "\n",
       "   MultipleLines InternetService  OnlineSecurity  OnlineBackup  ...  \\\n",
       "0              0             DSL               1             1  ...   \n",
       "4              1     Fiber optic               0             1  ...   \n",
       "5              0             DSL               0             0  ...   \n",
       "\n",
       "   Premium Tech Support  Unlimited Data  Total Refunds  \\\n",
       "0                     0               1            0.0   \n",
       "4                     0               1            0.0   \n",
       "5                     1               1            0.0   \n",
       "\n",
       "   Total Extra Data Charges Total Long Distance Charges  Total Revenue  \\\n",
       "0                         0                       20.94         129.09   \n",
       "4                         0                     2172.17        7208.47   \n",
       "5                         0                       94.10         622.45   \n",
       "\n",
       "  Satisfaction Score  Customer Status Churn Score.1  Churn Category  \n",
       "0                  1                1            86      Competitor  \n",
       "4                  1                1            89      Competitor  \n",
       "5                  1                1            78      Competitor  \n",
       "\n",
       "[3 rows x 40 columns]"
      ]
     },
     "execution_count": 20,
     "metadata": {},
     "output_type": "execute_result"
    }
   ],
   "source": [
    "data = data[data['Customer Status'] != 'Joined']\n",
    "data.head(3)"
   ]
  },
  {
   "cell_type": "markdown",
   "id": "91b22af8",
   "metadata": {},
   "source": [
    "Gender은 이탈율에 영향을 주지 않는 것 처럼 보인다."
   ]
  },
  {
   "cell_type": "code",
   "execution_count": 21,
   "id": "5ef4d2bb",
   "metadata": {
    "ExecuteTime": {
     "end_time": "2024-11-07T02:41:55.076989Z",
     "start_time": "2024-11-07T02:41:55.043702Z"
    }
   },
   "outputs": [
    {
     "data": {
      "text/html": [
       "<div>\n",
       "<style scoped>\n",
       "    .dataframe tbody tr th:only-of-type {\n",
       "        vertical-align: middle;\n",
       "    }\n",
       "\n",
       "    .dataframe tbody tr th {\n",
       "        vertical-align: top;\n",
       "    }\n",
       "\n",
       "    .dataframe thead th {\n",
       "        text-align: right;\n",
       "    }\n",
       "</style>\n",
       "<table border=\"1\" class=\"dataframe\">\n",
       "  <thead>\n",
       "    <tr style=\"text-align: right;\">\n",
       "      <th>gender</th>\n",
       "      <th>Female</th>\n",
       "      <th>Male</th>\n",
       "    </tr>\n",
       "    <tr>\n",
       "      <th>Customer Status</th>\n",
       "      <th></th>\n",
       "      <th></th>\n",
       "    </tr>\n",
       "  </thead>\n",
       "  <tbody>\n",
       "    <tr>\n",
       "      <th>0</th>\n",
       "      <td>2338</td>\n",
       "      <td>2382</td>\n",
       "    </tr>\n",
       "    <tr>\n",
       "      <th>1</th>\n",
       "      <td>910</td>\n",
       "      <td>900</td>\n",
       "    </tr>\n",
       "  </tbody>\n",
       "</table>\n",
       "</div>"
      ],
      "text/plain": [
       "gender           Female  Male\n",
       "Customer Status              \n",
       "0                  2338  2382\n",
       "1                   910   900"
      ]
     },
     "execution_count": 21,
     "metadata": {},
     "output_type": "execute_result"
    }
   ],
   "source": [
    "pd.crosstab(data['Customer Status'], data['gender'])"
   ]
  },
  {
   "cell_type": "code",
   "execution_count": 22,
   "id": "cfad014c",
   "metadata": {
    "ExecuteTime": {
     "end_time": "2024-11-07T02:41:55.527473Z",
     "start_time": "2024-11-07T02:41:55.494448Z"
    }
   },
   "outputs": [
    {
     "data": {
      "text/html": [
       "<div>\n",
       "<style scoped>\n",
       "    .dataframe tbody tr th:only-of-type {\n",
       "        vertical-align: middle;\n",
       "    }\n",
       "\n",
       "    .dataframe tbody tr th {\n",
       "        vertical-align: top;\n",
       "    }\n",
       "\n",
       "    .dataframe thead th {\n",
       "        text-align: right;\n",
       "    }\n",
       "</style>\n",
       "<table border=\"1\" class=\"dataframe\">\n",
       "  <thead>\n",
       "    <tr style=\"text-align: right;\">\n",
       "      <th>Customer Status</th>\n",
       "      <th>0</th>\n",
       "      <th>1</th>\n",
       "    </tr>\n",
       "    <tr>\n",
       "      <th>Contract</th>\n",
       "      <th></th>\n",
       "      <th></th>\n",
       "    </tr>\n",
       "  </thead>\n",
       "  <tbody>\n",
       "    <tr>\n",
       "      <th>Month-to-month</th>\n",
       "      <td>1790</td>\n",
       "      <td>1606</td>\n",
       "    </tr>\n",
       "    <tr>\n",
       "      <th>One year</th>\n",
       "      <td>1289</td>\n",
       "      <td>156</td>\n",
       "    </tr>\n",
       "    <tr>\n",
       "      <th>Two year</th>\n",
       "      <td>1641</td>\n",
       "      <td>48</td>\n",
       "    </tr>\n",
       "  </tbody>\n",
       "</table>\n",
       "</div>"
      ],
      "text/plain": [
       "Customer Status     0     1\n",
       "Contract                   \n",
       "Month-to-month   1790  1606\n",
       "One year         1289   156\n",
       "Two year         1641    48"
      ]
     },
     "execution_count": 22,
     "metadata": {},
     "output_type": "execute_result"
    }
   ],
   "source": [
    "pd.crosstab(data['Contract'], data['Customer Status'])"
   ]
  },
  {
   "cell_type": "markdown",
   "id": "3c641a9e",
   "metadata": {},
   "source": [
    "단기 계약이 더 인기 있고 단기 계약을 통해 고객들이 더 많이 이탈하는 것으로 보인다.\n",
    "\n",
    "고객이 회사와 더 많은 시간을 보낼수록 장기적으로 계약을 선택한다."
   ]
  },
  {
   "cell_type": "code",
   "execution_count": 23,
   "id": "b9d41729",
   "metadata": {
    "ExecuteTime": {
     "end_time": "2024-11-07T02:41:57.121037Z",
     "start_time": "2024-11-07T02:41:56.439589Z"
    }
   },
   "outputs": [
    {
     "data": {
      "text/plain": [
       "<Axes: xlabel='Contract', ylabel='tenure'>"
      ]
     },
     "execution_count": 23,
     "metadata": {},
     "output_type": "execute_result"
    },
    {
     "data": {
      "image/png": "[encoded data removed]",
      "text/plain": [
       "<Figure size 640x480 with 1 Axes>"
      ]
     },
     "metadata": {},
     "output_type": "display_data"
    }
   ],
   "source": [
    "sns.violinplot(x = data['Contract'], y = data['tenure'])"
   ]
  },
  {
   "cell_type": "code",
   "execution_count": 24,
   "id": "05ccb1ed",
   "metadata": {
    "ExecuteTime": {
     "end_time": "2024-11-07T02:41:57.475145Z",
     "start_time": "2024-11-07T02:41:57.125015Z"
    }
   },
   "outputs": [
    {
     "data": {
      "text/plain": [
       "<Axes: xlabel='Customer Status', ylabel='tenure'>"
      ]
     },
     "execution_count": 24,
     "metadata": {},
     "output_type": "execute_result"
    },
    {
     "data": {
      "image/png": "[encoded data removed]",
      "text/plain": [
       "<Figure size 640x480 with 1 Axes>"
      ]
     },
     "metadata": {},
     "output_type": "display_data"
    }
   ],
   "source": [
    "sns.violinplot(x = data['Customer Status'], y = data['tenure'])"
   ]
  },
  {
   "cell_type": "markdown",
   "id": "40b2291d",
   "metadata": {},
   "source": [
    "종이없는 청구서를 받는 고객이 더 많이 이탈하는 것 같다."
   ]
  },
  {
   "cell_type": "code",
   "execution_count": 25,
   "id": "09100170",
   "metadata": {
    "ExecuteTime": {
     "end_time": "2024-11-07T02:41:57.758347Z",
     "start_time": "2024-11-07T02:41:57.725433Z"
    }
   },
   "outputs": [
    {
     "data": {
      "text/html": [
       "<div>\n",
       "<style scoped>\n",
       "    .dataframe tbody tr th:only-of-type {\n",
       "        vertical-align: middle;\n",
       "    }\n",
       "\n",
       "    .dataframe tbody tr th {\n",
       "        vertical-align: top;\n",
       "    }\n",
       "\n",
       "    .dataframe thead th {\n",
       "        text-align: right;\n",
       "    }\n",
       "</style>\n",
       "<table border=\"1\" class=\"dataframe\">\n",
       "  <thead>\n",
       "    <tr style=\"text-align: right;\">\n",
       "      <th>Customer Status</th>\n",
       "      <th>0</th>\n",
       "      <th>1</th>\n",
       "    </tr>\n",
       "    <tr>\n",
       "      <th>PaperlessBilling</th>\n",
       "      <th></th>\n",
       "      <th></th>\n",
       "    </tr>\n",
       "  </thead>\n",
       "  <tbody>\n",
       "    <tr>\n",
       "      <th>0</th>\n",
       "      <td>2146</td>\n",
       "      <td>448</td>\n",
       "    </tr>\n",
       "    <tr>\n",
       "      <th>1</th>\n",
       "      <td>2574</td>\n",
       "      <td>1362</td>\n",
       "    </tr>\n",
       "  </tbody>\n",
       "</table>\n",
       "</div>"
      ],
      "text/plain": [
       "Customer Status      0     1\n",
       "PaperlessBilling            \n",
       "0                 2146   448\n",
       "1                 2574  1362"
      ]
     },
     "execution_count": 25,
     "metadata": {},
     "output_type": "execute_result"
    }
   ],
   "source": [
    "pd.crosstab(data['PaperlessBilling'], data['Customer Status'])"
   ]
  },
  {
   "cell_type": "markdown",
   "id": "e1402ec8",
   "metadata": {},
   "source": [
    "'Total Long Distance Charges' = 'tenure' * 'Avg Monthly Long Distance Charges' 일 것이다."
   ]
  },
  {
   "cell_type": "code",
   "execution_count": 26,
   "id": "e3cdfff5",
   "metadata": {
    "ExecuteTime": {
     "end_time": "2024-11-07T02:41:59.229011Z",
     "start_time": "2024-11-07T02:41:58.624397Z"
    }
   },
   "outputs": [
    {
     "name": "stderr",
     "output_type": "stream",
     "text": [
      "C:\\Users\\LG\\anaconda3\\lib\\site-packages\\seaborn\\_oldcore.py:1119: FutureWarning: use_inf_as_na option is deprecated and will be removed in a future version. Convert inf values to NaN before operating instead.\n",
      "  with pd.option_context('mode.use_inf_as_na', True):\n"
     ]
    },
    {
     "data": {
      "text/plain": [
       "<Axes: xlabel='Total Long Distance Charges', ylabel='Count'>"
      ]
     },
     "execution_count": 26,
     "metadata": {},
     "output_type": "execute_result"
    },
    {
     "data": {
      "image/png": "[encoded data removed]",
      "text/plain": [
       "<Figure size 640x480 with 1 Axes>"
      ]
     },
     "metadata": {},
     "output_type": "display_data"
    }
   ],
   "source": [
    "sns.histplot(data['Total Long Distance Charges'])"
   ]
  },
  {
   "cell_type": "code",
   "execution_count": 27,
   "id": "28e7935f",
   "metadata": {
    "ExecuteTime": {
     "end_time": "2024-11-07T02:41:59.627256Z",
     "start_time": "2024-11-07T02:41:59.235406Z"
    }
   },
   "outputs": [
    {
     "name": "stderr",
     "output_type": "stream",
     "text": [
      "C:\\Users\\LG\\anaconda3\\lib\\site-packages\\seaborn\\_oldcore.py:1119: FutureWarning: use_inf_as_na option is deprecated and will be removed in a future version. Convert inf values to NaN before operating instead.\n",
      "  with pd.option_context('mode.use_inf_as_na', True):\n"
     ]
    },
    {
     "data": {
      "text/plain": [
       "<Axes: xlabel='Avg Monthly Long Distance Charges', ylabel='Count'>"
      ]
     },
     "execution_count": 27,
     "metadata": {},
     "output_type": "execute_result"
    },
    {
     "data": {
      "image/png": "[encoded data removed]",
      "text/plain": [
       "<Figure size 640x480 with 1 Axes>"
      ]
     },
     "metadata": {},
     "output_type": "display_data"
    }
   ],
   "source": [
    "sns.histplot(data['Avg Monthly Long Distance Charges'])"
   ]
  },
  {
   "cell_type": "code",
   "execution_count": 28,
   "id": "fb7abcb6",
   "metadata": {
    "ExecuteTime": {
     "end_time": "2024-11-07T02:41:59.907609Z",
     "start_time": "2024-11-07T02:41:59.882622Z"
    }
   },
   "outputs": [
    {
     "data": {
      "text/plain": [
       "True     6521\n",
       "False       9\n",
       "Name: count, dtype: int64"
      ]
     },
     "execution_count": 28,
     "metadata": {},
     "output_type": "execute_result"
    }
   ],
   "source": [
    "((data['Avg Monthly Long Distance Charges'] * data['tenure'] - data['Total Long Distance Charges']).abs() < 1e-7).value_counts()"
   ]
  },
  {
   "cell_type": "markdown",
   "id": "a03432f7",
   "metadata": {},
   "source": [
    "1. data['Avg Monthly Long Distance Charges'] * data['tenure']\n",
    "- 사용자가 tenure 기간 동안 매월 지불한 평균 장거리 전화 요금의 총합을 나타낸다.\n",
    "2. - data['Total Long Distance Charges']\n",
    "- 두 값 간의 차이를 나타낸다.\n",
    "3. .abs()\n",
    "- 차이의 절대값을 계산한다. 절대값을 취하는 이유는 음수나 양수 차이에 상관없이 그 차이를 비교할 수 있도록 하기 위함이다.\n",
    "4. < 1e-7\n",
    "- 절대값이 1e-7(즉, 0.0000001)보다 작은지 비교한다. 이 조건은 두 값이 매우 가까운지(거의 같다고 볼 수 있는지) 확인하는 역할을 한다.\n",
    "5. .value_counts()\n",
    "- 위 조건의 결과가 True 인지 False 인지 세어 각각의 개수를 반환한다.\n",
    "- True는 두 값이 거의 같은 경우의 개수를 나타내고, False는 그렇지 않은 경우의 개수를 나타낸다."
   ]
  },
  {
   "cell_type": "code",
   "execution_count": 29,
   "id": "8dabea33",
   "metadata": {
    "ExecuteTime": {
     "end_time": "2024-11-07T02:42:01.453519Z",
     "start_time": "2024-11-07T02:42:01.432195Z"
    }
   },
   "outputs": [],
   "source": [
    "data.drop('Total Long Distance Charges', axis = 1, inplace = True)"
   ]
  },
  {
   "cell_type": "markdown",
   "id": "43d92c57",
   "metadata": {},
   "source": [
    "\"Total Long Distance Charges\" 변수를 삭제하는 이유는, 해당 변수가 다른 변수들로부터 계산될 수 있기 때문입니다. 구체적으로, \"Total Long Distance Charges\"는 보통 Avg Monthly Long Distance Charges와 tenure를 곱해서 얻을 수 있습니다. 따라서 이 변수가 데이터에 포함되어 있으면 중복 정보를 제공하게 됩니다.\n",
    "\n",
    "1. 중복성 제거: \"Total Long Distance Charges\"는 이미 다른 변수 (Avg Monthly Long Distance Charges와 tenure)로 설명할 수 있는 정보입니다. 데이터에서 중복 변수를 제거하면 모델 학습이 더 효율적이고 간결해질 수 있습니다.\n",
    "2. 차원의 축소: 데이터의 차원을 줄여서 모델의 복잡성을 줄이고, 과적합(overfitting)을 방지할 수 있습니다.\n",
    "3. 분석 및 해석 용이성: 불필요한 변수를 제거하면 데이터가 더 간단해지고, 분석하기 쉬워집니다.\n"
   ]
  },
  {
   "cell_type": "markdown",
   "id": "518c0738",
   "metadata": {},
   "source": [
    "'Total Refund' 변수에는 많은 정보가 없다."
   ]
  },
  {
   "cell_type": "code",
   "execution_count": 30,
   "id": "97843c69",
   "metadata": {
    "ExecuteTime": {
     "end_time": "2024-11-07T02:42:03.252619Z",
     "start_time": "2024-11-07T02:42:02.851512Z"
    }
   },
   "outputs": [
    {
     "name": "stderr",
     "output_type": "stream",
     "text": [
      "C:\\Users\\LG\\anaconda3\\lib\\site-packages\\seaborn\\_oldcore.py:1119: FutureWarning: use_inf_as_na option is deprecated and will be removed in a future version. Convert inf values to NaN before operating instead.\n",
      "  with pd.option_context('mode.use_inf_as_na', True):\n"
     ]
    },
    {
     "data": {
      "text/plain": [
       "<Axes: xlabel='Total Refunds', ylabel='Count'>"
      ]
     },
     "execution_count": 30,
     "metadata": {},
     "output_type": "execute_result"
    },
    {
     "data": {
      "image/png": "[encoded data removed]",
      "text/plain": [
       "<Figure size 640x480 with 1 Axes>"
      ]
     },
     "metadata": {},
     "output_type": "display_data"
    }
   ],
   "source": [
    "sns.histplot(data['Total Refunds'], bins = 3)"
   ]
  },
  {
   "cell_type": "code",
   "execution_count": 31,
   "id": "f0e7ac88",
   "metadata": {
    "ExecuteTime": {
     "end_time": "2024-11-07T02:42:03.283437Z",
     "start_time": "2024-11-07T02:42:03.257609Z"
    }
   },
   "outputs": [
    {
     "data": {
      "text/plain": [
       "Total Refunds\n",
       "False    6010\n",
       "True      520\n",
       "Name: count, dtype: int64"
      ]
     },
     "execution_count": 31,
     "metadata": {},
     "output_type": "execute_result"
    }
   ],
   "source": [
    "(data['Total Refunds'] > 0).value_counts()"
   ]
  },
  {
   "cell_type": "code",
   "execution_count": 32,
   "id": "3a54c820",
   "metadata": {
    "ExecuteTime": {
     "end_time": "2024-11-07T02:42:03.688637Z",
     "start_time": "2024-11-07T02:42:03.662061Z"
    }
   },
   "outputs": [],
   "source": [
    "data['Refunds'] = (data['Total Refunds'] > 0).astype('float')\n",
    "data.drop('Total Refunds', axis = 1, inplace = True)"
   ]
  },
  {
   "cell_type": "markdown",
   "id": "3a05efaa",
   "metadata": {},
   "source": [
    "- 목적: \"Total Refunds\"를 더 간결한 이진형 변수 \"Refunds\"로 변환하여, 환불 여부를 나타내는 간단한 형태로 데이터에 포함시키기 위함입니다. 이는 분석 및 모델링에 유용할 수 있습니다.\n",
    "- 효과: 데이터의 복잡성을 줄이고, 환불 여부를 더 직관적으로 사용할 수 있게 합니다. True/False를 1.0과 0.0으로 변환하여 수치형 변수로 만들면, 머신러닝 모델에서 더 쉽게 다룰 수 있습니다."
   ]
  },
  {
   "cell_type": "markdown",
   "id": "ea721650",
   "metadata": {},
   "source": [
    "'Total Extra Data Charges' 변수에는 많은 정보가 없다."
   ]
  },
  {
   "cell_type": "code",
   "execution_count": 33,
   "id": "901e669e",
   "metadata": {
    "ExecuteTime": {
     "end_time": "2024-11-07T02:42:05.358661Z",
     "start_time": "2024-11-07T02:42:04.991607Z"
    }
   },
   "outputs": [
    {
     "name": "stderr",
     "output_type": "stream",
     "text": [
      "C:\\Users\\LG\\anaconda3\\lib\\site-packages\\seaborn\\_oldcore.py:1119: FutureWarning: use_inf_as_na option is deprecated and will be removed in a future version. Convert inf values to NaN before operating instead.\n",
      "  with pd.option_context('mode.use_inf_as_na', True):\n"
     ]
    },
    {
     "data": {
      "text/plain": [
       "<Axes: xlabel='Total Extra Data Charges', ylabel='Count'>"
      ]
     },
     "execution_count": 33,
     "metadata": {},
     "output_type": "execute_result"
    },
    {
     "data": {
      "image/png": "[encoded data removed]",
      "text/plain": [
       "<Figure size 640x480 with 1 Axes>"
      ]
     },
     "metadata": {},
     "output_type": "display_data"
    }
   ],
   "source": [
    "sns.histplot(data['Total Extra Data Charges'], bins = 3)"
   ]
  },
  {
   "cell_type": "code",
   "execution_count": 34,
   "id": "6848e9cb",
   "metadata": {
    "ExecuteTime": {
     "end_time": "2024-11-07T02:42:06.252947Z",
     "start_time": "2024-11-07T02:42:06.226365Z"
    }
   },
   "outputs": [
    {
     "data": {
      "text/plain": [
       "Total Extra Data Charges\n",
       "False    5852\n",
       "True      678\n",
       "Name: count, dtype: int64"
      ]
     },
     "execution_count": 34,
     "metadata": {},
     "output_type": "execute_result"
    }
   ],
   "source": [
    "(data[\"Total Extra Data Charges\"] > 0).value_counts()"
   ]
  },
  {
   "cell_type": "code",
   "execution_count": 35,
   "id": "5439969d",
   "metadata": {
    "ExecuteTime": {
     "end_time": "2024-11-07T02:42:07.708313Z",
     "start_time": "2024-11-07T02:42:07.693245Z"
    }
   },
   "outputs": [],
   "source": [
    "data[\"Has Extra Data Charges\"] = (data[\"Total Extra Data Charges\"] > 0).astype(\"float\")\n",
    "data.drop(\"Total Extra Data Charges\", axis = 1, inplace = True)"
   ]
  },
  {
   "cell_type": "code",
   "execution_count": 36,
   "id": "5de9f7bd",
   "metadata": {
    "ExecuteTime": {
     "end_time": "2024-11-07T02:42:08.825010Z",
     "start_time": "2024-11-07T02:42:08.452990Z"
    }
   },
   "outputs": [
    {
     "name": "stderr",
     "output_type": "stream",
     "text": [
      "C:\\Users\\LG\\anaconda3\\lib\\site-packages\\seaborn\\_oldcore.py:1119: FutureWarning: use_inf_as_na option is deprecated and will be removed in a future version. Convert inf values to NaN before operating instead.\n",
      "  with pd.option_context('mode.use_inf_as_na', True):\n"
     ]
    },
    {
     "data": {
      "text/plain": [
       "<Axes: xlabel='Total Revenue', ylabel='Count'>"
      ]
     },
     "execution_count": 36,
     "metadata": {},
     "output_type": "execute_result"
    },
    {
     "data": {
      "image/png": "[encoded data removed]",
      "text/plain": [
       "<Figure size 640x480 with 1 Axes>"
      ]
     },
     "metadata": {},
     "output_type": "display_data"
    }
   ],
   "source": [
    "sns.histplot(data['Total Revenue'])"
   ]
  },
  {
   "cell_type": "markdown",
   "id": "b44136e3",
   "metadata": {
    "ExecuteTime": {
     "end_time": "2024-11-05T03:30:53.074744Z",
     "start_time": "2024-11-05T03:30:53.029676Z"
    }
   },
   "source": [
    "## Encoding"
   ]
  },
  {
   "cell_type": "code",
   "execution_count": 37,
   "id": "b62c5f42",
   "metadata": {
    "ExecuteTime": {
     "end_time": "2024-11-07T02:42:13.628554Z",
     "start_time": "2024-11-07T02:42:13.608129Z"
    }
   },
   "outputs": [],
   "source": [
    "data_backup = data.copy()"
   ]
  },
  {
   "cell_type": "code",
   "execution_count": 38,
   "id": "938cec14",
   "metadata": {
    "ExecuteTime": {
     "end_time": "2024-11-07T02:42:14.411235Z",
     "start_time": "2024-11-07T02:42:14.393247Z"
    }
   },
   "outputs": [],
   "source": [
    "data['Offer'] = data['Offer'].fillna('None')"
   ]
  },
  {
   "cell_type": "code",
   "execution_count": 39,
   "id": "46f2de6a",
   "metadata": {
    "ExecuteTime": {
     "end_time": "2024-11-07T02:42:15.231948Z",
     "start_time": "2024-11-07T02:42:15.180474Z"
    }
   },
   "outputs": [],
   "source": [
    "dummies = pd.get_dummies(data[['InternetService', 'Offer', 'PaymentMethod', 'Contract']], dtype = 'uint8')\n",
    "\n",
    "data = pd.concat([data, dummies], axis = 1)\n",
    "\n",
    "data.drop(['InternetService', 'Offer', 'PaymentMethod', 'Contract'], axis = 1, inplace = True)"
   ]
  },
  {
   "cell_type": "code",
   "execution_count": 40,
   "id": "0876c8d9",
   "metadata": {
    "ExecuteTime": {
     "end_time": "2024-11-07T02:42:15.985839Z",
     "start_time": "2024-11-07T02:42:15.968414Z"
    }
   },
   "outputs": [],
   "source": [
    "data['gender'] = data['gender'].map({'Male': 0, 'Female' : 1})"
   ]
  },
  {
   "cell_type": "code",
   "execution_count": 41,
   "id": "e2722ea8",
   "metadata": {
    "ExecuteTime": {
     "end_time": "2024-11-07T02:42:16.800229Z",
     "start_time": "2024-11-07T02:42:16.777750Z"
    }
   },
   "outputs": [
    {
     "data": {
      "text/plain": [
       "gender                                       int64\n",
       "SeniorCitizen                                int64\n",
       "Partner                                      int64\n",
       "Dependents                                   int64\n",
       "tenure                                       int64\n",
       "PhoneService                                 int64\n",
       "MultipleLines                                int64\n",
       "OnlineSecurity                               int64\n",
       "OnlineBackup                                 int64\n",
       "DeviceProtection                             int64\n",
       "TechSupport                                  int64\n",
       "StreamingTV                                  int64\n",
       "StreamingMovies                              int64\n",
       "PaperlessBilling                             int64\n",
       "MonthlyCharges                             float64\n",
       "TotalCharges                                object\n",
       "Churn Score                                  int64\n",
       "CLTV                                         int64\n",
       "Churn Reason                                object\n",
       "Under 30                                     int64\n",
       "Married                                      int64\n",
       "Referred a Friend                            int64\n",
       "Number of Referrals                          int64\n",
       "Avg Monthly Long Distance Charges          float64\n",
       "Avg Monthly GB Download                      int64\n",
       "Streaming Music                              int64\n",
       "Premium Tech Support                         int64\n",
       "Unlimited Data                               int64\n",
       "Total Revenue                              float64\n",
       "Satisfaction Score                           int64\n",
       "Customer Status                              int64\n",
       "Churn Score.1                                int64\n",
       "Churn Category                              object\n",
       "Refunds                                    float64\n",
       "Has Extra Data Charges                     float64\n",
       "InternetService_DSL                          uint8\n",
       "InternetService_Fiber optic                  uint8\n",
       "InternetService_No                           uint8\n",
       "Offer_None                                   uint8\n",
       "Offer_Offer A                                uint8\n",
       "Offer_Offer B                                uint8\n",
       "Offer_Offer C                                uint8\n",
       "Offer_Offer D                                uint8\n",
       "Offer_Offer E                                uint8\n",
       "PaymentMethod_Bank transfer (automatic)      uint8\n",
       "PaymentMethod_Credit card (automatic)        uint8\n",
       "PaymentMethod_Electronic check               uint8\n",
       "PaymentMethod_Mailed check                   uint8\n",
       "Contract_Month-to-month                      uint8\n",
       "Contract_One year                            uint8\n",
       "Contract_Two year                            uint8\n",
       "dtype: object"
      ]
     },
     "execution_count": 41,
     "metadata": {},
     "output_type": "execute_result"
    }
   ],
   "source": [
    "data.dtypes"
   ]
  },
  {
   "cell_type": "markdown",
   "id": "c63b1ce6",
   "metadata": {},
   "source": [
    "## Nomalization"
   ]
  },
  {
   "cell_type": "code",
   "execution_count": 42,
   "id": "649eda56",
   "metadata": {
    "ExecuteTime": {
     "end_time": "2024-11-07T02:42:21.481536Z",
     "start_time": "2024-11-07T02:42:21.350137Z"
    }
   },
   "outputs": [],
   "source": [
    "numeric_features = data.select_dtypes(include = [np.number]).columns\n",
    "\n",
    "for feat in numeric_features:\n",
    "    if feat != \"Churn Category\" and feat != \"Churn Reason\":\n",
    "        data[feat] = (data[feat] - data[feat].min()) / (data[feat].max() - data[feat].min())\n",
    "        data[feat] = data[feat].astype(np.float32)"
   ]
  },
  {
   "cell_type": "code",
   "execution_count": 43,
   "id": "7477264f",
   "metadata": {
    "ExecuteTime": {
     "end_time": "2024-11-07T02:42:22.105485Z",
     "start_time": "2024-11-07T02:42:22.045526Z"
    }
   },
   "outputs": [
    {
     "data": {
      "text/html": [
       "<div>\n",
       "<style scoped>\n",
       "    .dataframe tbody tr th:only-of-type {\n",
       "        vertical-align: middle;\n",
       "    }\n",
       "\n",
       "    .dataframe tbody tr th {\n",
       "        vertical-align: top;\n",
       "    }\n",
       "\n",
       "    .dataframe thead th {\n",
       "        text-align: right;\n",
       "    }\n",
       "</style>\n",
       "<table border=\"1\" class=\"dataframe\">\n",
       "  <thead>\n",
       "    <tr style=\"text-align: right;\">\n",
       "      <th></th>\n",
       "      <th>gender</th>\n",
       "      <th>SeniorCitizen</th>\n",
       "      <th>Partner</th>\n",
       "      <th>Dependents</th>\n",
       "      <th>tenure</th>\n",
       "      <th>PhoneService</th>\n",
       "      <th>MultipleLines</th>\n",
       "      <th>OnlineSecurity</th>\n",
       "      <th>OnlineBackup</th>\n",
       "      <th>DeviceProtection</th>\n",
       "      <th>...</th>\n",
       "      <th>Offer_Offer C</th>\n",
       "      <th>Offer_Offer D</th>\n",
       "      <th>Offer_Offer E</th>\n",
       "      <th>PaymentMethod_Bank transfer (automatic)</th>\n",
       "      <th>PaymentMethod_Credit card (automatic)</th>\n",
       "      <th>PaymentMethod_Electronic check</th>\n",
       "      <th>PaymentMethod_Mailed check</th>\n",
       "      <th>Contract_Month-to-month</th>\n",
       "      <th>Contract_One year</th>\n",
       "      <th>Contract_Two year</th>\n",
       "    </tr>\n",
       "  </thead>\n",
       "  <tbody>\n",
       "    <tr>\n",
       "      <th>0</th>\n",
       "      <td>0.0</td>\n",
       "      <td>0.0</td>\n",
       "      <td>0.0</td>\n",
       "      <td>0.0</td>\n",
       "      <td>0.027778</td>\n",
       "      <td>1.0</td>\n",
       "      <td>0.0</td>\n",
       "      <td>1.0</td>\n",
       "      <td>1.0</td>\n",
       "      <td>0.0</td>\n",
       "      <td>...</td>\n",
       "      <td>0.0</td>\n",
       "      <td>0.0</td>\n",
       "      <td>0.0</td>\n",
       "      <td>0.0</td>\n",
       "      <td>0.0</td>\n",
       "      <td>0.0</td>\n",
       "      <td>1.0</td>\n",
       "      <td>1.0</td>\n",
       "      <td>0.0</td>\n",
       "      <td>0.0</td>\n",
       "    </tr>\n",
       "    <tr>\n",
       "      <th>4</th>\n",
       "      <td>0.0</td>\n",
       "      <td>0.0</td>\n",
       "      <td>0.0</td>\n",
       "      <td>0.0</td>\n",
       "      <td>0.680556</td>\n",
       "      <td>1.0</td>\n",
       "      <td>1.0</td>\n",
       "      <td>0.0</td>\n",
       "      <td>1.0</td>\n",
       "      <td>1.0</td>\n",
       "      <td>...</td>\n",
       "      <td>0.0</td>\n",
       "      <td>0.0</td>\n",
       "      <td>0.0</td>\n",
       "      <td>1.0</td>\n",
       "      <td>0.0</td>\n",
       "      <td>0.0</td>\n",
       "      <td>0.0</td>\n",
       "      <td>1.0</td>\n",
       "      <td>0.0</td>\n",
       "      <td>0.0</td>\n",
       "    </tr>\n",
       "  </tbody>\n",
       "</table>\n",
       "<p>2 rows × 51 columns</p>\n",
       "</div>"
      ],
      "text/plain": [
       "   gender  SeniorCitizen  Partner  Dependents    tenure  PhoneService  \\\n",
       "0     0.0            0.0      0.0         0.0  0.027778           1.0   \n",
       "4     0.0            0.0      0.0         0.0  0.680556           1.0   \n",
       "\n",
       "   MultipleLines  OnlineSecurity  OnlineBackup  DeviceProtection  ...  \\\n",
       "0            0.0             1.0           1.0               0.0  ...   \n",
       "4            1.0             0.0           1.0               1.0  ...   \n",
       "\n",
       "   Offer_Offer C  Offer_Offer D  Offer_Offer E  \\\n",
       "0            0.0            0.0            0.0   \n",
       "4            0.0            0.0            0.0   \n",
       "\n",
       "   PaymentMethod_Bank transfer (automatic)  \\\n",
       "0                                      0.0   \n",
       "4                                      1.0   \n",
       "\n",
       "   PaymentMethod_Credit card (automatic) PaymentMethod_Electronic check  \\\n",
       "0                                    0.0                            0.0   \n",
       "4                                    0.0                            0.0   \n",
       "\n",
       "   PaymentMethod_Mailed check  Contract_Month-to-month Contract_One year  \\\n",
       "0                         1.0                      1.0               0.0   \n",
       "4                         0.0                      1.0               0.0   \n",
       "\n",
       "   Contract_Two year  \n",
       "0                0.0  \n",
       "4                0.0  \n",
       "\n",
       "[2 rows x 51 columns]"
      ]
     },
     "execution_count": 43,
     "metadata": {},
     "output_type": "execute_result"
    }
   ],
   "source": [
    "data.head(2)"
   ]
  },
  {
   "cell_type": "code",
   "execution_count": 44,
   "id": "804fc24e",
   "metadata": {
    "ExecuteTime": {
     "end_time": "2024-11-07T02:42:23.277088Z",
     "start_time": "2024-11-07T02:42:23.257624Z"
    }
   },
   "outputs": [
    {
     "data": {
      "text/plain": [
       "gender                                     float32\n",
       "SeniorCitizen                              float32\n",
       "Partner                                    float32\n",
       "Dependents                                 float32\n",
       "tenure                                     float32\n",
       "PhoneService                               float32\n",
       "MultipleLines                              float32\n",
       "OnlineSecurity                             float32\n",
       "OnlineBackup                               float32\n",
       "DeviceProtection                           float32\n",
       "TechSupport                                float32\n",
       "StreamingTV                                float32\n",
       "StreamingMovies                            float32\n",
       "PaperlessBilling                           float32\n",
       "MonthlyCharges                             float32\n",
       "TotalCharges                                object\n",
       "Churn Score                                float32\n",
       "CLTV                                       float32\n",
       "Churn Reason                                object\n",
       "Under 30                                   float32\n",
       "Married                                    float32\n",
       "Referred a Friend                          float32\n",
       "Number of Referrals                        float32\n",
       "Avg Monthly Long Distance Charges          float32\n",
       "Avg Monthly GB Download                    float32\n",
       "Streaming Music                            float32\n",
       "Premium Tech Support                       float32\n",
       "Unlimited Data                             float32\n",
       "Total Revenue                              float32\n",
       "Satisfaction Score                         float32\n",
       "Customer Status                            float32\n",
       "Churn Score.1                              float32\n",
       "Churn Category                              object\n",
       "Refunds                                    float32\n",
       "Has Extra Data Charges                     float32\n",
       "InternetService_DSL                        float32\n",
       "InternetService_Fiber optic                float32\n",
       "InternetService_No                         float32\n",
       "Offer_None                                 float32\n",
       "Offer_Offer A                              float32\n",
       "Offer_Offer B                              float32\n",
       "Offer_Offer C                              float32\n",
       "Offer_Offer D                              float32\n",
       "Offer_Offer E                              float32\n",
       "PaymentMethod_Bank transfer (automatic)    float32\n",
       "PaymentMethod_Credit card (automatic)      float32\n",
       "PaymentMethod_Electronic check             float32\n",
       "PaymentMethod_Mailed check                 float32\n",
       "Contract_Month-to-month                    float32\n",
       "Contract_One year                          float32\n",
       "Contract_Two year                          float32\n",
       "dtype: object"
      ]
     },
     "execution_count": 44,
     "metadata": {},
     "output_type": "execute_result"
    }
   ],
   "source": [
    "data.dtypes"
   ]
  },
  {
   "cell_type": "code",
   "execution_count": 45,
   "id": "f14b981e",
   "metadata": {
    "ExecuteTime": {
     "end_time": "2024-11-07T02:42:27.228015Z",
     "start_time": "2024-11-07T02:42:27.195953Z"
    }
   },
   "outputs": [
    {
     "name": "stderr",
     "output_type": "stream",
     "text": [
      "C:\\Users\\LG\\AppData\\Local\\Temp\\ipykernel_1396\\2309747390.py:2: FutureWarning: A value is trying to be set on a copy of a DataFrame or Series through chained assignment using an inplace method.\n",
      "The behavior will change in pandas 3.0. This inplace method will never work because the intermediate object on which we are setting values always behaves as a copy.\n",
      "\n",
      "For example, when doing 'df[col].method(value, inplace=True)', try using 'df.method({col: value}, inplace=True)' or df[col] = df[col].method(value) instead, to perform the operation inplace on the original object.\n",
      "\n",
      "\n",
      "  data['TotalCharges'].replace(['', ' '], np.nan, inplace=True)\n"
     ]
    }
   ],
   "source": [
    "# 빈 문자열 및 공백을 NaN으로 변환\n",
    "data['TotalCharges'].replace(['', ' '], np.nan, inplace=True)\n",
    "\n",
    "# NaN 값을 처리 (예: 평균으로 대체하거나, NaN 그대로 두거나, 제거)\n",
    "# 예시: NaN 값을 0으로 대체\n",
    "data['TotalCharges'].fillna(0, inplace=True)\n",
    "\n",
    "# pd.to_numeric()를 사용하여 안전하게 float로 변환 (errors='coerce'를 사용하면 변환할 수 없는 값을 NaN으로 설정)\n",
    "data['TotalCharges'] = pd.to_numeric(data['TotalCharges'], errors='coerce')\n",
    "\n",
    "# 마지막으로, 타입을 float32로 변경\n",
    "data['TotalCharges'] = data['TotalCharges'].astype(np.float32)"
   ]
  },
  {
   "cell_type": "code",
   "execution_count": 46,
   "id": "f05f6c84",
   "metadata": {
    "ExecuteTime": {
     "end_time": "2024-11-07T02:42:31.880794Z",
     "start_time": "2024-11-07T02:42:31.853920Z"
    }
   },
   "outputs": [
    {
     "data": {
      "text/plain": [
       "gender                                     float32\n",
       "SeniorCitizen                              float32\n",
       "Partner                                    float32\n",
       "Dependents                                 float32\n",
       "tenure                                     float32\n",
       "PhoneService                               float32\n",
       "MultipleLines                              float32\n",
       "OnlineSecurity                             float32\n",
       "OnlineBackup                               float32\n",
       "DeviceProtection                           float32\n",
       "TechSupport                                float32\n",
       "StreamingTV                                float32\n",
       "StreamingMovies                            float32\n",
       "PaperlessBilling                           float32\n",
       "MonthlyCharges                             float32\n",
       "TotalCharges                               float32\n",
       "Churn Score                                float32\n",
       "CLTV                                       float32\n",
       "Churn Reason                                object\n",
       "Under 30                                   float32\n",
       "Married                                    float32\n",
       "Referred a Friend                          float32\n",
       "Number of Referrals                        float32\n",
       "Avg Monthly Long Distance Charges          float32\n",
       "Avg Monthly GB Download                    float32\n",
       "Streaming Music                            float32\n",
       "Premium Tech Support                       float32\n",
       "Unlimited Data                             float32\n",
       "Total Revenue                              float32\n",
       "Satisfaction Score                         float32\n",
       "Customer Status                            float32\n",
       "Churn Score.1                              float32\n",
       "Churn Category                              object\n",
       "Refunds                                    float32\n",
       "Has Extra Data Charges                     float32\n",
       "InternetService_DSL                        float32\n",
       "InternetService_Fiber optic                float32\n",
       "InternetService_No                         float32\n",
       "Offer_None                                 float32\n",
       "Offer_Offer A                              float32\n",
       "Offer_Offer B                              float32\n",
       "Offer_Offer C                              float32\n",
       "Offer_Offer D                              float32\n",
       "Offer_Offer E                              float32\n",
       "PaymentMethod_Bank transfer (automatic)    float32\n",
       "PaymentMethod_Credit card (automatic)      float32\n",
       "PaymentMethod_Electronic check             float32\n",
       "PaymentMethod_Mailed check                 float32\n",
       "Contract_Month-to-month                    float32\n",
       "Contract_One year                          float32\n",
       "Contract_Two year                          float32\n",
       "dtype: object"
      ]
     },
     "execution_count": 46,
     "metadata": {},
     "output_type": "execute_result"
    }
   ],
   "source": [
    "data.dtypes"
   ]
  },
  {
   "cell_type": "markdown",
   "id": "b20ae806",
   "metadata": {},
   "source": [
    "## Model building"
   ]
  },
  {
   "cell_type": "markdown",
   "id": "b9fa0943",
   "metadata": {},
   "source": [
    "### Churn prediction"
   ]
  },
  {
   "cell_type": "code",
   "execution_count": 47,
   "id": "9e8d94bd",
   "metadata": {
    "ExecuteTime": {
     "end_time": "2024-11-07T02:42:37.654394Z",
     "start_time": "2024-11-07T02:42:36.874480Z"
    }
   },
   "outputs": [],
   "source": [
    "import tensorflow as tf\n",
    "from tensorflow.keras.layers import Dense, Input, Dropout\n",
    "from tensorflow.keras.optimizers.schedules import InverseTimeDecay\n",
    "from tensorflow.keras.optimizers import Adam\n",
    "from tensorflow.keras.callbacks import EarlyStopping\n",
    "from tensorflow.keras.models import Sequential\n",
    "from tensorflow.keras.metrics import Recall, Precision\n",
    "from tensorflow.keras.constraints import max_norm\n",
    "\n",
    "from sklearn.metrics import classification_report, accuracy_score\n",
    "from sklearn.model_selection import train_test_split, RandomizedSearchCV, StratifiedKFold"
   ]
  },
  {
   "cell_type": "code",
   "execution_count": 48,
   "id": "d23f40e7",
   "metadata": {
    "ExecuteTime": {
     "end_time": "2024-11-07T02:42:40.652462Z",
     "start_time": "2024-11-07T02:42:40.631540Z"
    }
   },
   "outputs": [],
   "source": [
    "from keras.regularizers import l2"
   ]
  },
  {
   "cell_type": "code",
   "execution_count": 49,
   "id": "2375b789",
   "metadata": {
    "ExecuteTime": {
     "end_time": "2024-11-07T02:42:42.023543Z",
     "start_time": "2024-11-07T02:42:42.003211Z"
    }
   },
   "outputs": [],
   "source": [
    "X = data.drop(['Churn Reason', 'Customer Status', 'Churn Category'],axis = 1)\n",
    "y = data['Customer Status']"
   ]
  },
  {
   "cell_type": "code",
   "execution_count": 50,
   "id": "7394b4c7",
   "metadata": {
    "ExecuteTime": {
     "end_time": "2024-11-07T02:42:43.227175Z",
     "start_time": "2024-11-07T02:42:43.199101Z"
    }
   },
   "outputs": [],
   "source": [
    "# 오류수정\n",
    "from keras.callbacks import LearningRateScheduler\n",
    "\n",
    "def inverse_time_decay(epoch):\n",
    "    initial_lr = 0.1\n",
    "    drop = 0.3\n",
    "    epochs_drop = 20\n",
    "    return initial_lr / (1 + drop * (epoch // epochs_drop))\n",
    "\n",
    "lr_schedule = LearningRateScheduler(inverse_time_decay)"
   ]
  },
  {
   "cell_type": "code",
   "execution_count": 51,
   "id": "8cf683f2",
   "metadata": {
    "ExecuteTime": {
     "end_time": "2024-11-07T02:42:47.138306Z",
     "start_time": "2024-11-07T02:42:46.725691Z"
    }
   },
   "outputs": [
    {
     "data": {
      "text/html": [
       "<pre style=\"white-space:pre;overflow-x:auto;line-height:normal;font-family:Menlo,'DejaVu Sans Mono',consolas,'Courier New',monospace\"><span style=\"font-weight: bold\">Model: \"sequential\"</span>\n",
       "</pre>\n"
      ],
      "text/plain": [
       "\u001b[1mModel: \"sequential\"\u001b[0m\n"
      ]
     },
     "metadata": {},
     "output_type": "display_data"
    },
    {
     "data": {
      "text/html": [
       "<pre style=\"white-space:pre;overflow-x:auto;line-height:normal;font-family:Menlo,'DejaVu Sans Mono',consolas,'Courier New',monospace\">┏━━━━━━━━━━━━━━━━━━━━━━━━━━━━━━━━━━━━━━┳━━━━━━━━━━━━━━━━━━━━━━━━━━━━━┳━━━━━━━━━━━━━━━━━┓\n",
       "┃<span style=\"font-weight: bold\"> Layer (type)                         </span>┃<span style=\"font-weight: bold\"> Output Shape                </span>┃<span style=\"font-weight: bold\">         Param # </span>┃\n",
       "┡━━━━━━━━━━━━━━━━━━━━━━━━━━━━━━━━━━━━━━╇━━━━━━━━━━━━━━━━━━━━━━━━━━━━━╇━━━━━━━━━━━━━━━━━┩\n",
       "│ dropout (<span style=\"color: #0087ff; text-decoration-color: #0087ff\">Dropout</span>)                    │ (<span style=\"color: #00d7ff; text-decoration-color: #00d7ff\">None</span>, <span style=\"color: #00af00; text-decoration-color: #00af00\">48</span>)                  │               <span style=\"color: #00af00; text-decoration-color: #00af00\">0</span> │\n",
       "├──────────────────────────────────────┼─────────────────────────────┼─────────────────┤\n",
       "│ dense (<span style=\"color: #0087ff; text-decoration-color: #0087ff\">Dense</span>)                        │ (<span style=\"color: #00d7ff; text-decoration-color: #00d7ff\">None</span>, <span style=\"color: #00af00; text-decoration-color: #00af00\">64</span>)                  │           <span style=\"color: #00af00; text-decoration-color: #00af00\">3,136</span> │\n",
       "├──────────────────────────────────────┼─────────────────────────────┼─────────────────┤\n",
       "│ dropout_1 (<span style=\"color: #0087ff; text-decoration-color: #0087ff\">Dropout</span>)                  │ (<span style=\"color: #00d7ff; text-decoration-color: #00d7ff\">None</span>, <span style=\"color: #00af00; text-decoration-color: #00af00\">64</span>)                  │               <span style=\"color: #00af00; text-decoration-color: #00af00\">0</span> │\n",
       "├──────────────────────────────────────┼─────────────────────────────┼─────────────────┤\n",
       "│ dense_1 (<span style=\"color: #0087ff; text-decoration-color: #0087ff\">Dense</span>)                      │ (<span style=\"color: #00d7ff; text-decoration-color: #00d7ff\">None</span>, <span style=\"color: #00af00; text-decoration-color: #00af00\">64</span>)                  │           <span style=\"color: #00af00; text-decoration-color: #00af00\">4,160</span> │\n",
       "├──────────────────────────────────────┼─────────────────────────────┼─────────────────┤\n",
       "│ dropout_2 (<span style=\"color: #0087ff; text-decoration-color: #0087ff\">Dropout</span>)                  │ (<span style=\"color: #00d7ff; text-decoration-color: #00d7ff\">None</span>, <span style=\"color: #00af00; text-decoration-color: #00af00\">64</span>)                  │               <span style=\"color: #00af00; text-decoration-color: #00af00\">0</span> │\n",
       "├──────────────────────────────────────┼─────────────────────────────┼─────────────────┤\n",
       "│ dense_2 (<span style=\"color: #0087ff; text-decoration-color: #0087ff\">Dense</span>)                      │ (<span style=\"color: #00d7ff; text-decoration-color: #00d7ff\">None</span>, <span style=\"color: #00af00; text-decoration-color: #00af00\">1</span>)                   │              <span style=\"color: #00af00; text-decoration-color: #00af00\">65</span> │\n",
       "└──────────────────────────────────────┴─────────────────────────────┴─────────────────┘\n",
       "</pre>\n"
      ],
      "text/plain": [
       "┏━━━━━━━━━━━━━━━━━━━━━━━━━━━━━━━━━━━━━━┳━━━━━━━━━━━━━━━━━━━━━━━━━━━━━┳━━━━━━━━━━━━━━━━━┓\n",
       "┃\u001b[1m \u001b[0m\u001b[1mLayer (type)                        \u001b[0m\u001b[1m \u001b[0m┃\u001b[1m \u001b[0m\u001b[1mOutput Shape               \u001b[0m\u001b[1m \u001b[0m┃\u001b[1m \u001b[0m\u001b[1m        Param #\u001b[0m\u001b[1m \u001b[0m┃\n",
       "┡━━━━━━━━━━━━━━━━━━━━━━━━━━━━━━━━━━━━━━╇━━━━━━━━━━━━━━━━━━━━━━━━━━━━━╇━━━━━━━━━━━━━━━━━┩\n",
       "│ dropout (\u001b[38;5;33mDropout\u001b[0m)                    │ (\u001b[38;5;45mNone\u001b[0m, \u001b[38;5;34m48\u001b[0m)                  │               \u001b[38;5;34m0\u001b[0m │\n",
       "├──────────────────────────────────────┼─────────────────────────────┼─────────────────┤\n",
       "│ dense (\u001b[38;5;33mDense\u001b[0m)                        │ (\u001b[38;5;45mNone\u001b[0m, \u001b[38;5;34m64\u001b[0m)                  │           \u001b[38;5;34m3,136\u001b[0m │\n",
       "├──────────────────────────────────────┼─────────────────────────────┼─────────────────┤\n",
       "│ dropout_1 (\u001b[38;5;33mDropout\u001b[0m)                  │ (\u001b[38;5;45mNone\u001b[0m, \u001b[38;5;34m64\u001b[0m)                  │               \u001b[38;5;34m0\u001b[0m │\n",
       "├──────────────────────────────────────┼─────────────────────────────┼─────────────────┤\n",
       "│ dense_1 (\u001b[38;5;33mDense\u001b[0m)                      │ (\u001b[38;5;45mNone\u001b[0m, \u001b[38;5;34m64\u001b[0m)                  │           \u001b[38;5;34m4,160\u001b[0m │\n",
       "├──────────────────────────────────────┼─────────────────────────────┼─────────────────┤\n",
       "│ dropout_2 (\u001b[38;5;33mDropout\u001b[0m)                  │ (\u001b[38;5;45mNone\u001b[0m, \u001b[38;5;34m64\u001b[0m)                  │               \u001b[38;5;34m0\u001b[0m │\n",
       "├──────────────────────────────────────┼─────────────────────────────┼─────────────────┤\n",
       "│ dense_2 (\u001b[38;5;33mDense\u001b[0m)                      │ (\u001b[38;5;45mNone\u001b[0m, \u001b[38;5;34m1\u001b[0m)                   │              \u001b[38;5;34m65\u001b[0m │\n",
       "└──────────────────────────────────────┴─────────────────────────────┴─────────────────┘\n"
      ]
     },
     "metadata": {},
     "output_type": "display_data"
    },
    {
     "data": {
      "text/html": [
       "<pre style=\"white-space:pre;overflow-x:auto;line-height:normal;font-family:Menlo,'DejaVu Sans Mono',consolas,'Courier New',monospace\"><span style=\"font-weight: bold\"> Total params: </span><span style=\"color: #00af00; text-decoration-color: #00af00\">7,361</span> (28.75 KB)\n",
       "</pre>\n"
      ],
      "text/plain": [
       "\u001b[1m Total params: \u001b[0m\u001b[38;5;34m7,361\u001b[0m (28.75 KB)\n"
      ]
     },
     "metadata": {},
     "output_type": "display_data"
    },
    {
     "data": {
      "text/html": [
       "<pre style=\"white-space:pre;overflow-x:auto;line-height:normal;font-family:Menlo,'DejaVu Sans Mono',consolas,'Courier New',monospace\"><span style=\"font-weight: bold\"> Trainable params: </span><span style=\"color: #00af00; text-decoration-color: #00af00\">7,361</span> (28.75 KB)\n",
       "</pre>\n"
      ],
      "text/plain": [
       "\u001b[1m Trainable params: \u001b[0m\u001b[38;5;34m7,361\u001b[0m (28.75 KB)\n"
      ]
     },
     "metadata": {},
     "output_type": "display_data"
    },
    {
     "data": {
      "text/html": [
       "<pre style=\"white-space:pre;overflow-x:auto;line-height:normal;font-family:Menlo,'DejaVu Sans Mono',consolas,'Courier New',monospace\"><span style=\"font-weight: bold\"> Non-trainable params: </span><span style=\"color: #00af00; text-decoration-color: #00af00\">0</span> (0.00 B)\n",
       "</pre>\n"
      ],
      "text/plain": [
       "\u001b[1m Non-trainable params: \u001b[0m\u001b[38;5;34m0\u001b[0m (0.00 B)\n"
      ]
     },
     "metadata": {},
     "output_type": "display_data"
    }
   ],
   "source": [
    "model = Sequential()\n",
    "model.add(Input(shape=(X.shape[1],)))\n",
    "model.add(Dropout(0.1))\n",
    "model.add(Dense(units=64, activation='relu', kernel_regularizer=l2(0.01), kernel_constraint=max_norm(5.0)))\n",
    "model.add(Dropout(0.2))\n",
    "model.add(Dense(units=64, activation='relu', kernel_regularizer=l2(0.01), kernel_constraint=max_norm(5.0)))\n",
    "model.add(Dropout(0.2))\n",
    "model.add(Dense(units=1, activation='sigmoid', kernel_regularizer=l2(0.01), kernel_constraint=max_norm(5.0)))\n",
    "\n",
    "model.compile(loss='binary_crossentropy', optimizer=Adam(learning_rate=0.1), metrics=['accuracy', Recall(), Precision()])\n",
    "model.summary()"
   ]
  },
  {
   "cell_type": "code",
   "execution_count": 52,
   "id": "90369ada",
   "metadata": {
    "ExecuteTime": {
     "end_time": "2024-11-07T02:42:53.107959Z",
     "start_time": "2024-11-07T02:42:53.066216Z"
    }
   },
   "outputs": [],
   "source": [
    "X_train, X_test, y_train, y_test = train_test_split(X, y, test_size = 0.2, stratify = y)"
   ]
  },
  {
   "cell_type": "code",
   "execution_count": 70,
   "id": "8d20412a",
   "metadata": {
    "ExecuteTime": {
     "end_time": "2024-11-07T03:01:19.177070Z",
     "start_time": "2024-11-07T03:01:19.139673Z"
    }
   },
   "outputs": [
    {
     "name": "stdout",
     "output_type": "stream",
     "text": [
      "{0: 0.6917372881355932, 1: 1.8038674033149171}\n"
     ]
    }
   ],
   "source": [
    "from sklearn.utils import class_weight\n",
    "\n",
    "# 클래스 가중치 계산\n",
    "class_weights = class_weight.compute_class_weight('balanced', classes=np.unique(y_train), y=y_train)\n",
    "class_weights = dict(enumerate(class_weights))\n",
    "\n",
    "print(class_weights)  # 클래스 가중치 확인"
   ]
  },
  {
   "cell_type": "code",
   "execution_count": 74,
   "id": "3731a0de",
   "metadata": {
    "ExecuteTime": {
     "end_time": "2024-11-07T03:08:26.214413Z",
     "start_time": "2024-11-07T03:04:30.685868Z"
    }
   },
   "outputs": [
    {
     "name": "stdout",
     "output_type": "stream",
     "text": [
      "Epoch 1/200\n",
      "\u001b[1m164/164\u001b[0m \u001b[32m━━━━━━━━━━━━━━━━━━━━\u001b[0m\u001b[37m\u001b[0m \u001b[1m1s\u001b[0m 7ms/step - accuracy: 0.7108 - loss: 11.8757 - precision: 0.0000e+00 - recall: 0.0000e+00 - val_accuracy: 0.7228 - val_loss: 9.7244 - val_precision: 0.0000e+00 - val_recall: 0.0000e+00\n",
      "Epoch 2/200\n",
      "\u001b[1m 25/164\u001b[0m \u001b[32m━━━\u001b[0m\u001b[37m━━━━━━━━━━━━━━━━━\u001b[0m \u001b[1m0s\u001b[0m 5ms/step - accuracy: 0.7459 - loss: 9.6147 - precision: 0.0000e+00 - recall: 0.0000e+00"
     ]
    },
    {
     "name": "stderr",
     "output_type": "stream",
     "text": [
      "C:\\Users\\LG\\anaconda3\\lib\\site-packages\\keras\\src\\callbacks\\early_stopping.py:155: UserWarning: Early stopping conditioned on metric `val accuracy` which is not available. Available metrics are: accuracy,loss,precision,recall,val_accuracy,val_loss,val_precision,val_recall\n",
      "  current = self.get_monitor_value(logs)\n"
     ]
    },
    {
     "name": "stdout",
     "output_type": "stream",
     "text": [
      "\u001b[1m164/164\u001b[0m \u001b[32m━━━━━━━━━━━━━━━━━━━━\u001b[0m\u001b[37m\u001b[0m \u001b[1m2s\u001b[0m 10ms/step - accuracy: 0.7259 - loss: 9.2114 - precision: 0.0000e+00 - recall: 0.0000e+00 - val_accuracy: 0.7228 - val_loss: 7.9409 - val_precision: 0.0000e+00 - val_recall: 0.0000e+00\n",
      "Epoch 3/200\n",
      "\u001b[1m164/164\u001b[0m \u001b[32m━━━━━━━━━━━━━━━━━━━━\u001b[0m\u001b[37m\u001b[0m \u001b[1m1s\u001b[0m 6ms/step - accuracy: 0.7174 - loss: 7.5984 - precision: 0.0000e+00 - recall: 0.0000e+00 - val_accuracy: 0.7228 - val_loss: 6.7104 - val_precision: 0.0000e+00 - val_recall: 0.0000e+00\n",
      "Epoch 4/200\n",
      "\u001b[1m164/164\u001b[0m \u001b[32m━━━━━━━━━━━━━━━━━━━━\u001b[0m\u001b[37m\u001b[0m \u001b[1m1s\u001b[0m 7ms/step - accuracy: 0.7180 - loss: 6.4675 - precision: 0.0000e+00 - recall: 0.0000e+00 - val_accuracy: 0.7228 - val_loss: 5.7868 - val_precision: 0.0000e+00 - val_recall: 0.0000e+00\n",
      "Epoch 5/200\n",
      "\u001b[1m164/164\u001b[0m \u001b[32m━━━━━━━━━━━━━━━━━━━━\u001b[0m\u001b[37m\u001b[0m \u001b[1m1s\u001b[0m 7ms/step - accuracy: 0.7299 - loss: 5.5849 - precision: 0.0000e+00 - recall: 0.0000e+00 - val_accuracy: 0.7228 - val_loss: 5.0636 - val_precision: 0.0000e+00 - val_recall: 0.0000e+00\n",
      "Epoch 6/200\n",
      "\u001b[1m164/164\u001b[0m \u001b[32m━━━━━━━━━━━━━━━━━━━━\u001b[0m\u001b[37m\u001b[0m \u001b[1m1s\u001b[0m 7ms/step - accuracy: 0.7289 - loss: 4.9065 - precision: 0.0000e+00 - recall: 0.0000e+00 - val_accuracy: 0.7228 - val_loss: 4.4819 - val_precision: 0.0000e+00 - val_recall: 0.0000e+00\n",
      "Epoch 7/200\n",
      "\u001b[1m164/164\u001b[0m \u001b[32m━━━━━━━━━━━━━━━━━━━━\u001b[0m\u001b[37m\u001b[0m \u001b[1m1s\u001b[0m 7ms/step - accuracy: 0.7328 - loss: 4.3467 - precision: 0.0000e+00 - recall: 0.0000e+00 - val_accuracy: 0.7228 - val_loss: 4.0041 - val_precision: 0.0000e+00 - val_recall: 0.0000e+00\n",
      "Epoch 8/200\n",
      "\u001b[1m164/164\u001b[0m \u001b[32m━━━━━━━━━━━━━━━━━━━━\u001b[0m\u001b[37m\u001b[0m \u001b[1m1s\u001b[0m 5ms/step - accuracy: 0.7168 - loss: 3.9040 - precision: 0.0000e+00 - recall: 0.0000e+00 - val_accuracy: 0.7228 - val_loss: 3.6071 - val_precision: 0.0000e+00 - val_recall: 0.0000e+00\n",
      "Epoch 9/200\n",
      "\u001b[1m164/164\u001b[0m \u001b[32m━━━━━━━━━━━━━━━━━━━━\u001b[0m\u001b[37m\u001b[0m \u001b[1m2s\u001b[0m 7ms/step - accuracy: 0.7180 - loss: 3.5270 - precision: 0.0000e+00 - recall: 0.0000e+00 - val_accuracy: 0.7228 - val_loss: 3.2711 - val_precision: 0.0000e+00 - val_recall: 0.0000e+00\n",
      "Epoch 10/200\n",
      "\u001b[1m164/164\u001b[0m \u001b[32m━━━━━━━━━━━━━━━━━━━━\u001b[0m\u001b[37m\u001b[0m \u001b[1m1s\u001b[0m 8ms/step - accuracy: 0.7208 - loss: 3.1974 - precision: 0.0000e+00 - recall: 0.0000e+00 - val_accuracy: 0.7228 - val_loss: 2.9832 - val_precision: 0.0000e+00 - val_recall: 0.0000e+00\n",
      "Epoch 11/200\n",
      "\u001b[1m164/164\u001b[0m \u001b[32m━━━━━━━━━━━━━━━━━━━━\u001b[0m\u001b[37m\u001b[0m \u001b[1m1s\u001b[0m 8ms/step - accuracy: 0.7301 - loss: 2.9129 - precision: 0.0000e+00 - recall: 0.0000e+00 - val_accuracy: 0.7228 - val_loss: 2.7350 - val_precision: 0.0000e+00 - val_recall: 0.0000e+00\n",
      "Epoch 12/200\n",
      "\u001b[1m164/164\u001b[0m \u001b[32m━━━━━━━━━━━━━━━━━━━━\u001b[0m\u001b[37m\u001b[0m \u001b[1m1s\u001b[0m 8ms/step - accuracy: 0.7249 - loss: 2.6789 - precision: 0.0000e+00 - recall: 0.0000e+00 - val_accuracy: 0.7228 - val_loss: 2.5205 - val_precision: 0.0000e+00 - val_recall: 0.0000e+00\n",
      "Epoch 13/200\n",
      "\u001b[1m164/164\u001b[0m \u001b[32m━━━━━━━━━━━━━━━━━━━━\u001b[0m\u001b[37m\u001b[0m \u001b[1m1s\u001b[0m 7ms/step - accuracy: 0.7238 - loss: 2.4676 - precision: 0.0000e+00 - recall: 0.0000e+00 - val_accuracy: 0.7228 - val_loss: 2.3272 - val_precision: 0.0000e+00 - val_recall: 0.0000e+00\n",
      "Epoch 14/200\n",
      "\u001b[1m164/164\u001b[0m \u001b[32m━━━━━━━━━━━━━━━━━━━━\u001b[0m\u001b[37m\u001b[0m \u001b[1m1s\u001b[0m 8ms/step - accuracy: 0.7169 - loss: 2.2895 - precision: 0.0000e+00 - recall: 0.0000e+00 - val_accuracy: 0.7228 - val_loss: 2.1563 - val_precision: 0.0000e+00 - val_recall: 0.0000e+00\n",
      "Epoch 15/200\n",
      "\u001b[1m164/164\u001b[0m \u001b[32m━━━━━━━━━━━━━━━━━━━━\u001b[0m\u001b[37m\u001b[0m \u001b[1m2s\u001b[0m 5ms/step - accuracy: 0.7108 - loss: 2.1284 - precision: 0.0000e+00 - recall: 0.0000e+00 - val_accuracy: 0.7228 - val_loss: 2.0025 - val_precision: 0.0000e+00 - val_recall: 0.0000e+00\n",
      "Epoch 16/200\n",
      "\u001b[1m164/164\u001b[0m \u001b[32m━━━━━━━━━━━━━━━━━━━━\u001b[0m\u001b[37m\u001b[0m \u001b[1m1s\u001b[0m 5ms/step - accuracy: 0.7225 - loss: 1.9684 - precision: 0.0000e+00 - recall: 0.0000e+00 - val_accuracy: 0.7228 - val_loss: 1.8647 - val_precision: 0.0000e+00 - val_recall: 0.0000e+00\n",
      "Epoch 17/200\n",
      "\u001b[1m164/164\u001b[0m \u001b[32m━━━━━━━━━━━━━━━━━━━━\u001b[0m\u001b[37m\u001b[0m \u001b[1m2s\u001b[0m 10ms/step - accuracy: 0.7269 - loss: 1.8311 - precision: 0.0000e+00 - recall: 0.0000e+00 - val_accuracy: 0.7228 - val_loss: 1.7416 - val_precision: 0.0000e+00 - val_recall: 0.0000e+00\n",
      "Epoch 18/200\n",
      "\u001b[1m164/164\u001b[0m \u001b[32m━━━━━━━━━━━━━━━━━━━━\u001b[0m\u001b[37m\u001b[0m \u001b[1m2s\u001b[0m 6ms/step - accuracy: 0.7183 - loss: 1.7166 - precision: 0.0000e+00 - recall: 0.0000e+00 - val_accuracy: 0.7228 - val_loss: 1.6286 - val_precision: 0.0000e+00 - val_recall: 0.0000e+00\n",
      "Epoch 19/200\n",
      "\u001b[1m164/164\u001b[0m \u001b[32m━━━━━━━━━━━━━━━━━━━━\u001b[0m\u001b[37m\u001b[0m \u001b[1m1s\u001b[0m 6ms/step - accuracy: 0.7234 - loss: 1.6010 - precision: 0.0000e+00 - recall: 0.0000e+00 - val_accuracy: 0.7228 - val_loss: 1.5231 - val_precision: 0.0000e+00 - val_recall: 0.0000e+00\n",
      "Epoch 20/200\n",
      "\u001b[1m164/164\u001b[0m \u001b[32m━━━━━━━━━━━━━━━━━━━━\u001b[0m\u001b[37m\u001b[0m \u001b[1m2s\u001b[0m 10ms/step - accuracy: 0.7229 - loss: 1.5009 - precision: 0.0000e+00 - recall: 0.0000e+00 - val_accuracy: 0.7228 - val_loss: 1.4293 - val_precision: 0.0000e+00 - val_recall: 0.0000e+00\n",
      "Epoch 21/200\n",
      "\u001b[1m164/164\u001b[0m \u001b[32m━━━━━━━━━━━━━━━━━━━━\u001b[0m\u001b[37m\u001b[0m \u001b[1m1s\u001b[0m 7ms/step - accuracy: 0.7238 - loss: 1.4094 - precision: 0.0000e+00 - recall: 0.0000e+00 - val_accuracy: 0.7228 - val_loss: 1.3458 - val_precision: 0.0000e+00 - val_recall: 0.0000e+00\n",
      "Epoch 22/200\n",
      "\u001b[1m164/164\u001b[0m \u001b[32m━━━━━━━━━━━━━━━━━━━━\u001b[0m\u001b[37m\u001b[0m \u001b[1m3s\u001b[0m 9ms/step - accuracy: 0.7136 - loss: 1.3337 - precision: 0.0000e+00 - recall: 0.0000e+00 - val_accuracy: 0.7228 - val_loss: 1.2675 - val_precision: 0.0000e+00 - val_recall: 0.0000e+00\n",
      "Epoch 23/200\n",
      "\u001b[1m164/164\u001b[0m \u001b[32m━━━━━━━━━━━━━━━━━━━━\u001b[0m\u001b[37m\u001b[0m \u001b[1m1s\u001b[0m 8ms/step - accuracy: 0.7150 - loss: 1.2585 - precision: 0.0000e+00 - recall: 0.0000e+00 - val_accuracy: 0.7228 - val_loss: 1.1971 - val_precision: 0.0000e+00 - val_recall: 0.0000e+00\n",
      "Epoch 24/200\n",
      "\u001b[1m164/164\u001b[0m \u001b[32m━━━━━━━━━━━━━━━━━━━━\u001b[0m\u001b[37m\u001b[0m \u001b[1m1s\u001b[0m 5ms/step - accuracy: 0.7337 - loss: 1.1699 - precision: 0.0000e+00 - recall: 0.0000e+00 - val_accuracy: 0.7228 - val_loss: 1.1341 - val_precision: 0.0000e+00 - val_recall: 0.0000e+00\n",
      "Epoch 25/200\n",
      "\u001b[1m164/164\u001b[0m \u001b[32m━━━━━━━━━━━━━━━━━━━━\u001b[0m\u001b[37m\u001b[0m \u001b[1m1s\u001b[0m 7ms/step - accuracy: 0.7272 - loss: 1.1163 - precision: 0.0000e+00 - recall: 0.0000e+00 - val_accuracy: 0.7228 - val_loss: 1.0770 - val_precision: 0.0000e+00 - val_recall: 0.0000e+00\n",
      "Epoch 26/200\n",
      "\u001b[1m164/164\u001b[0m \u001b[32m━━━━━━━━━━━━━━━━━━━━\u001b[0m\u001b[37m\u001b[0m \u001b[1m2s\u001b[0m 8ms/step - accuracy: 0.7183 - loss: 1.0699 - precision: 0.0000e+00 - recall: 0.0000e+00 - val_accuracy: 0.7228 - val_loss: 1.0261 - val_precision: 0.0000e+00 - val_recall: 0.0000e+00\n",
      "Epoch 27/200\n",
      "\u001b[1m164/164\u001b[0m \u001b[32m━━━━━━━━━━━━━━━━━━━━\u001b[0m\u001b[37m\u001b[0m \u001b[1m1s\u001b[0m 8ms/step - accuracy: 0.7184 - loss: 1.0198 - precision: 0.0000e+00 - recall: 0.0000e+00 - val_accuracy: 0.7228 - val_loss: 0.9809 - val_precision: 0.0000e+00 - val_recall: 0.0000e+00\n",
      "Epoch 28/200\n",
      "\u001b[1m164/164\u001b[0m \u001b[32m━━━━━━━━━━━━━━━━━━━━\u001b[0m\u001b[37m\u001b[0m \u001b[1m3s\u001b[0m 7ms/step - accuracy: 0.7297 - loss: 0.9639 - precision: 0.0000e+00 - recall: 0.0000e+00 - val_accuracy: 0.7228 - val_loss: 0.9406 - val_precision: 0.0000e+00 - val_recall: 0.0000e+00\n",
      "Epoch 29/200\n",
      "\u001b[1m164/164\u001b[0m \u001b[32m━━━━━━━━━━━━━━━━━━━━\u001b[0m\u001b[37m\u001b[0m \u001b[1m1s\u001b[0m 6ms/step - accuracy: 0.7185 - loss: 0.9361 - precision: 0.0000e+00 - recall: 0.0000e+00 - val_accuracy: 0.7228 - val_loss: 0.9034 - val_precision: 0.0000e+00 - val_recall: 0.0000e+00\n",
      "Epoch 30/200\n",
      "\u001b[1m164/164\u001b[0m \u001b[32m━━━━━━━━━━━━━━━━━━━━\u001b[0m\u001b[37m\u001b[0m \u001b[1m1s\u001b[0m 8ms/step - accuracy: 0.7256 - loss: 0.8949 - precision: 0.0000e+00 - recall: 0.0000e+00 - val_accuracy: 0.7228 - val_loss: 0.8693 - val_precision: 0.0000e+00 - val_recall: 0.0000e+00\n",
      "Epoch 31/200\n",
      "\u001b[1m164/164\u001b[0m \u001b[32m━━━━━━━━━━━━━━━━━━━━\u001b[0m\u001b[37m\u001b[0m \u001b[1m1s\u001b[0m 5ms/step - accuracy: 0.7295 - loss: 0.8564 - precision: 0.0000e+00 - recall: 0.0000e+00 - val_accuracy: 0.7228 - val_loss: 0.8401 - val_precision: 0.0000e+00 - val_recall: 0.0000e+00\n",
      "Epoch 32/200\n",
      "\u001b[1m164/164\u001b[0m \u001b[32m━━━━━━━━━━━━━━━━━━━━\u001b[0m\u001b[37m\u001b[0m \u001b[1m1s\u001b[0m 6ms/step - accuracy: 0.7169 - loss: 0.8410 - precision: 0.0000e+00 - recall: 0.0000e+00 - val_accuracy: 0.7228 - val_loss: 0.8137 - val_precision: 0.0000e+00 - val_recall: 0.0000e+00\n",
      "Epoch 33/200\n"
     ]
    },
    {
     "name": "stdout",
     "output_type": "stream",
     "text": [
      "\u001b[1m164/164\u001b[0m \u001b[32m━━━━━━━━━━━━━━━━━━━━\u001b[0m\u001b[37m\u001b[0m \u001b[1m1s\u001b[0m 8ms/step - accuracy: 0.7161 - loss: 0.8156 - precision: 0.0000e+00 - recall: 0.0000e+00 - val_accuracy: 0.7228 - val_loss: 0.7897 - val_precision: 0.0000e+00 - val_recall: 0.0000e+00\n",
      "Epoch 34/200\n",
      "\u001b[1m164/164\u001b[0m \u001b[32m━━━━━━━━━━━━━━━━━━━━\u001b[0m\u001b[37m\u001b[0m \u001b[1m2s\u001b[0m 10ms/step - accuracy: 0.7174 - loss: 0.7902 - precision: 0.0000e+00 - recall: 0.0000e+00 - val_accuracy: 0.7228 - val_loss: 0.7685 - val_precision: 0.0000e+00 - val_recall: 0.0000e+00\n",
      "Epoch 35/200\n",
      "\u001b[1m164/164\u001b[0m \u001b[32m━━━━━━━━━━━━━━━━━━━━\u001b[0m\u001b[37m\u001b[0m \u001b[1m3s\u001b[0m 9ms/step - accuracy: 0.7250 - loss: 0.7634 - precision: 0.0000e+00 - recall: 0.0000e+00 - val_accuracy: 0.7228 - val_loss: 0.7494 - val_precision: 0.0000e+00 - val_recall: 0.0000e+00\n",
      "Epoch 36/200\n",
      "\u001b[1m164/164\u001b[0m \u001b[32m━━━━━━━━━━━━━━━━━━━━\u001b[0m\u001b[37m\u001b[0m \u001b[1m1s\u001b[0m 8ms/step - accuracy: 0.7104 - loss: 0.7584 - precision: 0.0000e+00 - recall: 0.0000e+00 - val_accuracy: 0.7228 - val_loss: 0.7321 - val_precision: 0.0000e+00 - val_recall: 0.0000e+00\n",
      "Epoch 37/200\n",
      "\u001b[1m164/164\u001b[0m \u001b[32m━━━━━━━━━━━━━━━━━━━━\u001b[0m\u001b[37m\u001b[0m \u001b[1m1s\u001b[0m 6ms/step - accuracy: 0.7234 - loss: 0.7294 - precision: 0.0000e+00 - recall: 0.0000e+00 - val_accuracy: 0.7228 - val_loss: 0.7169 - val_precision: 0.0000e+00 - val_recall: 0.0000e+00\n",
      "Epoch 38/200\n",
      "\u001b[1m164/164\u001b[0m \u001b[32m━━━━━━━━━━━━━━━━━━━━\u001b[0m\u001b[37m\u001b[0m \u001b[1m1s\u001b[0m 6ms/step - accuracy: 0.7215 - loss: 0.7175 - precision: 0.0000e+00 - recall: 0.0000e+00 - val_accuracy: 0.7228 - val_loss: 0.7023 - val_precision: 0.0000e+00 - val_recall: 0.0000e+00\n",
      "Epoch 39/200\n",
      "\u001b[1m164/164\u001b[0m \u001b[32m━━━━━━━━━━━━━━━━━━━━\u001b[0m\u001b[37m\u001b[0m \u001b[1m1s\u001b[0m 7ms/step - accuracy: 0.7153 - loss: 0.7072 - precision: 0.0000e+00 - recall: 0.0000e+00 - val_accuracy: 0.7228 - val_loss: 0.6936 - val_precision: 0.0000e+00 - val_recall: 0.0000e+00\n",
      "Epoch 40/200\n",
      "\u001b[1m164/164\u001b[0m \u001b[32m━━━━━━━━━━━━━━━━━━━━\u001b[0m\u001b[37m\u001b[0m \u001b[1m1s\u001b[0m 7ms/step - accuracy: 0.7267 - loss: 0.6838 - precision: 0.0000e+00 - recall: 0.0000e+00 - val_accuracy: 0.7228 - val_loss: 0.6794 - val_precision: 0.0000e+00 - val_recall: 0.0000e+00\n",
      "Epoch 41/200\n",
      "\u001b[1m164/164\u001b[0m \u001b[32m━━━━━━━━━━━━━━━━━━━━\u001b[0m\u001b[37m\u001b[0m \u001b[1m1s\u001b[0m 9ms/step - accuracy: 0.7212 - loss: 0.6786 - precision: 0.0000e+00 - recall: 0.0000e+00 - val_accuracy: 0.7228 - val_loss: 0.6673 - val_precision: 0.0000e+00 - val_recall: 0.0000e+00\n",
      "Epoch 42/200\n",
      "\u001b[1m164/164\u001b[0m \u001b[32m━━━━━━━━━━━━━━━━━━━━\u001b[0m\u001b[37m\u001b[0m \u001b[1m3s\u001b[0m 11ms/step - accuracy: 0.7251 - loss: 0.6653 - precision: 0.0000e+00 - recall: 0.0000e+00 - val_accuracy: 0.7228 - val_loss: 0.6580 - val_precision: 0.0000e+00 - val_recall: 0.0000e+00\n",
      "Epoch 43/200\n",
      "\u001b[1m164/164\u001b[0m \u001b[32m━━━━━━━━━━━━━━━━━━━━\u001b[0m\u001b[37m\u001b[0m \u001b[1m2s\u001b[0m 7ms/step - accuracy: 0.7262 - loss: 0.6531 - precision: 0.0000e+00 - recall: 0.0000e+00 - val_accuracy: 0.7228 - val_loss: 0.6490 - val_precision: 0.0000e+00 - val_recall: 0.0000e+00\n",
      "Epoch 44/200\n",
      "\u001b[1m164/164\u001b[0m \u001b[32m━━━━━━━━━━━━━━━━━━━━\u001b[0m\u001b[37m\u001b[0m \u001b[1m1s\u001b[0m 5ms/step - accuracy: 0.7135 - loss: 0.6568 - precision: 0.0000e+00 - recall: 0.0000e+00 - val_accuracy: 0.7228 - val_loss: 0.6411 - val_precision: 0.0000e+00 - val_recall: 0.0000e+00\n",
      "Epoch 45/200\n",
      "\u001b[1m164/164\u001b[0m \u001b[32m━━━━━━━━━━━━━━━━━━━━\u001b[0m\u001b[37m\u001b[0m \u001b[1m1s\u001b[0m 8ms/step - accuracy: 0.7252 - loss: 0.6386 - precision: 0.0000e+00 - recall: 0.0000e+00 - val_accuracy: 0.7228 - val_loss: 0.6357 - val_precision: 0.0000e+00 - val_recall: 0.0000e+00\n",
      "Epoch 46/200\n",
      "\u001b[1m164/164\u001b[0m \u001b[32m━━━━━━━━━━━━━━━━━━━━\u001b[0m\u001b[37m\u001b[0m \u001b[1m1s\u001b[0m 8ms/step - accuracy: 0.7189 - loss: 0.6387 - precision: 0.0000e+00 - recall: 0.0000e+00 - val_accuracy: 0.7228 - val_loss: 0.6290 - val_precision: 0.0000e+00 - val_recall: 0.0000e+00\n",
      "Epoch 47/200\n",
      "\u001b[1m164/164\u001b[0m \u001b[32m━━━━━━━━━━━━━━━━━━━━\u001b[0m\u001b[37m\u001b[0m \u001b[1m1s\u001b[0m 6ms/step - accuracy: 0.7238 - loss: 0.6265 - precision: 0.0000e+00 - recall: 0.0000e+00 - val_accuracy: 0.7228 - val_loss: 0.6262 - val_precision: 0.0000e+00 - val_recall: 0.0000e+00\n",
      "Epoch 48/200\n",
      "\u001b[1m164/164\u001b[0m \u001b[32m━━━━━━━━━━━━━━━━━━━━\u001b[0m\u001b[37m\u001b[0m \u001b[1m1s\u001b[0m 7ms/step - accuracy: 0.7246 - loss: 0.6205 - precision: 0.0000e+00 - recall: 0.0000e+00 - val_accuracy: 0.7228 - val_loss: 0.6169 - val_precision: 0.0000e+00 - val_recall: 0.0000e+00\n",
      "Epoch 49/200\n",
      "\u001b[1m164/164\u001b[0m \u001b[32m━━━━━━━━━━━━━━━━━━━━\u001b[0m\u001b[37m\u001b[0m \u001b[1m1s\u001b[0m 8ms/step - accuracy: 0.7299 - loss: 0.6098 - precision: 0.0000e+00 - recall: 0.0000e+00 - val_accuracy: 0.7228 - val_loss: 0.6127 - val_precision: 0.0000e+00 - val_recall: 0.0000e+00\n",
      "Epoch 50/200\n",
      "\u001b[1m164/164\u001b[0m \u001b[32m━━━━━━━━━━━━━━━━━━━━\u001b[0m\u001b[37m\u001b[0m \u001b[1m1s\u001b[0m 8ms/step - accuracy: 0.7126 - loss: 0.6223 - precision: 0.0000e+00 - recall: 0.0000e+00 - val_accuracy: 0.7228 - val_loss: 0.6085 - val_precision: 0.0000e+00 - val_recall: 0.0000e+00\n",
      "Epoch 51/200\n",
      "\u001b[1m164/164\u001b[0m \u001b[32m━━━━━━━━━━━━━━━━━━━━\u001b[0m\u001b[37m\u001b[0m \u001b[1m1s\u001b[0m 6ms/step - accuracy: 0.7267 - loss: 0.6059 - precision: 0.0000e+00 - recall: 0.0000e+00 - val_accuracy: 0.7228 - val_loss: 0.6053 - val_precision: 0.0000e+00 - val_recall: 0.0000e+00\n",
      "Epoch 52/200\n",
      "\u001b[1m164/164\u001b[0m \u001b[32m━━━━━━━━━━━━━━━━━━━━\u001b[0m\u001b[37m\u001b[0m \u001b[1m1s\u001b[0m 6ms/step - accuracy: 0.7304 - loss: 0.5986 - precision: 0.0000e+00 - recall: 0.0000e+00 - val_accuracy: 0.7228 - val_loss: 0.6023 - val_precision: 0.0000e+00 - val_recall: 0.0000e+00\n",
      "Epoch 53/200\n",
      "\u001b[1m164/164\u001b[0m \u001b[32m━━━━━━━━━━━━━━━━━━━━\u001b[0m\u001b[37m\u001b[0m \u001b[1m1s\u001b[0m 8ms/step - accuracy: 0.7212 - loss: 0.6052 - precision: 0.0000e+00 - recall: 0.0000e+00 - val_accuracy: 0.7228 - val_loss: 0.6004 - val_precision: 0.0000e+00 - val_recall: 0.0000e+00\n",
      "Epoch 54/200\n",
      "\u001b[1m164/164\u001b[0m \u001b[32m━━━━━━━━━━━━━━━━━━━━\u001b[0m\u001b[37m\u001b[0m \u001b[1m1s\u001b[0m 7ms/step - accuracy: 0.7254 - loss: 0.5987 - precision: 0.0000e+00 - recall: 0.0000e+00 - val_accuracy: 0.7228 - val_loss: 0.5981 - val_precision: 0.0000e+00 - val_recall: 0.0000e+00\n",
      "Epoch 55/200\n",
      "\u001b[1m164/164\u001b[0m \u001b[32m━━━━━━━━━━━━━━━━━━━━\u001b[0m\u001b[37m\u001b[0m \u001b[1m1s\u001b[0m 7ms/step - accuracy: 0.7247 - loss: 0.5963 - precision: 0.0000e+00 - recall: 0.0000e+00 - val_accuracy: 0.7228 - val_loss: 0.5969 - val_precision: 0.0000e+00 - val_recall: 0.0000e+00\n",
      "Epoch 56/200\n",
      "\u001b[1m164/164\u001b[0m \u001b[32m━━━━━━━━━━━━━━━━━━━━\u001b[0m\u001b[37m\u001b[0m \u001b[1m1s\u001b[0m 6ms/step - accuracy: 0.7116 - loss: 0.6075 - precision: 0.0000e+00 - recall: 0.0000e+00 - val_accuracy: 0.7228 - val_loss: 0.5955 - val_precision: 0.0000e+00 - val_recall: 0.0000e+00\n",
      "Epoch 57/200\n",
      "\u001b[1m164/164\u001b[0m \u001b[32m━━━━━━━━━━━━━━━━━━━━\u001b[0m\u001b[37m\u001b[0m \u001b[1m1s\u001b[0m 5ms/step - accuracy: 0.7186 - loss: 0.5998 - precision: 0.0000e+00 - recall: 0.0000e+00 - val_accuracy: 0.7228 - val_loss: 0.5963 - val_precision: 0.0000e+00 - val_recall: 0.0000e+00\n",
      "Epoch 58/200\n",
      "\u001b[1m164/164\u001b[0m \u001b[32m━━━━━━━━━━━━━━━━━━━━\u001b[0m\u001b[37m\u001b[0m \u001b[1m2s\u001b[0m 11ms/step - accuracy: 0.7317 - loss: 0.5861 - precision: 0.0000e+00 - recall: 0.0000e+00 - val_accuracy: 0.7228 - val_loss: 0.5932 - val_precision: 0.0000e+00 - val_recall: 0.0000e+00\n",
      "Epoch 59/200\n",
      "\u001b[1m164/164\u001b[0m \u001b[32m━━━━━━━━━━━━━━━━━━━━\u001b[0m\u001b[37m\u001b[0m \u001b[1m2s\u001b[0m 7ms/step - accuracy: 0.7176 - loss: 0.5984 - precision: 0.0000e+00 - recall: 0.0000e+00 - val_accuracy: 0.7228 - val_loss: 0.5941 - val_precision: 0.0000e+00 - val_recall: 0.0000e+00\n",
      "Epoch 60/200\n",
      "\u001b[1m164/164\u001b[0m \u001b[32m━━━━━━━━━━━━━━━━━━━━\u001b[0m\u001b[37m\u001b[0m \u001b[1m1s\u001b[0m 6ms/step - accuracy: 0.7189 - loss: 0.5977 - precision: 0.0000e+00 - recall: 0.0000e+00 - val_accuracy: 0.7228 - val_loss: 0.5941 - val_precision: 0.0000e+00 - val_recall: 0.0000e+00\n",
      "Epoch 61/200\n",
      "\u001b[1m164/164\u001b[0m \u001b[32m━━━━━━━━━━━━━━━━━━━━\u001b[0m\u001b[37m\u001b[0m \u001b[1m1s\u001b[0m 7ms/step - accuracy: 0.7170 - loss: 0.5999 - precision: 0.0000e+00 - recall: 0.0000e+00 - val_accuracy: 0.7228 - val_loss: 0.5925 - val_precision: 0.0000e+00 - val_recall: 0.0000e+00\n",
      "Epoch 62/200\n",
      "\u001b[1m164/164\u001b[0m \u001b[32m━━━━━━━━━━━━━━━━━━━━\u001b[0m\u001b[37m\u001b[0m \u001b[1m2s\u001b[0m 8ms/step - accuracy: 0.7264 - loss: 0.5883 - precision: 0.0000e+00 - recall: 0.0000e+00 - val_accuracy: 0.7228 - val_loss: 0.5913 - val_precision: 0.0000e+00 - val_recall: 0.0000e+00\n",
      "Epoch 63/200\n",
      "\u001b[1m164/164\u001b[0m \u001b[32m━━━━━━━━━━━━━━━━━━━━\u001b[0m\u001b[37m\u001b[0m \u001b[1m1s\u001b[0m 8ms/step - accuracy: 0.7178 - loss: 0.5963 - precision: 0.0000e+00 - recall: 0.0000e+00 - val_accuracy: 0.7228 - val_loss: 0.5950 - val_precision: 0.0000e+00 - val_recall: 0.0000e+00\n",
      "Epoch 64/200\n"
     ]
    },
    {
     "name": "stdout",
     "output_type": "stream",
     "text": [
      "\u001b[1m164/164\u001b[0m \u001b[32m━━━━━━━━━━━━━━━━━━━━\u001b[0m\u001b[37m\u001b[0m \u001b[1m1s\u001b[0m 4ms/step - accuracy: 0.7205 - loss: 0.5959 - precision: 0.0000e+00 - recall: 0.0000e+00 - val_accuracy: 0.7228 - val_loss: 0.5938 - val_precision: 0.0000e+00 - val_recall: 0.0000e+00\n",
      "Epoch 65/200\n",
      "\u001b[1m164/164\u001b[0m \u001b[32m━━━━━━━━━━━━━━━━━━━━\u001b[0m\u001b[37m\u001b[0m \u001b[1m1s\u001b[0m 5ms/step - accuracy: 0.7265 - loss: 0.5897 - precision: 0.0000e+00 - recall: 0.0000e+00 - val_accuracy: 0.7228 - val_loss: 0.5904 - val_precision: 0.0000e+00 - val_recall: 0.0000e+00\n",
      "Epoch 66/200\n",
      "\u001b[1m164/164\u001b[0m \u001b[32m━━━━━━━━━━━━━━━━━━━━\u001b[0m\u001b[37m\u001b[0m \u001b[1m2s\u001b[0m 6ms/step - accuracy: 0.7161 - loss: 0.5983 - precision: 0.0000e+00 - recall: 0.0000e+00 - val_accuracy: 0.7228 - val_loss: 0.5930 - val_precision: 0.0000e+00 - val_recall: 0.0000e+00\n",
      "Epoch 67/200\n",
      "\u001b[1m164/164\u001b[0m \u001b[32m━━━━━━━━━━━━━━━━━━━━\u001b[0m\u001b[37m\u001b[0m \u001b[1m1s\u001b[0m 6ms/step - accuracy: 0.7300 - loss: 0.5857 - precision: 0.0000e+00 - recall: 0.0000e+00 - val_accuracy: 0.7228 - val_loss: 0.5904 - val_precision: 0.0000e+00 - val_recall: 0.0000e+00\n",
      "Epoch 68/200\n",
      "\u001b[1m164/164\u001b[0m \u001b[32m━━━━━━━━━━━━━━━━━━━━\u001b[0m\u001b[37m\u001b[0m \u001b[1m1s\u001b[0m 4ms/step - accuracy: 0.7243 - loss: 0.5901 - precision: 0.0000e+00 - recall: 0.0000e+00 - val_accuracy: 0.7228 - val_loss: 0.5911 - val_precision: 0.0000e+00 - val_recall: 0.0000e+00\n",
      "Epoch 69/200\n",
      "\u001b[1m164/164\u001b[0m \u001b[32m━━━━━━━━━━━━━━━━━━━━\u001b[0m\u001b[37m\u001b[0m \u001b[1m1s\u001b[0m 4ms/step - accuracy: 0.7269 - loss: 0.5885 - precision: 0.0000e+00 - recall: 0.0000e+00 - val_accuracy: 0.7228 - val_loss: 0.5921 - val_precision: 0.0000e+00 - val_recall: 0.0000e+00\n",
      "Epoch 70/200\n",
      "\u001b[1m164/164\u001b[0m \u001b[32m━━━━━━━━━━━━━━━━━━━━\u001b[0m\u001b[37m\u001b[0m \u001b[1m2s\u001b[0m 9ms/step - accuracy: 0.7267 - loss: 0.5902 - precision: 0.0000e+00 - recall: 0.0000e+00 - val_accuracy: 0.7228 - val_loss: 0.5905 - val_precision: 0.0000e+00 - val_recall: 0.0000e+00\n",
      "Epoch 71/200\n",
      "\u001b[1m164/164\u001b[0m \u001b[32m━━━━━━━━━━━━━━━━━━━━\u001b[0m\u001b[37m\u001b[0m \u001b[1m2s\u001b[0m 5ms/step - accuracy: 0.7176 - loss: 0.5969 - precision: 0.0000e+00 - recall: 0.0000e+00 - val_accuracy: 0.7228 - val_loss: 0.5910 - val_precision: 0.0000e+00 - val_recall: 0.0000e+00\n",
      "Epoch 72/200\n",
      "\u001b[1m164/164\u001b[0m \u001b[32m━━━━━━━━━━━━━━━━━━━━\u001b[0m\u001b[37m\u001b[0m \u001b[1m1s\u001b[0m 5ms/step - accuracy: 0.7363 - loss: 0.5768 - precision: 0.0000e+00 - recall: 0.0000e+00 - val_accuracy: 0.7228 - val_loss: 0.5909 - val_precision: 0.0000e+00 - val_recall: 0.0000e+00\n",
      "Epoch 73/200\n",
      "\u001b[1m164/164\u001b[0m \u001b[32m━━━━━━━━━━━━━━━━━━━━\u001b[0m\u001b[37m\u001b[0m \u001b[1m1s\u001b[0m 6ms/step - accuracy: 0.7151 - loss: 0.5988 - precision: 0.0000e+00 - recall: 0.0000e+00 - val_accuracy: 0.7228 - val_loss: 0.5903 - val_precision: 0.0000e+00 - val_recall: 0.0000e+00\n",
      "Epoch 74/200\n",
      "\u001b[1m164/164\u001b[0m \u001b[32m━━━━━━━━━━━━━━━━━━━━\u001b[0m\u001b[37m\u001b[0m \u001b[1m2s\u001b[0m 12ms/step - accuracy: 0.7304 - loss: 0.5840 - precision: 0.0000e+00 - recall: 0.0000e+00 - val_accuracy: 0.7228 - val_loss: 0.5932 - val_precision: 0.0000e+00 - val_recall: 0.0000e+00\n",
      "Epoch 75/200\n",
      "\u001b[1m164/164\u001b[0m \u001b[32m━━━━━━━━━━━━━━━━━━━━\u001b[0m\u001b[37m\u001b[0m \u001b[1m1s\u001b[0m 7ms/step - accuracy: 0.7254 - loss: 0.5892 - precision: 0.0000e+00 - recall: 0.0000e+00 - val_accuracy: 0.7228 - val_loss: 0.5903 - val_precision: 0.0000e+00 - val_recall: 0.0000e+00\n",
      "Epoch 76/200\n",
      "\u001b[1m164/164\u001b[0m \u001b[32m━━━━━━━━━━━━━━━━━━━━\u001b[0m\u001b[37m\u001b[0m \u001b[1m1s\u001b[0m 4ms/step - accuracy: 0.7285 - loss: 0.5870 - precision: 0.0000e+00 - recall: 0.0000e+00 - val_accuracy: 0.7228 - val_loss: 0.5903 - val_precision: 0.0000e+00 - val_recall: 0.0000e+00\n",
      "Epoch 77/200\n",
      "\u001b[1m164/164\u001b[0m \u001b[32m━━━━━━━━━━━━━━━━━━━━\u001b[0m\u001b[37m\u001b[0m \u001b[1m1s\u001b[0m 4ms/step - accuracy: 0.7173 - loss: 0.5988 - precision: 0.0000e+00 - recall: 0.0000e+00 - val_accuracy: 0.7228 - val_loss: 0.5920 - val_precision: 0.0000e+00 - val_recall: 0.0000e+00\n",
      "Epoch 78/200\n",
      "\u001b[1m164/164\u001b[0m \u001b[32m━━━━━━━━━━━━━━━━━━━━\u001b[0m\u001b[37m\u001b[0m \u001b[1m1s\u001b[0m 8ms/step - accuracy: 0.7270 - loss: 0.5880 - precision: 0.0000e+00 - recall: 0.0000e+00 - val_accuracy: 0.7228 - val_loss: 0.5904 - val_precision: 0.0000e+00 - val_recall: 0.0000e+00\n",
      "Epoch 79/200\n",
      "\u001b[1m164/164\u001b[0m \u001b[32m━━━━━━━━━━━━━━━━━━━━\u001b[0m\u001b[37m\u001b[0m \u001b[1m1s\u001b[0m 7ms/step - accuracy: 0.7248 - loss: 0.5896 - precision: 0.0000e+00 - recall: 0.0000e+00 - val_accuracy: 0.7228 - val_loss: 0.5907 - val_precision: 0.0000e+00 - val_recall: 0.0000e+00\n",
      "Epoch 80/200\n",
      "\u001b[1m164/164\u001b[0m \u001b[32m━━━━━━━━━━━━━━━━━━━━\u001b[0m\u001b[37m\u001b[0m \u001b[1m1s\u001b[0m 6ms/step - accuracy: 0.7226 - loss: 0.5944 - precision: 0.0000e+00 - recall: 0.0000e+00 - val_accuracy: 0.7228 - val_loss: 0.5903 - val_precision: 0.0000e+00 - val_recall: 0.0000e+00\n",
      "Epoch 81/200\n",
      "\u001b[1m164/164\u001b[0m \u001b[32m━━━━━━━━━━━━━━━━━━━━\u001b[0m\u001b[37m\u001b[0m \u001b[1m1s\u001b[0m 5ms/step - accuracy: 0.7253 - loss: 0.5905 - precision: 0.0000e+00 - recall: 0.0000e+00 - val_accuracy: 0.7228 - val_loss: 0.5903 - val_precision: 0.0000e+00 - val_recall: 0.0000e+00\n",
      "Epoch 82/200\n",
      "\u001b[1m164/164\u001b[0m \u001b[32m━━━━━━━━━━━━━━━━━━━━\u001b[0m\u001b[37m\u001b[0m \u001b[1m2s\u001b[0m 12ms/step - accuracy: 0.7212 - loss: 0.5926 - precision: 0.0000e+00 - recall: 0.0000e+00 - val_accuracy: 0.7228 - val_loss: 0.5914 - val_precision: 0.0000e+00 - val_recall: 0.0000e+00\n",
      "Epoch 83/200\n",
      "\u001b[1m164/164\u001b[0m \u001b[32m━━━━━━━━━━━━━━━━━━━━\u001b[0m\u001b[37m\u001b[0m \u001b[1m1s\u001b[0m 5ms/step - accuracy: 0.7220 - loss: 0.5927 - precision: 0.0000e+00 - recall: 0.0000e+00 - val_accuracy: 0.7228 - val_loss: 0.5911 - val_precision: 0.0000e+00 - val_recall: 0.0000e+00\n",
      "Epoch 84/200\n",
      "\u001b[1m164/164\u001b[0m \u001b[32m━━━━━━━━━━━━━━━━━━━━\u001b[0m\u001b[37m\u001b[0m \u001b[1m1s\u001b[0m 6ms/step - accuracy: 0.7180 - loss: 0.5974 - precision: 0.0000e+00 - recall: 0.0000e+00 - val_accuracy: 0.7228 - val_loss: 0.5929 - val_precision: 0.0000e+00 - val_recall: 0.0000e+00\n",
      "Epoch 85/200\n",
      "\u001b[1m164/164\u001b[0m \u001b[32m━━━━━━━━━━━━━━━━━━━━\u001b[0m\u001b[37m\u001b[0m \u001b[1m1s\u001b[0m 7ms/step - accuracy: 0.7282 - loss: 0.5870 - precision: 0.0000e+00 - recall: 0.0000e+00 - val_accuracy: 0.7228 - val_loss: 0.5904 - val_precision: 0.0000e+00 - val_recall: 0.0000e+00\n",
      "Epoch 86/200\n",
      "\u001b[1m164/164\u001b[0m \u001b[32m━━━━━━━━━━━━━━━━━━━━\u001b[0m\u001b[37m\u001b[0m \u001b[1m2s\u001b[0m 8ms/step - accuracy: 0.7203 - loss: 0.5945 - precision: 0.0000e+00 - recall: 0.0000e+00 - val_accuracy: 0.7228 - val_loss: 0.5913 - val_precision: 0.0000e+00 - val_recall: 0.0000e+00\n",
      "Epoch 87/200\n",
      "\u001b[1m164/164\u001b[0m \u001b[32m━━━━━━━━━━━━━━━━━━━━\u001b[0m\u001b[37m\u001b[0m \u001b[1m1s\u001b[0m 5ms/step - accuracy: 0.7129 - loss: 0.6016 - precision: 0.0000e+00 - recall: 0.0000e+00 - val_accuracy: 0.7228 - val_loss: 0.5903 - val_precision: 0.0000e+00 - val_recall: 0.0000e+00\n",
      "Epoch 88/200\n",
      "\u001b[1m164/164\u001b[0m \u001b[32m━━━━━━━━━━━━━━━━━━━━\u001b[0m\u001b[37m\u001b[0m \u001b[1m1s\u001b[0m 7ms/step - accuracy: 0.7279 - loss: 0.5873 - precision: 0.0000e+00 - recall: 0.0000e+00 - val_accuracy: 0.7228 - val_loss: 0.5956 - val_precision: 0.0000e+00 - val_recall: 0.0000e+00\n",
      "Epoch 89/200\n",
      "\u001b[1m164/164\u001b[0m \u001b[32m━━━━━━━━━━━━━━━━━━━━\u001b[0m\u001b[37m\u001b[0m \u001b[1m1s\u001b[0m 7ms/step - accuracy: 0.7111 - loss: 0.6016 - precision: 0.0000e+00 - recall: 0.0000e+00 - val_accuracy: 0.7228 - val_loss: 0.5906 - val_precision: 0.0000e+00 - val_recall: 0.0000e+00\n",
      "Epoch 90/200\n",
      "\u001b[1m164/164\u001b[0m \u001b[32m━━━━━━━━━━━━━━━━━━━━\u001b[0m\u001b[37m\u001b[0m \u001b[1m2s\u001b[0m 9ms/step - accuracy: 0.7265 - loss: 0.5887 - precision: 0.0000e+00 - recall: 0.0000e+00 - val_accuracy: 0.7228 - val_loss: 0.5929 - val_precision: 0.0000e+00 - val_recall: 0.0000e+00\n",
      "Epoch 91/200\n",
      "\u001b[1m164/164\u001b[0m \u001b[32m━━━━━━━━━━━━━━━━━━━━\u001b[0m\u001b[37m\u001b[0m \u001b[1m2s\u001b[0m 6ms/step - accuracy: 0.7131 - loss: 0.6011 - precision: 0.0000e+00 - recall: 0.0000e+00 - val_accuracy: 0.7228 - val_loss: 0.5903 - val_precision: 0.0000e+00 - val_recall: 0.0000e+00\n",
      "Epoch 92/200\n",
      "\u001b[1m164/164\u001b[0m \u001b[32m━━━━━━━━━━━━━━━━━━━━\u001b[0m\u001b[37m\u001b[0m \u001b[1m1s\u001b[0m 6ms/step - accuracy: 0.7224 - loss: 0.5926 - precision: 0.0000e+00 - recall: 0.0000e+00 - val_accuracy: 0.7228 - val_loss: 0.5904 - val_precision: 0.0000e+00 - val_recall: 0.0000e+00\n",
      "Epoch 93/200\n",
      "\u001b[1m164/164\u001b[0m \u001b[32m━━━━━━━━━━━━━━━━━━━━\u001b[0m\u001b[37m\u001b[0m \u001b[1m1s\u001b[0m 7ms/step - accuracy: 0.7249 - loss: 0.5896 - precision: 0.0000e+00 - recall: 0.0000e+00 - val_accuracy: 0.7228 - val_loss: 0.5913 - val_precision: 0.0000e+00 - val_recall: 0.0000e+00\n",
      "Epoch 94/200\n",
      "\u001b[1m164/164\u001b[0m \u001b[32m━━━━━━━━━━━━━━━━━━━━\u001b[0m\u001b[37m\u001b[0m \u001b[1m1s\u001b[0m 7ms/step - accuracy: 0.7213 - loss: 0.5941 - precision: 0.0000e+00 - recall: 0.0000e+00 - val_accuracy: 0.7228 - val_loss: 0.5905 - val_precision: 0.0000e+00 - val_recall: 0.0000e+00\n",
      "Epoch 95/200\n"
     ]
    },
    {
     "name": "stdout",
     "output_type": "stream",
     "text": [
      "\u001b[1m164/164\u001b[0m \u001b[32m━━━━━━━━━━━━━━━━━━━━\u001b[0m\u001b[37m\u001b[0m \u001b[1m1s\u001b[0m 6ms/step - accuracy: 0.7143 - loss: 0.5996 - precision: 0.0000e+00 - recall: 0.0000e+00 - val_accuracy: 0.7228 - val_loss: 0.6019 - val_precision: 0.0000e+00 - val_recall: 0.0000e+00\n",
      "Epoch 96/200\n",
      "\u001b[1m164/164\u001b[0m \u001b[32m━━━━━━━━━━━━━━━━━━━━\u001b[0m\u001b[37m\u001b[0m \u001b[1m1s\u001b[0m 5ms/step - accuracy: 0.7196 - loss: 0.5984 - precision: 0.0000e+00 - recall: 0.0000e+00 - val_accuracy: 0.7228 - val_loss: 0.5911 - val_precision: 0.0000e+00 - val_recall: 0.0000e+00\n",
      "Epoch 97/200\n",
      "\u001b[1m164/164\u001b[0m \u001b[32m━━━━━━━━━━━━━━━━━━━━\u001b[0m\u001b[37m\u001b[0m \u001b[1m1s\u001b[0m 4ms/step - accuracy: 0.7277 - loss: 0.5878 - precision: 0.0000e+00 - recall: 0.0000e+00 - val_accuracy: 0.7228 - val_loss: 0.5904 - val_precision: 0.0000e+00 - val_recall: 0.0000e+00\n",
      "Epoch 98/200\n",
      "\u001b[1m164/164\u001b[0m \u001b[32m━━━━━━━━━━━━━━━━━━━━\u001b[0m\u001b[37m\u001b[0m \u001b[1m1s\u001b[0m 5ms/step - accuracy: 0.7259 - loss: 0.5886 - precision: 0.0000e+00 - recall: 0.0000e+00 - val_accuracy: 0.7228 - val_loss: 0.5903 - val_precision: 0.0000e+00 - val_recall: 0.0000e+00\n",
      "Epoch 99/200\n",
      "\u001b[1m164/164\u001b[0m \u001b[32m━━━━━━━━━━━━━━━━━━━━\u001b[0m\u001b[37m\u001b[0m \u001b[1m1s\u001b[0m 6ms/step - accuracy: 0.7330 - loss: 0.5833 - precision: 0.0000e+00 - recall: 0.0000e+00 - val_accuracy: 0.7228 - val_loss: 0.5989 - val_precision: 0.0000e+00 - val_recall: 0.0000e+00\n",
      "Epoch 100/200\n",
      "\u001b[1m164/164\u001b[0m \u001b[32m━━━━━━━━━━━━━━━━━━━━\u001b[0m\u001b[37m\u001b[0m \u001b[1m1s\u001b[0m 6ms/step - accuracy: 0.7207 - loss: 0.5952 - precision: 0.0000e+00 - recall: 0.0000e+00 - val_accuracy: 0.7228 - val_loss: 0.5944 - val_precision: 0.0000e+00 - val_recall: 0.0000e+00\n",
      "Epoch 101/200\n",
      "\u001b[1m164/164\u001b[0m \u001b[32m━━━━━━━━━━━━━━━━━━━━\u001b[0m\u001b[37m\u001b[0m \u001b[1m1s\u001b[0m 6ms/step - accuracy: 0.7207 - loss: 0.5947 - precision: 0.0000e+00 - recall: 0.0000e+00 - val_accuracy: 0.7228 - val_loss: 0.5912 - val_precision: 0.0000e+00 - val_recall: 0.0000e+00\n",
      "Epoch 102/200\n",
      "\u001b[1m164/164\u001b[0m \u001b[32m━━━━━━━━━━━━━━━━━━━━\u001b[0m\u001b[37m\u001b[0m \u001b[1m1s\u001b[0m 5ms/step - accuracy: 0.7183 - loss: 0.5962 - precision: 0.0000e+00 - recall: 0.0000e+00 - val_accuracy: 0.7228 - val_loss: 0.5906 - val_precision: 0.0000e+00 - val_recall: 0.0000e+00\n",
      "Epoch 103/200\n",
      "\u001b[1m164/164\u001b[0m \u001b[32m━━━━━━━━━━━━━━━━━━━━\u001b[0m\u001b[37m\u001b[0m \u001b[1m1s\u001b[0m 4ms/step - accuracy: 0.7298 - loss: 0.5849 - precision: 0.0000e+00 - recall: 0.0000e+00 - val_accuracy: 0.7228 - val_loss: 0.5913 - val_precision: 0.0000e+00 - val_recall: 0.0000e+00\n",
      "Epoch 104/200\n",
      "\u001b[1m164/164\u001b[0m \u001b[32m━━━━━━━━━━━━━━━━━━━━\u001b[0m\u001b[37m\u001b[0m \u001b[1m1s\u001b[0m 4ms/step - accuracy: 0.7102 - loss: 0.6040 - precision: 0.0000e+00 - recall: 0.0000e+00 - val_accuracy: 0.7228 - val_loss: 0.5914 - val_precision: 0.0000e+00 - val_recall: 0.0000e+00\n",
      "Epoch 105/200\n",
      "\u001b[1m164/164\u001b[0m \u001b[32m━━━━━━━━━━━━━━━━━━━━\u001b[0m\u001b[37m\u001b[0m \u001b[1m1s\u001b[0m 6ms/step - accuracy: 0.7238 - loss: 0.5909 - precision: 0.0000e+00 - recall: 0.0000e+00 - val_accuracy: 0.7228 - val_loss: 0.5903 - val_precision: 0.0000e+00 - val_recall: 0.0000e+00\n",
      "Epoch 106/200\n",
      "\u001b[1m164/164\u001b[0m \u001b[32m━━━━━━━━━━━━━━━━━━━━\u001b[0m\u001b[37m\u001b[0m \u001b[1m1s\u001b[0m 5ms/step - accuracy: 0.7281 - loss: 0.5877 - precision: 0.0000e+00 - recall: 0.0000e+00 - val_accuracy: 0.7228 - val_loss: 0.5903 - val_precision: 0.0000e+00 - val_recall: 0.0000e+00\n",
      "Epoch 107/200\n",
      "\u001b[1m164/164\u001b[0m \u001b[32m━━━━━━━━━━━━━━━━━━━━\u001b[0m\u001b[37m\u001b[0m \u001b[1m1s\u001b[0m 5ms/step - accuracy: 0.7210 - loss: 0.5940 - precision: 0.0000e+00 - recall: 0.0000e+00 - val_accuracy: 0.7228 - val_loss: 0.5911 - val_precision: 0.0000e+00 - val_recall: 0.0000e+00\n",
      "Epoch 108/200\n",
      "\u001b[1m164/164\u001b[0m \u001b[32m━━━━━━━━━━━━━━━━━━━━\u001b[0m\u001b[37m\u001b[0m \u001b[1m1s\u001b[0m 5ms/step - accuracy: 0.7262 - loss: 0.5893 - precision: 0.0000e+00 - recall: 0.0000e+00 - val_accuracy: 0.7228 - val_loss: 0.5904 - val_precision: 0.0000e+00 - val_recall: 0.0000e+00\n",
      "Epoch 109/200\n",
      "\u001b[1m164/164\u001b[0m \u001b[32m━━━━━━━━━━━━━━━━━━━━\u001b[0m\u001b[37m\u001b[0m \u001b[1m1s\u001b[0m 5ms/step - accuracy: 0.7283 - loss: 0.5869 - precision: 0.0000e+00 - recall: 0.0000e+00 - val_accuracy: 0.7228 - val_loss: 0.5930 - val_precision: 0.0000e+00 - val_recall: 0.0000e+00\n",
      "Epoch 110/200\n",
      "\u001b[1m164/164\u001b[0m \u001b[32m━━━━━━━━━━━━━━━━━━━━\u001b[0m\u001b[37m\u001b[0m \u001b[1m1s\u001b[0m 7ms/step - accuracy: 0.7250 - loss: 0.5909 - precision: 0.0000e+00 - recall: 0.0000e+00 - val_accuracy: 0.7228 - val_loss: 0.5903 - val_precision: 0.0000e+00 - val_recall: 0.0000e+00\n",
      "Epoch 111/200\n",
      "\u001b[1m164/164\u001b[0m \u001b[32m━━━━━━━━━━━━━━━━━━━━\u001b[0m\u001b[37m\u001b[0m \u001b[1m1s\u001b[0m 5ms/step - accuracy: 0.7321 - loss: 0.5814 - precision: 0.0000e+00 - recall: 0.0000e+00 - val_accuracy: 0.7228 - val_loss: 0.5921 - val_precision: 0.0000e+00 - val_recall: 0.0000e+00\n",
      "Epoch 112/200\n",
      "\u001b[1m164/164\u001b[0m \u001b[32m━━━━━━━━━━━━━━━━━━━━\u001b[0m\u001b[37m\u001b[0m \u001b[1m1s\u001b[0m 5ms/step - accuracy: 0.7311 - loss: 0.5835 - precision: 0.0000e+00 - recall: 0.0000e+00 - val_accuracy: 0.7228 - val_loss: 0.5915 - val_precision: 0.0000e+00 - val_recall: 0.0000e+00\n",
      "Epoch 113/200\n",
      "\u001b[1m164/164\u001b[0m \u001b[32m━━━━━━━━━━━━━━━━━━━━\u001b[0m\u001b[37m\u001b[0m \u001b[1m1s\u001b[0m 8ms/step - accuracy: 0.7180 - loss: 0.5969 - precision: 0.0000e+00 - recall: 0.0000e+00 - val_accuracy: 0.7228 - val_loss: 0.5913 - val_precision: 0.0000e+00 - val_recall: 0.0000e+00\n",
      "Epoch 114/200\n",
      "\u001b[1m164/164\u001b[0m \u001b[32m━━━━━━━━━━━━━━━━━━━━\u001b[0m\u001b[37m\u001b[0m \u001b[1m1s\u001b[0m 7ms/step - accuracy: 0.7315 - loss: 0.5844 - precision: 0.0000e+00 - recall: 0.0000e+00 - val_accuracy: 0.7228 - val_loss: 0.5903 - val_precision: 0.0000e+00 - val_recall: 0.0000e+00\n",
      "Epoch 115/200\n",
      "\u001b[1m164/164\u001b[0m \u001b[32m━━━━━━━━━━━━━━━━━━━━\u001b[0m\u001b[37m\u001b[0m \u001b[1m1s\u001b[0m 7ms/step - accuracy: 0.7283 - loss: 0.5860 - precision: 0.0000e+00 - recall: 0.0000e+00 - val_accuracy: 0.7228 - val_loss: 0.5929 - val_precision: 0.0000e+00 - val_recall: 0.0000e+00\n",
      "Epoch 116/200\n",
      "\u001b[1m164/164\u001b[0m \u001b[32m━━━━━━━━━━━━━━━━━━━━\u001b[0m\u001b[37m\u001b[0m \u001b[1m1s\u001b[0m 5ms/step - accuracy: 0.7153 - loss: 0.5994 - precision: 0.0000e+00 - recall: 0.0000e+00 - val_accuracy: 0.7228 - val_loss: 0.5987 - val_precision: 0.0000e+00 - val_recall: 0.0000e+00\n",
      "Epoch 117/200\n",
      "\u001b[1m164/164\u001b[0m \u001b[32m━━━━━━━━━━━━━━━━━━━━\u001b[0m\u001b[37m\u001b[0m \u001b[1m1s\u001b[0m 6ms/step - accuracy: 0.7218 - loss: 0.5947 - precision: 0.0000e+00 - recall: 0.0000e+00 - val_accuracy: 0.7228 - val_loss: 0.5903 - val_precision: 0.0000e+00 - val_recall: 0.0000e+00\n",
      "Epoch 118/200\n",
      "\u001b[1m164/164\u001b[0m \u001b[32m━━━━━━━━━━━━━━━━━━━━\u001b[0m\u001b[37m\u001b[0m \u001b[1m1s\u001b[0m 6ms/step - accuracy: 0.7212 - loss: 0.5936 - precision: 0.0000e+00 - recall: 0.0000e+00 - val_accuracy: 0.7228 - val_loss: 0.5924 - val_precision: 0.0000e+00 - val_recall: 0.0000e+00\n",
      "Epoch 119/200\n",
      "\u001b[1m164/164\u001b[0m \u001b[32m━━━━━━━━━━━━━━━━━━━━\u001b[0m\u001b[37m\u001b[0m \u001b[1m1s\u001b[0m 6ms/step - accuracy: 0.7264 - loss: 0.5888 - precision: 0.0000e+00 - recall: 0.0000e+00 - val_accuracy: 0.7228 - val_loss: 0.5991 - val_precision: 0.0000e+00 - val_recall: 0.0000e+00\n",
      "Epoch 120/200\n",
      "\u001b[1m164/164\u001b[0m \u001b[32m━━━━━━━━━━━━━━━━━━━━\u001b[0m\u001b[37m\u001b[0m \u001b[1m1s\u001b[0m 7ms/step - accuracy: 0.7290 - loss: 0.5883 - precision: 0.0000e+00 - recall: 0.0000e+00 - val_accuracy: 0.7228 - val_loss: 0.5960 - val_precision: 0.0000e+00 - val_recall: 0.0000e+00\n",
      "Epoch 121/200\n",
      "\u001b[1m164/164\u001b[0m \u001b[32m━━━━━━━━━━━━━━━━━━━━\u001b[0m\u001b[37m\u001b[0m \u001b[1m1s\u001b[0m 6ms/step - accuracy: 0.7204 - loss: 0.5958 - precision: 0.0000e+00 - recall: 0.0000e+00 - val_accuracy: 0.7228 - val_loss: 0.5934 - val_precision: 0.0000e+00 - val_recall: 0.0000e+00\n",
      "Epoch 122/200\n",
      "\u001b[1m164/164\u001b[0m \u001b[32m━━━━━━━━━━━━━━━━━━━━\u001b[0m\u001b[37m\u001b[0m \u001b[1m1s\u001b[0m 6ms/step - accuracy: 0.7256 - loss: 0.5895 - precision: 0.0000e+00 - recall: 0.0000e+00 - val_accuracy: 0.7228 - val_loss: 0.5904 - val_precision: 0.0000e+00 - val_recall: 0.0000e+00\n",
      "Epoch 123/200\n",
      "\u001b[1m164/164\u001b[0m \u001b[32m━━━━━━━━━━━━━━━━━━━━\u001b[0m\u001b[37m\u001b[0m \u001b[1m1s\u001b[0m 7ms/step - accuracy: 0.7217 - loss: 0.5928 - precision: 0.0000e+00 - recall: 0.0000e+00 - val_accuracy: 0.7228 - val_loss: 0.5903 - val_precision: 0.0000e+00 - val_recall: 0.0000e+00\n",
      "Epoch 124/200\n",
      "\u001b[1m164/164\u001b[0m \u001b[32m━━━━━━━━━━━━━━━━━━━━\u001b[0m\u001b[37m\u001b[0m \u001b[1m1s\u001b[0m 6ms/step - accuracy: 0.7177 - loss: 0.5979 - precision: 0.0000e+00 - recall: 0.0000e+00 - val_accuracy: 0.7228 - val_loss: 0.5919 - val_precision: 0.0000e+00 - val_recall: 0.0000e+00\n",
      "Epoch 125/200\n",
      "\u001b[1m164/164\u001b[0m \u001b[32m━━━━━━━━━━━━━━━━━━━━\u001b[0m\u001b[37m\u001b[0m \u001b[1m1s\u001b[0m 6ms/step - accuracy: 0.7255 - loss: 0.5892 - precision: 0.0000e+00 - recall: 0.0000e+00 - val_accuracy: 0.7228 - val_loss: 0.5909 - val_precision: 0.0000e+00 - val_recall: 0.0000e+00\n",
      "Epoch 126/200\n"
     ]
    },
    {
     "name": "stdout",
     "output_type": "stream",
     "text": [
      "\u001b[1m164/164\u001b[0m \u001b[32m━━━━━━━━━━━━━━━━━━━━\u001b[0m\u001b[37m\u001b[0m \u001b[1m1s\u001b[0m 6ms/step - accuracy: 0.7329 - loss: 0.5819 - precision: 0.0000e+00 - recall: 0.0000e+00 - val_accuracy: 0.7228 - val_loss: 0.5908 - val_precision: 0.0000e+00 - val_recall: 0.0000e+00\n",
      "Epoch 127/200\n",
      "\u001b[1m164/164\u001b[0m \u001b[32m━━━━━━━━━━━━━━━━━━━━\u001b[0m\u001b[37m\u001b[0m \u001b[1m2s\u001b[0m 10ms/step - accuracy: 0.7263 - loss: 0.5889 - precision: 0.0000e+00 - recall: 0.0000e+00 - val_accuracy: 0.7228 - val_loss: 0.5904 - val_precision: 0.0000e+00 - val_recall: 0.0000e+00\n",
      "Epoch 128/200\n",
      "\u001b[1m164/164\u001b[0m \u001b[32m━━━━━━━━━━━━━━━━━━━━\u001b[0m\u001b[37m\u001b[0m \u001b[1m1s\u001b[0m 7ms/step - accuracy: 0.7324 - loss: 0.5830 - precision: 0.0000e+00 - recall: 0.0000e+00 - val_accuracy: 0.7228 - val_loss: 0.5904 - val_precision: 0.0000e+00 - val_recall: 0.0000e+00\n",
      "Epoch 129/200\n",
      "\u001b[1m164/164\u001b[0m \u001b[32m━━━━━━━━━━━━━━━━━━━━\u001b[0m\u001b[37m\u001b[0m \u001b[1m1s\u001b[0m 4ms/step - accuracy: 0.7180 - loss: 0.5969 - precision: 0.0000e+00 - recall: 0.0000e+00 - val_accuracy: 0.7228 - val_loss: 0.5918 - val_precision: 0.0000e+00 - val_recall: 0.0000e+00\n",
      "Epoch 130/200\n",
      "\u001b[1m164/164\u001b[0m \u001b[32m━━━━━━━━━━━━━━━━━━━━\u001b[0m\u001b[37m\u001b[0m \u001b[1m1s\u001b[0m 4ms/step - accuracy: 0.7119 - loss: 0.6030 - precision: 0.0000e+00 - recall: 0.0000e+00 - val_accuracy: 0.7228 - val_loss: 0.5907 - val_precision: 0.0000e+00 - val_recall: 0.0000e+00\n",
      "Epoch 131/200\n",
      "\u001b[1m164/164\u001b[0m \u001b[32m━━━━━━━━━━━━━━━━━━━━\u001b[0m\u001b[37m\u001b[0m \u001b[1m2s\u001b[0m 9ms/step - accuracy: 0.7216 - loss: 0.5927 - precision: 0.0000e+00 - recall: 0.0000e+00 - val_accuracy: 0.7228 - val_loss: 0.5904 - val_precision: 0.0000e+00 - val_recall: 0.0000e+00\n",
      "Epoch 132/200\n",
      "\u001b[1m164/164\u001b[0m \u001b[32m━━━━━━━━━━━━━━━━━━━━\u001b[0m\u001b[37m\u001b[0m \u001b[1m1s\u001b[0m 6ms/step - accuracy: 0.7301 - loss: 0.5843 - precision: 0.0000e+00 - recall: 0.0000e+00 - val_accuracy: 0.7228 - val_loss: 0.5903 - val_precision: 0.0000e+00 - val_recall: 0.0000e+00\n",
      "Epoch 133/200\n",
      "\u001b[1m164/164\u001b[0m \u001b[32m━━━━━━━━━━━━━━━━━━━━\u001b[0m\u001b[37m\u001b[0m \u001b[1m2s\u001b[0m 9ms/step - accuracy: 0.7098 - loss: 0.6033 - precision: 0.0000e+00 - recall: 0.0000e+00 - val_accuracy: 0.7228 - val_loss: 0.5992 - val_precision: 0.0000e+00 - val_recall: 0.0000e+00\n",
      "Epoch 134/200\n",
      "\u001b[1m164/164\u001b[0m \u001b[32m━━━━━━━━━━━━━━━━━━━━\u001b[0m\u001b[37m\u001b[0m \u001b[1m1s\u001b[0m 7ms/step - accuracy: 0.7235 - loss: 0.5930 - precision: 0.0000e+00 - recall: 0.0000e+00 - val_accuracy: 0.7228 - val_loss: 0.5911 - val_precision: 0.0000e+00 - val_recall: 0.0000e+00\n",
      "Epoch 135/200\n",
      "\u001b[1m164/164\u001b[0m \u001b[32m━━━━━━━━━━━━━━━━━━━━\u001b[0m\u001b[37m\u001b[0m \u001b[1m2s\u001b[0m 10ms/step - accuracy: 0.7205 - loss: 0.5953 - precision: 0.0000e+00 - recall: 0.0000e+00 - val_accuracy: 0.7228 - val_loss: 0.5906 - val_precision: 0.0000e+00 - val_recall: 0.0000e+00\n",
      "Epoch 136/200\n",
      "\u001b[1m164/164\u001b[0m \u001b[32m━━━━━━━━━━━━━━━━━━━━\u001b[0m\u001b[37m\u001b[0m \u001b[1m1s\u001b[0m 7ms/step - accuracy: 0.7212 - loss: 0.5935 - precision: 0.0000e+00 - recall: 0.0000e+00 - val_accuracy: 0.7228 - val_loss: 0.5937 - val_precision: 0.0000e+00 - val_recall: 0.0000e+00\n",
      "Epoch 137/200\n",
      "\u001b[1m164/164\u001b[0m \u001b[32m━━━━━━━━━━━━━━━━━━━━\u001b[0m\u001b[37m\u001b[0m \u001b[1m1s\u001b[0m 9ms/step - accuracy: 0.7163 - loss: 0.5971 - precision: 0.0000e+00 - recall: 0.0000e+00 - val_accuracy: 0.7228 - val_loss: 0.5941 - val_precision: 0.0000e+00 - val_recall: 0.0000e+00\n",
      "Epoch 138/200\n",
      "\u001b[1m164/164\u001b[0m \u001b[32m━━━━━━━━━━━━━━━━━━━━\u001b[0m\u001b[37m\u001b[0m \u001b[1m1s\u001b[0m 7ms/step - accuracy: 0.7201 - loss: 0.5959 - precision: 0.0000e+00 - recall: 0.0000e+00 - val_accuracy: 0.7228 - val_loss: 0.5962 - val_precision: 0.0000e+00 - val_recall: 0.0000e+00\n",
      "Epoch 139/200\n",
      "\u001b[1m164/164\u001b[0m \u001b[32m━━━━━━━━━━━━━━━━━━━━\u001b[0m\u001b[37m\u001b[0m \u001b[1m1s\u001b[0m 5ms/step - accuracy: 0.7193 - loss: 0.5962 - precision: 0.0000e+00 - recall: 0.0000e+00 - val_accuracy: 0.7228 - val_loss: 0.5913 - val_precision: 0.0000e+00 - val_recall: 0.0000e+00\n",
      "Epoch 140/200\n",
      "\u001b[1m164/164\u001b[0m \u001b[32m━━━━━━━━━━━━━━━━━━━━\u001b[0m\u001b[37m\u001b[0m \u001b[1m2s\u001b[0m 9ms/step - accuracy: 0.7165 - loss: 0.5979 - precision: 0.0000e+00 - recall: 0.0000e+00 - val_accuracy: 0.7228 - val_loss: 0.5912 - val_precision: 0.0000e+00 - val_recall: 0.0000e+00\n",
      "Epoch 141/200\n",
      "\u001b[1m164/164\u001b[0m \u001b[32m━━━━━━━━━━━━━━━━━━━━\u001b[0m\u001b[37m\u001b[0m \u001b[1m2s\u001b[0m 5ms/step - accuracy: 0.7085 - loss: 0.6061 - precision: 0.0000e+00 - recall: 0.0000e+00 - val_accuracy: 0.7228 - val_loss: 0.5949 - val_precision: 0.0000e+00 - val_recall: 0.0000e+00\n",
      "Epoch 142/200\n",
      "\u001b[1m164/164\u001b[0m \u001b[32m━━━━━━━━━━━━━━━━━━━━\u001b[0m\u001b[37m\u001b[0m \u001b[1m1s\u001b[0m 7ms/step - accuracy: 0.7234 - loss: 0.5924 - precision: 0.0000e+00 - recall: 0.0000e+00 - val_accuracy: 0.7228 - val_loss: 0.5903 - val_precision: 0.0000e+00 - val_recall: 0.0000e+00\n",
      "Epoch 143/200\n",
      "\u001b[1m164/164\u001b[0m \u001b[32m━━━━━━━━━━━━━━━━━━━━\u001b[0m\u001b[37m\u001b[0m \u001b[1m1s\u001b[0m 6ms/step - accuracy: 0.7241 - loss: 0.5910 - precision: 0.0000e+00 - recall: 0.0000e+00 - val_accuracy: 0.7228 - val_loss: 0.5918 - val_precision: 0.0000e+00 - val_recall: 0.0000e+00\n",
      "Epoch 144/200\n",
      "\u001b[1m164/164\u001b[0m \u001b[32m━━━━━━━━━━━━━━━━━━━━\u001b[0m\u001b[37m\u001b[0m \u001b[1m1s\u001b[0m 5ms/step - accuracy: 0.7242 - loss: 0.5915 - precision: 0.0000e+00 - recall: 0.0000e+00 - val_accuracy: 0.7228 - val_loss: 0.5907 - val_precision: 0.0000e+00 - val_recall: 0.0000e+00\n",
      "Epoch 145/200\n",
      "\u001b[1m164/164\u001b[0m \u001b[32m━━━━━━━━━━━━━━━━━━━━\u001b[0m\u001b[37m\u001b[0m \u001b[1m1s\u001b[0m 5ms/step - accuracy: 0.7287 - loss: 0.5853 - precision: 0.0000e+00 - recall: 0.0000e+00 - val_accuracy: 0.7228 - val_loss: 0.5903 - val_precision: 0.0000e+00 - val_recall: 0.0000e+00\n",
      "Epoch 146/200\n",
      "\u001b[1m164/164\u001b[0m \u001b[32m━━━━━━━━━━━━━━━━━━━━\u001b[0m\u001b[37m\u001b[0m \u001b[1m1s\u001b[0m 7ms/step - accuracy: 0.7219 - loss: 0.5932 - precision: 0.0000e+00 - recall: 0.0000e+00 - val_accuracy: 0.7228 - val_loss: 0.5903 - val_precision: 0.0000e+00 - val_recall: 0.0000e+00\n",
      "Epoch 147/200\n",
      "\u001b[1m164/164\u001b[0m \u001b[32m━━━━━━━━━━━━━━━━━━━━\u001b[0m\u001b[37m\u001b[0m \u001b[1m1s\u001b[0m 5ms/step - accuracy: 0.7328 - loss: 0.5817 - precision: 0.0000e+00 - recall: 0.0000e+00 - val_accuracy: 0.7228 - val_loss: 0.5907 - val_precision: 0.0000e+00 - val_recall: 0.0000e+00\n",
      "Epoch 148/200\n",
      "\u001b[1m164/164\u001b[0m \u001b[32m━━━━━━━━━━━━━━━━━━━━\u001b[0m\u001b[37m\u001b[0m \u001b[1m1s\u001b[0m 7ms/step - accuracy: 0.7253 - loss: 0.5897 - precision: 0.0000e+00 - recall: 0.0000e+00 - val_accuracy: 0.7228 - val_loss: 0.5903 - val_precision: 0.0000e+00 - val_recall: 0.0000e+00\n",
      "Epoch 149/200\n",
      "\u001b[1m164/164\u001b[0m \u001b[32m━━━━━━━━━━━━━━━━━━━━\u001b[0m\u001b[37m\u001b[0m \u001b[1m1s\u001b[0m 7ms/step - accuracy: 0.7371 - loss: 0.5782 - precision: 0.0000e+00 - recall: 0.0000e+00 - val_accuracy: 0.7228 - val_loss: 0.5906 - val_precision: 0.0000e+00 - val_recall: 0.0000e+00\n",
      "Epoch 150/200\n",
      "\u001b[1m164/164\u001b[0m \u001b[32m━━━━━━━━━━━━━━━━━━━━\u001b[0m\u001b[37m\u001b[0m \u001b[1m1s\u001b[0m 5ms/step - accuracy: 0.7186 - loss: 0.5960 - precision: 0.0000e+00 - recall: 0.0000e+00 - val_accuracy: 0.7228 - val_loss: 0.5903 - val_precision: 0.0000e+00 - val_recall: 0.0000e+00\n",
      "Epoch 151/200\n",
      "\u001b[1m164/164\u001b[0m \u001b[32m━━━━━━━━━━━━━━━━━━━━\u001b[0m\u001b[37m\u001b[0m \u001b[1m2s\u001b[0m 8ms/step - accuracy: 0.7153 - loss: 0.6014 - precision: 0.0000e+00 - recall: 0.0000e+00 - val_accuracy: 0.7228 - val_loss: 0.5917 - val_precision: 0.0000e+00 - val_recall: 0.0000e+00\n",
      "Epoch 152/200\n",
      "\u001b[1m164/164\u001b[0m \u001b[32m━━━━━━━━━━━━━━━━━━━━\u001b[0m\u001b[37m\u001b[0m \u001b[1m1s\u001b[0m 5ms/step - accuracy: 0.7143 - loss: 0.5995 - precision: 0.0000e+00 - recall: 0.0000e+00 - val_accuracy: 0.7228 - val_loss: 0.5926 - val_precision: 0.0000e+00 - val_recall: 0.0000e+00\n",
      "Epoch 153/200\n",
      "\u001b[1m164/164\u001b[0m \u001b[32m━━━━━━━━━━━━━━━━━━━━\u001b[0m\u001b[37m\u001b[0m \u001b[1m1s\u001b[0m 8ms/step - accuracy: 0.7132 - loss: 0.6006 - precision: 0.0000e+00 - recall: 0.0000e+00 - val_accuracy: 0.7228 - val_loss: 0.5903 - val_precision: 0.0000e+00 - val_recall: 0.0000e+00\n",
      "Epoch 154/200\n",
      "\u001b[1m164/164\u001b[0m \u001b[32m━━━━━━━━━━━━━━━━━━━━\u001b[0m\u001b[37m\u001b[0m \u001b[1m1s\u001b[0m 7ms/step - accuracy: 0.7117 - loss: 0.6026 - precision: 0.0000e+00 - recall: 0.0000e+00 - val_accuracy: 0.7228 - val_loss: 0.5904 - val_precision: 0.0000e+00 - val_recall: 0.0000e+00\n",
      "Epoch 155/200\n",
      "\u001b[1m164/164\u001b[0m \u001b[32m━━━━━━━━━━━━━━━━━━━━\u001b[0m\u001b[37m\u001b[0m \u001b[1m2s\u001b[0m 9ms/step - accuracy: 0.7254 - loss: 0.5890 - precision: 0.0000e+00 - recall: 0.0000e+00 - val_accuracy: 0.7228 - val_loss: 0.5981 - val_precision: 0.0000e+00 - val_recall: 0.0000e+00\n",
      "Epoch 156/200\n",
      "\u001b[1m164/164\u001b[0m \u001b[32m━━━━━━━━━━━━━━━━━━━━\u001b[0m\u001b[37m\u001b[0m \u001b[1m1s\u001b[0m 6ms/step - accuracy: 0.7251 - loss: 0.5931 - precision: 0.0000e+00 - recall: 0.0000e+00 - val_accuracy: 0.7228 - val_loss: 0.5906 - val_precision: 0.0000e+00 - val_recall: 0.0000e+00\n",
      "Epoch 157/200\n"
     ]
    },
    {
     "name": "stdout",
     "output_type": "stream",
     "text": [
      "\u001b[1m  1/164\u001b[0m \u001b[37m━━━━━━━━━━━━━━━━━━━━\u001b[0m \u001b[1m1:08\u001b[0m 419ms/step - accuracy: 0.7188 - loss: 0.5942 - precision: 0.0000e+00 - recall: 0.0000e+00\r",
      "\u001b[1m  2/164\u001b[0m \u001b[37m━━━━━━━━━━━━━━━━━━━━\u001b[0m \u001b[1m1s\u001b[0m 10ms/step - accuracy: 0.6953 - loss: 0.6157 - precision: 0.0000e+00 - recall: 0.0000e+00"
     ]
    }
   ],
   "source": [
    "history = model.fit(X_train, y_train,\n",
    "                    validation_data=(X_test, y_test),\n",
    "                    epochs=200,\n",
    "                    batch_size=32,\n",
    "                    callbacks=[EarlyStopping(monitor=\"val accuracy\", mode='max', patience=70, restore_best_weights=True)])\n"
   ]
  },
  {
   "cell_type": "code",
   "execution_count": 76,
   "id": "b8be2f16",
   "metadata": {
    "ExecuteTime": {
     "end_time": "2024-11-07T03:12:48.819396Z",
     "start_time": "2024-11-07T03:12:48.510153Z"
    }
   },
   "outputs": [],
   "source": [
    "print(classification_report(y_test, model.predict(X_test) >= 0.3))"
   ]
  },
  {
   "cell_type": "code",
   "execution_count": null,
   "id": "ab000cb8",
   "metadata": {},
   "outputs": [],
   "source": []
  },
  {
   "cell_type": "code",
   "execution_count": null,
   "id": "5d3bc7bb",
   "metadata": {},
   "outputs": [],
   "source": []
  },
  {
   "cell_type": "code",
   "execution_count": null,
   "id": "3cf292cd",
   "metadata": {},
   "outputs": [],
   "source": []
  },
  {
   "cell_type": "code",
   "execution_count": null,
   "id": "dfc58e02",
   "metadata": {},
   "outputs": [],
   "source": []
  },
  {
   "cell_type": "code",
   "execution_count": 54,
   "id": "90c22baf",
   "metadata": {
    "ExecuteTime": {
     "end_time": "2024-11-07T02:44:56.557842Z",
     "start_time": "2024-11-07T02:44:56.491559Z"
    }
   },
   "outputs": [
    {
     "name": "stdout",
     "output_type": "stream",
     "text": [
      "Customer Status\n",
      "0.0    3776\n",
      "1.0    1448\n",
      "Name: count, dtype: int64\n"
     ]
    }
   ],
   "source": [
    "print(y_train.value_counts())"
   ]
  },
  {
   "cell_type": "code",
   "execution_count": 58,
   "id": "d89912dc",
   "metadata": {
    "ExecuteTime": {
     "end_time": "2024-11-07T02:46:01.411257Z",
     "start_time": "2024-11-07T02:45:52.969490Z"
    }
   },
   "outputs": [
    {
     "ename": "AttributeError",
     "evalue": "'NoneType' object has no attribute 'split'",
     "output_type": "error",
     "traceback": [
      "\u001b[1;31m---------------------------------------------------------------------------\u001b[0m",
      "\u001b[1;31mAttributeError\u001b[0m                            Traceback (most recent call last)",
      "Cell \u001b[1;32mIn[58], line 4\u001b[0m\n\u001b[0;32m      1\u001b[0m \u001b[38;5;28;01mfrom\u001b[39;00m \u001b[38;5;21;01mimblearn\u001b[39;00m\u001b[38;5;21;01m.\u001b[39;00m\u001b[38;5;21;01mover_sampling\u001b[39;00m \u001b[38;5;28;01mimport\u001b[39;00m SMOTE\n\u001b[0;32m      3\u001b[0m smote \u001b[38;5;241m=\u001b[39m SMOTE()\n\u001b[1;32m----> 4\u001b[0m X_train_resampled, y_train_resampled \u001b[38;5;241m=\u001b[39m \u001b[43msmote\u001b[49m\u001b[38;5;241;43m.\u001b[39;49m\u001b[43mfit_resample\u001b[49m\u001b[43m(\u001b[49m\u001b[43mX_train\u001b[49m\u001b[43m,\u001b[49m\u001b[43m \u001b[49m\u001b[43my_train\u001b[49m\u001b[43m)\u001b[49m\n",
      "File \u001b[1;32m~\\anaconda3\\lib\\site-packages\\imblearn\\base.py:208\u001b[0m, in \u001b[0;36mBaseSampler.fit_resample\u001b[1;34m(self, X, y)\u001b[0m\n\u001b[0;32m    187\u001b[0m \u001b[38;5;250m\u001b[39m\u001b[38;5;124;03m\"\"\"Resample the dataset.\u001b[39;00m\n\u001b[0;32m    188\u001b[0m \n\u001b[0;32m    189\u001b[0m \u001b[38;5;124;03mParameters\u001b[39;00m\n\u001b[1;32m   (...)\u001b[0m\n\u001b[0;32m    205\u001b[0m \u001b[38;5;124;03m    The corresponding label of `X_resampled`.\u001b[39;00m\n\u001b[0;32m    206\u001b[0m \u001b[38;5;124;03m\"\"\"\u001b[39;00m\n\u001b[0;32m    207\u001b[0m \u001b[38;5;28mself\u001b[39m\u001b[38;5;241m.\u001b[39m_validate_params()\n\u001b[1;32m--> 208\u001b[0m \u001b[38;5;28;01mreturn\u001b[39;00m \u001b[38;5;28;43msuper\u001b[39;49m\u001b[43m(\u001b[49m\u001b[43m)\u001b[49m\u001b[38;5;241;43m.\u001b[39;49m\u001b[43mfit_resample\u001b[49m\u001b[43m(\u001b[49m\u001b[43mX\u001b[49m\u001b[43m,\u001b[49m\u001b[43m \u001b[49m\u001b[43my\u001b[49m\u001b[43m)\u001b[49m\n",
      "File \u001b[1;32m~\\anaconda3\\lib\\site-packages\\imblearn\\base.py:112\u001b[0m, in \u001b[0;36mSamplerMixin.fit_resample\u001b[1;34m(self, X, y)\u001b[0m\n\u001b[0;32m    106\u001b[0m X, y, binarize_y \u001b[38;5;241m=\u001b[39m \u001b[38;5;28mself\u001b[39m\u001b[38;5;241m.\u001b[39m_check_X_y(X, y)\n\u001b[0;32m    108\u001b[0m \u001b[38;5;28mself\u001b[39m\u001b[38;5;241m.\u001b[39msampling_strategy_ \u001b[38;5;241m=\u001b[39m check_sampling_strategy(\n\u001b[0;32m    109\u001b[0m     \u001b[38;5;28mself\u001b[39m\u001b[38;5;241m.\u001b[39msampling_strategy, y, \u001b[38;5;28mself\u001b[39m\u001b[38;5;241m.\u001b[39m_sampling_type\n\u001b[0;32m    110\u001b[0m )\n\u001b[1;32m--> 112\u001b[0m output \u001b[38;5;241m=\u001b[39m \u001b[38;5;28;43mself\u001b[39;49m\u001b[38;5;241;43m.\u001b[39;49m\u001b[43m_fit_resample\u001b[49m\u001b[43m(\u001b[49m\u001b[43mX\u001b[49m\u001b[43m,\u001b[49m\u001b[43m \u001b[49m\u001b[43my\u001b[49m\u001b[43m)\u001b[49m\n\u001b[0;32m    114\u001b[0m y_ \u001b[38;5;241m=\u001b[39m (\n\u001b[0;32m    115\u001b[0m     label_binarize(output[\u001b[38;5;241m1\u001b[39m], classes\u001b[38;5;241m=\u001b[39mnp\u001b[38;5;241m.\u001b[39munique(y)) \u001b[38;5;28;01mif\u001b[39;00m binarize_y \u001b[38;5;28;01melse\u001b[39;00m output[\u001b[38;5;241m1\u001b[39m]\n\u001b[0;32m    116\u001b[0m )\n\u001b[0;32m    118\u001b[0m X_, y_ \u001b[38;5;241m=\u001b[39m arrays_transformer\u001b[38;5;241m.\u001b[39mtransform(output[\u001b[38;5;241m0\u001b[39m], y_)\n",
      "File \u001b[1;32m~\\anaconda3\\lib\\site-packages\\imblearn\\over_sampling\\_smote\\base.py:389\u001b[0m, in \u001b[0;36mSMOTE._fit_resample\u001b[1;34m(self, X, y)\u001b[0m\n\u001b[0;32m    386\u001b[0m X_class \u001b[38;5;241m=\u001b[39m _safe_indexing(X, target_class_indices)\n\u001b[0;32m    388\u001b[0m \u001b[38;5;28mself\u001b[39m\u001b[38;5;241m.\u001b[39mnn_k_\u001b[38;5;241m.\u001b[39mfit(X_class)\n\u001b[1;32m--> 389\u001b[0m nns \u001b[38;5;241m=\u001b[39m \u001b[38;5;28;43mself\u001b[39;49m\u001b[38;5;241;43m.\u001b[39;49m\u001b[43mnn_k_\u001b[49m\u001b[38;5;241;43m.\u001b[39;49m\u001b[43mkneighbors\u001b[49m\u001b[43m(\u001b[49m\u001b[43mX_class\u001b[49m\u001b[43m,\u001b[49m\u001b[43m \u001b[49m\u001b[43mreturn_distance\u001b[49m\u001b[38;5;241;43m=\u001b[39;49m\u001b[38;5;28;43;01mFalse\u001b[39;49;00m\u001b[43m)\u001b[49m[:, \u001b[38;5;241m1\u001b[39m:]\n\u001b[0;32m    390\u001b[0m X_new, y_new \u001b[38;5;241m=\u001b[39m \u001b[38;5;28mself\u001b[39m\u001b[38;5;241m.\u001b[39m_make_samples(\n\u001b[0;32m    391\u001b[0m     X_class, y\u001b[38;5;241m.\u001b[39mdtype, class_sample, X_class, nns, n_samples, \u001b[38;5;241m1.0\u001b[39m\n\u001b[0;32m    392\u001b[0m )\n\u001b[0;32m    393\u001b[0m X_resampled\u001b[38;5;241m.\u001b[39mappend(X_new)\n",
      "File \u001b[1;32m~\\anaconda3\\lib\\site-packages\\sklearn\\neighbors\\_base.py:822\u001b[0m, in \u001b[0;36mKNeighborsMixin.kneighbors\u001b[1;34m(self, X, n_neighbors, return_distance)\u001b[0m\n\u001b[0;32m    815\u001b[0m use_pairwise_distances_reductions \u001b[38;5;241m=\u001b[39m (\n\u001b[0;32m    816\u001b[0m     \u001b[38;5;28mself\u001b[39m\u001b[38;5;241m.\u001b[39m_fit_method \u001b[38;5;241m==\u001b[39m \u001b[38;5;124m\"\u001b[39m\u001b[38;5;124mbrute\u001b[39m\u001b[38;5;124m\"\u001b[39m\n\u001b[0;32m    817\u001b[0m     \u001b[38;5;129;01mand\u001b[39;00m ArgKmin\u001b[38;5;241m.\u001b[39mis_usable_for(\n\u001b[0;32m    818\u001b[0m         X \u001b[38;5;28;01mif\u001b[39;00m X \u001b[38;5;129;01mis\u001b[39;00m \u001b[38;5;129;01mnot\u001b[39;00m \u001b[38;5;28;01mNone\u001b[39;00m \u001b[38;5;28;01melse\u001b[39;00m \u001b[38;5;28mself\u001b[39m\u001b[38;5;241m.\u001b[39m_fit_X, \u001b[38;5;28mself\u001b[39m\u001b[38;5;241m.\u001b[39m_fit_X, \u001b[38;5;28mself\u001b[39m\u001b[38;5;241m.\u001b[39meffective_metric_\n\u001b[0;32m    819\u001b[0m     )\n\u001b[0;32m    820\u001b[0m )\n\u001b[0;32m    821\u001b[0m \u001b[38;5;28;01mif\u001b[39;00m use_pairwise_distances_reductions:\n\u001b[1;32m--> 822\u001b[0m     results \u001b[38;5;241m=\u001b[39m \u001b[43mArgKmin\u001b[49m\u001b[38;5;241;43m.\u001b[39;49m\u001b[43mcompute\u001b[49m\u001b[43m(\u001b[49m\n\u001b[0;32m    823\u001b[0m \u001b[43m        \u001b[49m\u001b[43mX\u001b[49m\u001b[38;5;241;43m=\u001b[39;49m\u001b[43mX\u001b[49m\u001b[43m,\u001b[49m\n\u001b[0;32m    824\u001b[0m \u001b[43m        \u001b[49m\u001b[43mY\u001b[49m\u001b[38;5;241;43m=\u001b[39;49m\u001b[38;5;28;43mself\u001b[39;49m\u001b[38;5;241;43m.\u001b[39;49m\u001b[43m_fit_X\u001b[49m\u001b[43m,\u001b[49m\n\u001b[0;32m    825\u001b[0m \u001b[43m        \u001b[49m\u001b[43mk\u001b[49m\u001b[38;5;241;43m=\u001b[39;49m\u001b[43mn_neighbors\u001b[49m\u001b[43m,\u001b[49m\n\u001b[0;32m    826\u001b[0m \u001b[43m        \u001b[49m\u001b[43mmetric\u001b[49m\u001b[38;5;241;43m=\u001b[39;49m\u001b[38;5;28;43mself\u001b[39;49m\u001b[38;5;241;43m.\u001b[39;49m\u001b[43meffective_metric_\u001b[49m\u001b[43m,\u001b[49m\n\u001b[0;32m    827\u001b[0m \u001b[43m        \u001b[49m\u001b[43mmetric_kwargs\u001b[49m\u001b[38;5;241;43m=\u001b[39;49m\u001b[38;5;28;43mself\u001b[39;49m\u001b[38;5;241;43m.\u001b[39;49m\u001b[43meffective_metric_params_\u001b[49m\u001b[43m,\u001b[49m\n\u001b[0;32m    828\u001b[0m \u001b[43m        \u001b[49m\u001b[43mstrategy\u001b[49m\u001b[38;5;241;43m=\u001b[39;49m\u001b[38;5;124;43m\"\u001b[39;49m\u001b[38;5;124;43mauto\u001b[39;49m\u001b[38;5;124;43m\"\u001b[39;49m\u001b[43m,\u001b[49m\n\u001b[0;32m    829\u001b[0m \u001b[43m        \u001b[49m\u001b[43mreturn_distance\u001b[49m\u001b[38;5;241;43m=\u001b[39;49m\u001b[43mreturn_distance\u001b[49m\u001b[43m,\u001b[49m\n\u001b[0;32m    830\u001b[0m \u001b[43m    \u001b[49m\u001b[43m)\u001b[49m\n\u001b[0;32m    832\u001b[0m \u001b[38;5;28;01melif\u001b[39;00m (\n\u001b[0;32m    833\u001b[0m     \u001b[38;5;28mself\u001b[39m\u001b[38;5;241m.\u001b[39m_fit_method \u001b[38;5;241m==\u001b[39m \u001b[38;5;124m\"\u001b[39m\u001b[38;5;124mbrute\u001b[39m\u001b[38;5;124m\"\u001b[39m \u001b[38;5;129;01mand\u001b[39;00m \u001b[38;5;28mself\u001b[39m\u001b[38;5;241m.\u001b[39mmetric \u001b[38;5;241m==\u001b[39m \u001b[38;5;124m\"\u001b[39m\u001b[38;5;124mprecomputed\u001b[39m\u001b[38;5;124m\"\u001b[39m \u001b[38;5;129;01mand\u001b[39;00m issparse(X)\n\u001b[0;32m    834\u001b[0m ):\n\u001b[0;32m    835\u001b[0m     results \u001b[38;5;241m=\u001b[39m _kneighbors_from_graph(\n\u001b[0;32m    836\u001b[0m         X, n_neighbors\u001b[38;5;241m=\u001b[39mn_neighbors, return_distance\u001b[38;5;241m=\u001b[39mreturn_distance\n\u001b[0;32m    837\u001b[0m     )\n",
      "File \u001b[1;32m~\\anaconda3\\lib\\site-packages\\sklearn\\metrics\\_pairwise_distances_reduction\\_dispatcher.py:270\u001b[0m, in \u001b[0;36mArgKmin.compute\u001b[1;34m(cls, X, Y, k, metric, chunk_size, metric_kwargs, strategy, return_distance)\u001b[0m\n\u001b[0;32m    258\u001b[0m     \u001b[38;5;28;01mreturn\u001b[39;00m ArgKmin64\u001b[38;5;241m.\u001b[39mcompute(\n\u001b[0;32m    259\u001b[0m         X\u001b[38;5;241m=\u001b[39mX,\n\u001b[0;32m    260\u001b[0m         Y\u001b[38;5;241m=\u001b[39mY,\n\u001b[1;32m   (...)\u001b[0m\n\u001b[0;32m    266\u001b[0m         return_distance\u001b[38;5;241m=\u001b[39mreturn_distance,\n\u001b[0;32m    267\u001b[0m     )\n\u001b[0;32m    269\u001b[0m \u001b[38;5;28;01mif\u001b[39;00m X\u001b[38;5;241m.\u001b[39mdtype \u001b[38;5;241m==\u001b[39m Y\u001b[38;5;241m.\u001b[39mdtype \u001b[38;5;241m==\u001b[39m np\u001b[38;5;241m.\u001b[39mfloat32:\n\u001b[1;32m--> 270\u001b[0m     \u001b[38;5;28;01mreturn\u001b[39;00m \u001b[43mArgKmin32\u001b[49m\u001b[38;5;241;43m.\u001b[39;49m\u001b[43mcompute\u001b[49m\u001b[43m(\u001b[49m\n\u001b[0;32m    271\u001b[0m \u001b[43m        \u001b[49m\u001b[43mX\u001b[49m\u001b[38;5;241;43m=\u001b[39;49m\u001b[43mX\u001b[49m\u001b[43m,\u001b[49m\n\u001b[0;32m    272\u001b[0m \u001b[43m        \u001b[49m\u001b[43mY\u001b[49m\u001b[38;5;241;43m=\u001b[39;49m\u001b[43mY\u001b[49m\u001b[43m,\u001b[49m\n\u001b[0;32m    273\u001b[0m \u001b[43m        \u001b[49m\u001b[43mk\u001b[49m\u001b[38;5;241;43m=\u001b[39;49m\u001b[43mk\u001b[49m\u001b[43m,\u001b[49m\n\u001b[0;32m    274\u001b[0m \u001b[43m        \u001b[49m\u001b[43mmetric\u001b[49m\u001b[38;5;241;43m=\u001b[39;49m\u001b[43mmetric\u001b[49m\u001b[43m,\u001b[49m\n\u001b[0;32m    275\u001b[0m \u001b[43m        \u001b[49m\u001b[43mchunk_size\u001b[49m\u001b[38;5;241;43m=\u001b[39;49m\u001b[43mchunk_size\u001b[49m\u001b[43m,\u001b[49m\n\u001b[0;32m    276\u001b[0m \u001b[43m        \u001b[49m\u001b[43mmetric_kwargs\u001b[49m\u001b[38;5;241;43m=\u001b[39;49m\u001b[43mmetric_kwargs\u001b[49m\u001b[43m,\u001b[49m\n\u001b[0;32m    277\u001b[0m \u001b[43m        \u001b[49m\u001b[43mstrategy\u001b[49m\u001b[38;5;241;43m=\u001b[39;49m\u001b[43mstrategy\u001b[49m\u001b[43m,\u001b[49m\n\u001b[0;32m    278\u001b[0m \u001b[43m        \u001b[49m\u001b[43mreturn_distance\u001b[49m\u001b[38;5;241;43m=\u001b[39;49m\u001b[43mreturn_distance\u001b[49m\u001b[43m,\u001b[49m\n\u001b[0;32m    279\u001b[0m \u001b[43m    \u001b[49m\u001b[43m)\u001b[49m\n\u001b[0;32m    281\u001b[0m \u001b[38;5;28;01mraise\u001b[39;00m \u001b[38;5;167;01mValueError\u001b[39;00m(\n\u001b[0;32m    282\u001b[0m     \u001b[38;5;124m\"\u001b[39m\u001b[38;5;124mOnly float64 or float32 datasets pairs are supported at this time, \u001b[39m\u001b[38;5;124m\"\u001b[39m\n\u001b[0;32m    283\u001b[0m     \u001b[38;5;124mf\u001b[39m\u001b[38;5;124m\"\u001b[39m\u001b[38;5;124mgot: X.dtype=\u001b[39m\u001b[38;5;132;01m{\u001b[39;00mX\u001b[38;5;241m.\u001b[39mdtype\u001b[38;5;132;01m}\u001b[39;00m\u001b[38;5;124m and Y.dtype=\u001b[39m\u001b[38;5;132;01m{\u001b[39;00mY\u001b[38;5;241m.\u001b[39mdtype\u001b[38;5;132;01m}\u001b[39;00m\u001b[38;5;124m.\u001b[39m\u001b[38;5;124m\"\u001b[39m\n\u001b[0;32m    284\u001b[0m )\n",
      "File \u001b[1;32msklearn\\metrics\\_pairwise_distances_reduction\\_argkmin.pyx:575\u001b[0m, in \u001b[0;36msklearn.metrics._pairwise_distances_reduction._argkmin.ArgKmin32.compute\u001b[1;34m()\u001b[0m\n",
      "File \u001b[1;32m~\\anaconda3\\lib\\site-packages\\sklearn\\utils\\fixes.py:72\u001b[0m, in \u001b[0;36mthreadpool_limits\u001b[1;34m(limits, user_api)\u001b[0m\n\u001b[0;32m     70\u001b[0m     \u001b[38;5;28;01mreturn\u001b[39;00m controller\u001b[38;5;241m.\u001b[39mlimit(limits\u001b[38;5;241m=\u001b[39mlimits, user_api\u001b[38;5;241m=\u001b[39muser_api)\n\u001b[0;32m     71\u001b[0m \u001b[38;5;28;01melse\u001b[39;00m:\n\u001b[1;32m---> 72\u001b[0m     \u001b[38;5;28;01mreturn\u001b[39;00m \u001b[43mthreadpoolctl\u001b[49m\u001b[38;5;241;43m.\u001b[39;49m\u001b[43mthreadpool_limits\u001b[49m\u001b[43m(\u001b[49m\u001b[43mlimits\u001b[49m\u001b[38;5;241;43m=\u001b[39;49m\u001b[43mlimits\u001b[49m\u001b[43m,\u001b[49m\u001b[43m \u001b[49m\u001b[43muser_api\u001b[49m\u001b[38;5;241;43m=\u001b[39;49m\u001b[43muser_api\u001b[49m\u001b[43m)\u001b[49m\n",
      "File \u001b[1;32m~\\anaconda3\\lib\\site-packages\\threadpoolctl.py:171\u001b[0m, in \u001b[0;36mthreadpool_limits.__init__\u001b[1;34m(self, limits, user_api)\u001b[0m\n\u001b[0;32m    167\u001b[0m \u001b[38;5;28;01mdef\u001b[39;00m \u001b[38;5;21m__init__\u001b[39m(\u001b[38;5;28mself\u001b[39m, limits\u001b[38;5;241m=\u001b[39m\u001b[38;5;28;01mNone\u001b[39;00m, user_api\u001b[38;5;241m=\u001b[39m\u001b[38;5;28;01mNone\u001b[39;00m):\n\u001b[0;32m    168\u001b[0m     \u001b[38;5;28mself\u001b[39m\u001b[38;5;241m.\u001b[39m_limits, \u001b[38;5;28mself\u001b[39m\u001b[38;5;241m.\u001b[39m_user_api, \u001b[38;5;28mself\u001b[39m\u001b[38;5;241m.\u001b[39m_prefixes \u001b[38;5;241m=\u001b[39m \\\n\u001b[0;32m    169\u001b[0m         \u001b[38;5;28mself\u001b[39m\u001b[38;5;241m.\u001b[39m_check_params(limits, user_api)\n\u001b[1;32m--> 171\u001b[0m     \u001b[38;5;28mself\u001b[39m\u001b[38;5;241m.\u001b[39m_original_info \u001b[38;5;241m=\u001b[39m \u001b[38;5;28;43mself\u001b[39;49m\u001b[38;5;241;43m.\u001b[39;49m\u001b[43m_set_threadpool_limits\u001b[49m\u001b[43m(\u001b[49m\u001b[43m)\u001b[49m\n",
      "File \u001b[1;32m~\\anaconda3\\lib\\site-packages\\threadpoolctl.py:268\u001b[0m, in \u001b[0;36mthreadpool_limits._set_threadpool_limits\u001b[1;34m(self)\u001b[0m\n\u001b[0;32m    265\u001b[0m \u001b[38;5;28;01mif\u001b[39;00m \u001b[38;5;28mself\u001b[39m\u001b[38;5;241m.\u001b[39m_limits \u001b[38;5;129;01mis\u001b[39;00m \u001b[38;5;28;01mNone\u001b[39;00m:\n\u001b[0;32m    266\u001b[0m     \u001b[38;5;28;01mreturn\u001b[39;00m \u001b[38;5;28;01mNone\u001b[39;00m\n\u001b[1;32m--> 268\u001b[0m modules \u001b[38;5;241m=\u001b[39m \u001b[43m_ThreadpoolInfo\u001b[49m\u001b[43m(\u001b[49m\u001b[43mprefixes\u001b[49m\u001b[38;5;241;43m=\u001b[39;49m\u001b[38;5;28;43mself\u001b[39;49m\u001b[38;5;241;43m.\u001b[39;49m\u001b[43m_prefixes\u001b[49m\u001b[43m,\u001b[49m\n\u001b[0;32m    269\u001b[0m \u001b[43m                          \u001b[49m\u001b[43muser_api\u001b[49m\u001b[38;5;241;43m=\u001b[39;49m\u001b[38;5;28;43mself\u001b[39;49m\u001b[38;5;241;43m.\u001b[39;49m\u001b[43m_user_api\u001b[49m\u001b[43m)\u001b[49m\n\u001b[0;32m    270\u001b[0m \u001b[38;5;28;01mfor\u001b[39;00m module \u001b[38;5;129;01min\u001b[39;00m modules:\n\u001b[0;32m    271\u001b[0m     \u001b[38;5;66;03m# self._limits is a dict {key: num_threads} where key is either\u001b[39;00m\n\u001b[0;32m    272\u001b[0m     \u001b[38;5;66;03m# a prefix or a user_api. If a module matches both, the limit\u001b[39;00m\n\u001b[0;32m    273\u001b[0m     \u001b[38;5;66;03m# corresponding to the prefix is chosed.\u001b[39;00m\n\u001b[0;32m    274\u001b[0m     \u001b[38;5;28;01mif\u001b[39;00m module\u001b[38;5;241m.\u001b[39mprefix \u001b[38;5;129;01min\u001b[39;00m \u001b[38;5;28mself\u001b[39m\u001b[38;5;241m.\u001b[39m_limits:\n",
      "File \u001b[1;32m~\\anaconda3\\lib\\site-packages\\threadpoolctl.py:340\u001b[0m, in \u001b[0;36m_ThreadpoolInfo.__init__\u001b[1;34m(self, user_api, prefixes, modules)\u001b[0m\n\u001b[0;32m    337\u001b[0m     \u001b[38;5;28mself\u001b[39m\u001b[38;5;241m.\u001b[39muser_api \u001b[38;5;241m=\u001b[39m [] \u001b[38;5;28;01mif\u001b[39;00m user_api \u001b[38;5;129;01mis\u001b[39;00m \u001b[38;5;28;01mNone\u001b[39;00m \u001b[38;5;28;01melse\u001b[39;00m user_api\n\u001b[0;32m    339\u001b[0m     \u001b[38;5;28mself\u001b[39m\u001b[38;5;241m.\u001b[39mmodules \u001b[38;5;241m=\u001b[39m []\n\u001b[1;32m--> 340\u001b[0m     \u001b[38;5;28;43mself\u001b[39;49m\u001b[38;5;241;43m.\u001b[39;49m\u001b[43m_load_modules\u001b[49m\u001b[43m(\u001b[49m\u001b[43m)\u001b[49m\n\u001b[0;32m    341\u001b[0m     \u001b[38;5;28mself\u001b[39m\u001b[38;5;241m.\u001b[39m_warn_if_incompatible_openmp()\n\u001b[0;32m    342\u001b[0m \u001b[38;5;28;01melse\u001b[39;00m:\n",
      "File \u001b[1;32m~\\anaconda3\\lib\\site-packages\\threadpoolctl.py:373\u001b[0m, in \u001b[0;36m_ThreadpoolInfo._load_modules\u001b[1;34m(self)\u001b[0m\n\u001b[0;32m    371\u001b[0m     \u001b[38;5;28mself\u001b[39m\u001b[38;5;241m.\u001b[39m_find_modules_with_dyld()\n\u001b[0;32m    372\u001b[0m \u001b[38;5;28;01melif\u001b[39;00m sys\u001b[38;5;241m.\u001b[39mplatform \u001b[38;5;241m==\u001b[39m \u001b[38;5;124m\"\u001b[39m\u001b[38;5;124mwin32\u001b[39m\u001b[38;5;124m\"\u001b[39m:\n\u001b[1;32m--> 373\u001b[0m     \u001b[38;5;28;43mself\u001b[39;49m\u001b[38;5;241;43m.\u001b[39;49m\u001b[43m_find_modules_with_enum_process_module_ex\u001b[49m\u001b[43m(\u001b[49m\u001b[43m)\u001b[49m\n\u001b[0;32m    374\u001b[0m \u001b[38;5;28;01melse\u001b[39;00m:\n\u001b[0;32m    375\u001b[0m     \u001b[38;5;28mself\u001b[39m\u001b[38;5;241m.\u001b[39m_find_modules_with_dl_iterate_phdr()\n",
      "File \u001b[1;32m~\\anaconda3\\lib\\site-packages\\threadpoolctl.py:485\u001b[0m, in \u001b[0;36m_ThreadpoolInfo._find_modules_with_enum_process_module_ex\u001b[1;34m(self)\u001b[0m\n\u001b[0;32m    482\u001b[0m         filepath \u001b[38;5;241m=\u001b[39m buf\u001b[38;5;241m.\u001b[39mvalue\n\u001b[0;32m    484\u001b[0m         \u001b[38;5;66;03m# Store the module if it is supported and selected\u001b[39;00m\n\u001b[1;32m--> 485\u001b[0m         \u001b[38;5;28;43mself\u001b[39;49m\u001b[38;5;241;43m.\u001b[39;49m\u001b[43m_make_module_from_path\u001b[49m\u001b[43m(\u001b[49m\u001b[43mfilepath\u001b[49m\u001b[43m)\u001b[49m\n\u001b[0;32m    486\u001b[0m \u001b[38;5;28;01mfinally\u001b[39;00m:\n\u001b[0;32m    487\u001b[0m     kernel_32\u001b[38;5;241m.\u001b[39mCloseHandle(h_process)\n",
      "File \u001b[1;32m~\\anaconda3\\lib\\site-packages\\threadpoolctl.py:515\u001b[0m, in \u001b[0;36m_ThreadpoolInfo._make_module_from_path\u001b[1;34m(self, filepath)\u001b[0m\n\u001b[0;32m    513\u001b[0m \u001b[38;5;28;01mif\u001b[39;00m prefix \u001b[38;5;129;01min\u001b[39;00m \u001b[38;5;28mself\u001b[39m\u001b[38;5;241m.\u001b[39mprefixes \u001b[38;5;129;01mor\u001b[39;00m user_api \u001b[38;5;129;01min\u001b[39;00m \u001b[38;5;28mself\u001b[39m\u001b[38;5;241m.\u001b[39muser_api:\n\u001b[0;32m    514\u001b[0m     module_class \u001b[38;5;241m=\u001b[39m \u001b[38;5;28mglobals\u001b[39m()[module_class]\n\u001b[1;32m--> 515\u001b[0m     module \u001b[38;5;241m=\u001b[39m \u001b[43mmodule_class\u001b[49m\u001b[43m(\u001b[49m\u001b[43mfilepath\u001b[49m\u001b[43m,\u001b[49m\u001b[43m \u001b[49m\u001b[43mprefix\u001b[49m\u001b[43m,\u001b[49m\u001b[43m \u001b[49m\u001b[43muser_api\u001b[49m\u001b[43m,\u001b[49m\u001b[43m \u001b[49m\u001b[43minternal_api\u001b[49m\u001b[43m)\u001b[49m\n\u001b[0;32m    516\u001b[0m     \u001b[38;5;28mself\u001b[39m\u001b[38;5;241m.\u001b[39mmodules\u001b[38;5;241m.\u001b[39mappend(module)\n",
      "File \u001b[1;32m~\\anaconda3\\lib\\site-packages\\threadpoolctl.py:606\u001b[0m, in \u001b[0;36m_Module.__init__\u001b[1;34m(self, filepath, prefix, user_api, internal_api)\u001b[0m\n\u001b[0;32m    604\u001b[0m \u001b[38;5;28mself\u001b[39m\u001b[38;5;241m.\u001b[39minternal_api \u001b[38;5;241m=\u001b[39m internal_api\n\u001b[0;32m    605\u001b[0m \u001b[38;5;28mself\u001b[39m\u001b[38;5;241m.\u001b[39m_dynlib \u001b[38;5;241m=\u001b[39m ctypes\u001b[38;5;241m.\u001b[39mCDLL(filepath, mode\u001b[38;5;241m=\u001b[39m_RTLD_NOLOAD)\n\u001b[1;32m--> 606\u001b[0m \u001b[38;5;28mself\u001b[39m\u001b[38;5;241m.\u001b[39mversion \u001b[38;5;241m=\u001b[39m \u001b[38;5;28;43mself\u001b[39;49m\u001b[38;5;241;43m.\u001b[39;49m\u001b[43mget_version\u001b[49m\u001b[43m(\u001b[49m\u001b[43m)\u001b[49m\n\u001b[0;32m    607\u001b[0m \u001b[38;5;28mself\u001b[39m\u001b[38;5;241m.\u001b[39mnum_threads \u001b[38;5;241m=\u001b[39m \u001b[38;5;28mself\u001b[39m\u001b[38;5;241m.\u001b[39mget_num_threads()\n\u001b[0;32m    608\u001b[0m \u001b[38;5;28mself\u001b[39m\u001b[38;5;241m.\u001b[39m_get_extra_info()\n",
      "File \u001b[1;32m~\\anaconda3\\lib\\site-packages\\threadpoolctl.py:646\u001b[0m, in \u001b[0;36m_OpenBLASModule.get_version\u001b[1;34m(self)\u001b[0m\n\u001b[0;32m    643\u001b[0m get_config \u001b[38;5;241m=\u001b[39m \u001b[38;5;28mgetattr\u001b[39m(\u001b[38;5;28mself\u001b[39m\u001b[38;5;241m.\u001b[39m_dynlib, \u001b[38;5;124m\"\u001b[39m\u001b[38;5;124mopenblas_get_config\u001b[39m\u001b[38;5;124m\"\u001b[39m,\n\u001b[0;32m    644\u001b[0m                      \u001b[38;5;28;01mlambda\u001b[39;00m: \u001b[38;5;28;01mNone\u001b[39;00m)\n\u001b[0;32m    645\u001b[0m get_config\u001b[38;5;241m.\u001b[39mrestype \u001b[38;5;241m=\u001b[39m ctypes\u001b[38;5;241m.\u001b[39mc_char_p\n\u001b[1;32m--> 646\u001b[0m config \u001b[38;5;241m=\u001b[39m \u001b[43mget_config\u001b[49m\u001b[43m(\u001b[49m\u001b[43m)\u001b[49m\u001b[38;5;241;43m.\u001b[39;49m\u001b[43msplit\u001b[49m()\n\u001b[0;32m    647\u001b[0m \u001b[38;5;28;01mif\u001b[39;00m config[\u001b[38;5;241m0\u001b[39m] \u001b[38;5;241m==\u001b[39m \u001b[38;5;124mb\u001b[39m\u001b[38;5;124m\"\u001b[39m\u001b[38;5;124mOpenBLAS\u001b[39m\u001b[38;5;124m\"\u001b[39m:\n\u001b[0;32m    648\u001b[0m     \u001b[38;5;28;01mreturn\u001b[39;00m config[\u001b[38;5;241m1\u001b[39m]\u001b[38;5;241m.\u001b[39mdecode(\u001b[38;5;124m\"\u001b[39m\u001b[38;5;124mutf-8\u001b[39m\u001b[38;5;124m\"\u001b[39m)\n",
      "\u001b[1;31mAttributeError\u001b[0m: 'NoneType' object has no attribute 'split'"
     ]
    }
   ],
   "source": [
    "from imblearn.over_sampling import SMOTE\n",
    "\n",
    "smote = SMOTE()\n",
    "X_train_resampled, y_train_resampled = smote.fit_resample(X_train, y_train)"
   ]
  },
  {
   "cell_type": "code",
   "execution_count": 55,
   "id": "3cb783a7",
   "metadata": {
    "ExecuteTime": {
     "end_time": "2024-11-07T02:45:09.973152Z",
     "start_time": "2024-11-07T02:45:09.942573Z"
    }
   },
   "outputs": [
    {
     "name": "stdout",
     "output_type": "stream",
     "text": [
      "gender                                        0\n",
      "SeniorCitizen                                 0\n",
      "Partner                                       0\n",
      "Dependents                                    0\n",
      "tenure                                        0\n",
      "PhoneService                                  0\n",
      "MultipleLines                                 0\n",
      "OnlineSecurity                                0\n",
      "OnlineBackup                                  0\n",
      "DeviceProtection                              0\n",
      "TechSupport                                   0\n",
      "StreamingTV                                   0\n",
      "StreamingMovies                               0\n",
      "PaperlessBilling                              0\n",
      "MonthlyCharges                                0\n",
      "TotalCharges                                  0\n",
      "Churn Score                                   0\n",
      "CLTV                                          0\n",
      "Churn Reason                               4720\n",
      "Under 30                                      0\n",
      "Married                                       0\n",
      "Referred a Friend                             0\n",
      "Number of Referrals                           0\n",
      "Avg Monthly Long Distance Charges             0\n",
      "Avg Monthly GB Download                       0\n",
      "Streaming Music                               0\n",
      "Premium Tech Support                          0\n",
      "Unlimited Data                                0\n",
      "Total Revenue                                 0\n",
      "Satisfaction Score                            0\n",
      "Customer Status                               0\n",
      "Churn Score.1                                 0\n",
      "Churn Category                                0\n",
      "Refunds                                       0\n",
      "Has Extra Data Charges                        0\n",
      "InternetService_DSL                           0\n",
      "InternetService_Fiber optic                   0\n",
      "InternetService_No                            0\n",
      "Offer_None                                    0\n",
      "Offer_Offer A                                 0\n",
      "Offer_Offer B                                 0\n",
      "Offer_Offer C                                 0\n",
      "Offer_Offer D                                 0\n",
      "Offer_Offer E                                 0\n",
      "PaymentMethod_Bank transfer (automatic)       0\n",
      "PaymentMethod_Credit card (automatic)         0\n",
      "PaymentMethod_Electronic check                0\n",
      "PaymentMethod_Mailed check                    0\n",
      "Contract_Month-to-month                       0\n",
      "Contract_One year                             0\n",
      "Contract_Two year                             0\n",
      "dtype: int64\n"
     ]
    }
   ],
   "source": [
    "print(data.isnull().sum())"
   ]
  },
  {
   "cell_type": "code",
   "execution_count": 56,
   "id": "812228a0",
   "metadata": {
    "ExecuteTime": {
     "end_time": "2024-11-07T02:45:12.712391Z",
     "start_time": "2024-11-07T02:45:12.689032Z"
    }
   },
   "outputs": [
    {
     "name": "stdout",
     "output_type": "stream",
     "text": [
      "0\n"
     ]
    }
   ],
   "source": [
    "print(y_train.isnull().sum())"
   ]
  },
  {
   "cell_type": "code",
   "execution_count": 57,
   "id": "3517d222",
   "metadata": {
    "ExecuteTime": {
     "end_time": "2024-11-07T02:45:35.478038Z",
     "start_time": "2024-11-07T02:45:35.441041Z"
    }
   },
   "outputs": [],
   "source": [
    "data = data.fillna(0) # 결측값을 0으로 대체"
   ]
  },
  {
   "cell_type": "code",
   "execution_count": 59,
   "id": "7fc7eee1",
   "metadata": {
    "ExecuteTime": {
     "end_time": "2024-11-07T02:47:31.739795Z",
     "start_time": "2024-11-07T02:47:31.674866Z"
    }
   },
   "outputs": [
    {
     "name": "stdout",
     "output_type": "stream",
     "text": [
      "(5224, 48) (5224,)\n",
      "      gender  SeniorCitizen  Partner  Dependents    tenure  PhoneService  \\\n",
      "4115     0.0            1.0      1.0         0.0  1.000000           0.0   \n",
      "1454     0.0            0.0      0.0         0.0  0.125000           0.0   \n",
      "6774     0.0            0.0      0.0         0.0  0.375000           1.0   \n",
      "1758     0.0            1.0      1.0         0.0  0.083333           1.0   \n",
      "5056     1.0            1.0      0.0         0.0  0.194444           1.0   \n",
      "\n",
      "      MultipleLines  OnlineSecurity  OnlineBackup  DeviceProtection  ...  \\\n",
      "4115            0.0             1.0           1.0               1.0  ...   \n",
      "1454            0.0             0.0           0.0               0.0  ...   \n",
      "6774            0.0             0.0           0.0               0.0  ...   \n",
      "1758            0.0             0.0           0.0               1.0  ...   \n",
      "5056            1.0             0.0           0.0               1.0  ...   \n",
      "\n",
      "      Offer_Offer C  Offer_Offer D  Offer_Offer E  \\\n",
      "4115            0.0            0.0            0.0   \n",
      "1454            0.0            0.0            0.0   \n",
      "6774            1.0            0.0            0.0   \n",
      "1758            0.0            0.0            1.0   \n",
      "5056            0.0            0.0            0.0   \n",
      "\n",
      "      PaymentMethod_Bank transfer (automatic)  \\\n",
      "4115                                      0.0   \n",
      "1454                                      0.0   \n",
      "6774                                      0.0   \n",
      "1758                                      0.0   \n",
      "5056                                      1.0   \n",
      "\n",
      "      PaymentMethod_Credit card (automatic)  PaymentMethod_Electronic check  \\\n",
      "4115                                    1.0                             0.0   \n",
      "1454                                    1.0                             0.0   \n",
      "6774                                    1.0                             0.0   \n",
      "1758                                    0.0                             1.0   \n",
      "5056                                    0.0                             0.0   \n",
      "\n",
      "      PaymentMethod_Mailed check  Contract_Month-to-month  Contract_One year  \\\n",
      "4115                         0.0                      0.0                0.0   \n",
      "1454                         0.0                      1.0                0.0   \n",
      "6774                         0.0                      0.0                0.0   \n",
      "1758                         0.0                      1.0                0.0   \n",
      "5056                         0.0                      1.0                0.0   \n",
      "\n",
      "      Contract_Two year  \n",
      "4115                1.0  \n",
      "1454                0.0  \n",
      "6774                1.0  \n",
      "1758                0.0  \n",
      "5056                0.0  \n",
      "\n",
      "[5 rows x 48 columns]\n",
      "4115    0.0\n",
      "1454    1.0\n",
      "6774    0.0\n",
      "1758    1.0\n",
      "5056    0.0\n",
      "Name: Customer Status, dtype: float32\n"
     ]
    }
   ],
   "source": [
    "print(X_train.shape, y_train.shape)\n",
    "print(X_train.head())\n",
    "print(y_train.head())"
   ]
  },
  {
   "cell_type": "code",
   "execution_count": 68,
   "id": "0d42e658",
   "metadata": {
    "ExecuteTime": {
     "end_time": "2024-11-07T02:57:17.292914Z",
     "start_time": "2024-11-07T02:57:16.830152Z"
    }
   },
   "outputs": [
    {
     "ename": "AttributeError",
     "evalue": "'NoneType' object has no attribute 'split'",
     "output_type": "error",
     "traceback": [
      "\u001b[1;31m---------------------------------------------------------------------------\u001b[0m",
      "\u001b[1;31mAttributeError\u001b[0m                            Traceback (most recent call last)",
      "Cell \u001b[1;32mIn[68], line 4\u001b[0m\n\u001b[0;32m      1\u001b[0m \u001b[38;5;28;01mfrom\u001b[39;00m \u001b[38;5;21;01mimblearn\u001b[39;00m\u001b[38;5;21;01m.\u001b[39;00m\u001b[38;5;21;01mover_sampling\u001b[39;00m \u001b[38;5;28;01mimport\u001b[39;00m SMOTE\n\u001b[0;32m      3\u001b[0m smote \u001b[38;5;241m=\u001b[39m SMOTE(sampling_strategy\u001b[38;5;241m=\u001b[39m\u001b[38;5;124m'\u001b[39m\u001b[38;5;124mauto\u001b[39m\u001b[38;5;124m'\u001b[39m, random_state\u001b[38;5;241m=\u001b[39m\u001b[38;5;241m42\u001b[39m)  \u001b[38;5;66;03m# sampling_strategy 확인\u001b[39;00m\n\u001b[1;32m----> 4\u001b[0m X_train_resampled, y_train_resampled \u001b[38;5;241m=\u001b[39m \u001b[43msmote\u001b[49m\u001b[38;5;241;43m.\u001b[39;49m\u001b[43mfit_resample\u001b[49m\u001b[43m(\u001b[49m\u001b[43mX_train\u001b[49m\u001b[43m,\u001b[49m\u001b[43m \u001b[49m\u001b[43my_train\u001b[49m\u001b[43m)\u001b[49m\n",
      "File \u001b[1;32m~\\anaconda3\\lib\\site-packages\\imblearn\\base.py:208\u001b[0m, in \u001b[0;36mBaseSampler.fit_resample\u001b[1;34m(self, X, y)\u001b[0m\n\u001b[0;32m    187\u001b[0m \u001b[38;5;250m\u001b[39m\u001b[38;5;124;03m\"\"\"Resample the dataset.\u001b[39;00m\n\u001b[0;32m    188\u001b[0m \n\u001b[0;32m    189\u001b[0m \u001b[38;5;124;03mParameters\u001b[39;00m\n\u001b[1;32m   (...)\u001b[0m\n\u001b[0;32m    205\u001b[0m \u001b[38;5;124;03m    The corresponding label of `X_resampled`.\u001b[39;00m\n\u001b[0;32m    206\u001b[0m \u001b[38;5;124;03m\"\"\"\u001b[39;00m\n\u001b[0;32m    207\u001b[0m \u001b[38;5;28mself\u001b[39m\u001b[38;5;241m.\u001b[39m_validate_params()\n\u001b[1;32m--> 208\u001b[0m \u001b[38;5;28;01mreturn\u001b[39;00m \u001b[38;5;28;43msuper\u001b[39;49m\u001b[43m(\u001b[49m\u001b[43m)\u001b[49m\u001b[38;5;241;43m.\u001b[39;49m\u001b[43mfit_resample\u001b[49m\u001b[43m(\u001b[49m\u001b[43mX\u001b[49m\u001b[43m,\u001b[49m\u001b[43m \u001b[49m\u001b[43my\u001b[49m\u001b[43m)\u001b[49m\n",
      "File \u001b[1;32m~\\anaconda3\\lib\\site-packages\\imblearn\\base.py:112\u001b[0m, in \u001b[0;36mSamplerMixin.fit_resample\u001b[1;34m(self, X, y)\u001b[0m\n\u001b[0;32m    106\u001b[0m X, y, binarize_y \u001b[38;5;241m=\u001b[39m \u001b[38;5;28mself\u001b[39m\u001b[38;5;241m.\u001b[39m_check_X_y(X, y)\n\u001b[0;32m    108\u001b[0m \u001b[38;5;28mself\u001b[39m\u001b[38;5;241m.\u001b[39msampling_strategy_ \u001b[38;5;241m=\u001b[39m check_sampling_strategy(\n\u001b[0;32m    109\u001b[0m     \u001b[38;5;28mself\u001b[39m\u001b[38;5;241m.\u001b[39msampling_strategy, y, \u001b[38;5;28mself\u001b[39m\u001b[38;5;241m.\u001b[39m_sampling_type\n\u001b[0;32m    110\u001b[0m )\n\u001b[1;32m--> 112\u001b[0m output \u001b[38;5;241m=\u001b[39m \u001b[38;5;28;43mself\u001b[39;49m\u001b[38;5;241;43m.\u001b[39;49m\u001b[43m_fit_resample\u001b[49m\u001b[43m(\u001b[49m\u001b[43mX\u001b[49m\u001b[43m,\u001b[49m\u001b[43m \u001b[49m\u001b[43my\u001b[49m\u001b[43m)\u001b[49m\n\u001b[0;32m    114\u001b[0m y_ \u001b[38;5;241m=\u001b[39m (\n\u001b[0;32m    115\u001b[0m     label_binarize(output[\u001b[38;5;241m1\u001b[39m], classes\u001b[38;5;241m=\u001b[39mnp\u001b[38;5;241m.\u001b[39munique(y)) \u001b[38;5;28;01mif\u001b[39;00m binarize_y \u001b[38;5;28;01melse\u001b[39;00m output[\u001b[38;5;241m1\u001b[39m]\n\u001b[0;32m    116\u001b[0m )\n\u001b[0;32m    118\u001b[0m X_, y_ \u001b[38;5;241m=\u001b[39m arrays_transformer\u001b[38;5;241m.\u001b[39mtransform(output[\u001b[38;5;241m0\u001b[39m], y_)\n",
      "File \u001b[1;32m~\\anaconda3\\lib\\site-packages\\imblearn\\over_sampling\\_smote\\base.py:389\u001b[0m, in \u001b[0;36mSMOTE._fit_resample\u001b[1;34m(self, X, y)\u001b[0m\n\u001b[0;32m    386\u001b[0m X_class \u001b[38;5;241m=\u001b[39m _safe_indexing(X, target_class_indices)\n\u001b[0;32m    388\u001b[0m \u001b[38;5;28mself\u001b[39m\u001b[38;5;241m.\u001b[39mnn_k_\u001b[38;5;241m.\u001b[39mfit(X_class)\n\u001b[1;32m--> 389\u001b[0m nns \u001b[38;5;241m=\u001b[39m \u001b[38;5;28;43mself\u001b[39;49m\u001b[38;5;241;43m.\u001b[39;49m\u001b[43mnn_k_\u001b[49m\u001b[38;5;241;43m.\u001b[39;49m\u001b[43mkneighbors\u001b[49m\u001b[43m(\u001b[49m\u001b[43mX_class\u001b[49m\u001b[43m,\u001b[49m\u001b[43m \u001b[49m\u001b[43mreturn_distance\u001b[49m\u001b[38;5;241;43m=\u001b[39;49m\u001b[38;5;28;43;01mFalse\u001b[39;49;00m\u001b[43m)\u001b[49m[:, \u001b[38;5;241m1\u001b[39m:]\n\u001b[0;32m    390\u001b[0m X_new, y_new \u001b[38;5;241m=\u001b[39m \u001b[38;5;28mself\u001b[39m\u001b[38;5;241m.\u001b[39m_make_samples(\n\u001b[0;32m    391\u001b[0m     X_class, y\u001b[38;5;241m.\u001b[39mdtype, class_sample, X_class, nns, n_samples, \u001b[38;5;241m1.0\u001b[39m\n\u001b[0;32m    392\u001b[0m )\n\u001b[0;32m    393\u001b[0m X_resampled\u001b[38;5;241m.\u001b[39mappend(X_new)\n",
      "File \u001b[1;32m~\\anaconda3\\lib\\site-packages\\sklearn\\neighbors\\_base.py:822\u001b[0m, in \u001b[0;36mKNeighborsMixin.kneighbors\u001b[1;34m(self, X, n_neighbors, return_distance)\u001b[0m\n\u001b[0;32m    815\u001b[0m use_pairwise_distances_reductions \u001b[38;5;241m=\u001b[39m (\n\u001b[0;32m    816\u001b[0m     \u001b[38;5;28mself\u001b[39m\u001b[38;5;241m.\u001b[39m_fit_method \u001b[38;5;241m==\u001b[39m \u001b[38;5;124m\"\u001b[39m\u001b[38;5;124mbrute\u001b[39m\u001b[38;5;124m\"\u001b[39m\n\u001b[0;32m    817\u001b[0m     \u001b[38;5;129;01mand\u001b[39;00m ArgKmin\u001b[38;5;241m.\u001b[39mis_usable_for(\n\u001b[0;32m    818\u001b[0m         X \u001b[38;5;28;01mif\u001b[39;00m X \u001b[38;5;129;01mis\u001b[39;00m \u001b[38;5;129;01mnot\u001b[39;00m \u001b[38;5;28;01mNone\u001b[39;00m \u001b[38;5;28;01melse\u001b[39;00m \u001b[38;5;28mself\u001b[39m\u001b[38;5;241m.\u001b[39m_fit_X, \u001b[38;5;28mself\u001b[39m\u001b[38;5;241m.\u001b[39m_fit_X, \u001b[38;5;28mself\u001b[39m\u001b[38;5;241m.\u001b[39meffective_metric_\n\u001b[0;32m    819\u001b[0m     )\n\u001b[0;32m    820\u001b[0m )\n\u001b[0;32m    821\u001b[0m \u001b[38;5;28;01mif\u001b[39;00m use_pairwise_distances_reductions:\n\u001b[1;32m--> 822\u001b[0m     results \u001b[38;5;241m=\u001b[39m \u001b[43mArgKmin\u001b[49m\u001b[38;5;241;43m.\u001b[39;49m\u001b[43mcompute\u001b[49m\u001b[43m(\u001b[49m\n\u001b[0;32m    823\u001b[0m \u001b[43m        \u001b[49m\u001b[43mX\u001b[49m\u001b[38;5;241;43m=\u001b[39;49m\u001b[43mX\u001b[49m\u001b[43m,\u001b[49m\n\u001b[0;32m    824\u001b[0m \u001b[43m        \u001b[49m\u001b[43mY\u001b[49m\u001b[38;5;241;43m=\u001b[39;49m\u001b[38;5;28;43mself\u001b[39;49m\u001b[38;5;241;43m.\u001b[39;49m\u001b[43m_fit_X\u001b[49m\u001b[43m,\u001b[49m\n\u001b[0;32m    825\u001b[0m \u001b[43m        \u001b[49m\u001b[43mk\u001b[49m\u001b[38;5;241;43m=\u001b[39;49m\u001b[43mn_neighbors\u001b[49m\u001b[43m,\u001b[49m\n\u001b[0;32m    826\u001b[0m \u001b[43m        \u001b[49m\u001b[43mmetric\u001b[49m\u001b[38;5;241;43m=\u001b[39;49m\u001b[38;5;28;43mself\u001b[39;49m\u001b[38;5;241;43m.\u001b[39;49m\u001b[43meffective_metric_\u001b[49m\u001b[43m,\u001b[49m\n\u001b[0;32m    827\u001b[0m \u001b[43m        \u001b[49m\u001b[43mmetric_kwargs\u001b[49m\u001b[38;5;241;43m=\u001b[39;49m\u001b[38;5;28;43mself\u001b[39;49m\u001b[38;5;241;43m.\u001b[39;49m\u001b[43meffective_metric_params_\u001b[49m\u001b[43m,\u001b[49m\n\u001b[0;32m    828\u001b[0m \u001b[43m        \u001b[49m\u001b[43mstrategy\u001b[49m\u001b[38;5;241;43m=\u001b[39;49m\u001b[38;5;124;43m\"\u001b[39;49m\u001b[38;5;124;43mauto\u001b[39;49m\u001b[38;5;124;43m\"\u001b[39;49m\u001b[43m,\u001b[49m\n\u001b[0;32m    829\u001b[0m \u001b[43m        \u001b[49m\u001b[43mreturn_distance\u001b[49m\u001b[38;5;241;43m=\u001b[39;49m\u001b[43mreturn_distance\u001b[49m\u001b[43m,\u001b[49m\n\u001b[0;32m    830\u001b[0m \u001b[43m    \u001b[49m\u001b[43m)\u001b[49m\n\u001b[0;32m    832\u001b[0m \u001b[38;5;28;01melif\u001b[39;00m (\n\u001b[0;32m    833\u001b[0m     \u001b[38;5;28mself\u001b[39m\u001b[38;5;241m.\u001b[39m_fit_method \u001b[38;5;241m==\u001b[39m \u001b[38;5;124m\"\u001b[39m\u001b[38;5;124mbrute\u001b[39m\u001b[38;5;124m\"\u001b[39m \u001b[38;5;129;01mand\u001b[39;00m \u001b[38;5;28mself\u001b[39m\u001b[38;5;241m.\u001b[39mmetric \u001b[38;5;241m==\u001b[39m \u001b[38;5;124m\"\u001b[39m\u001b[38;5;124mprecomputed\u001b[39m\u001b[38;5;124m\"\u001b[39m \u001b[38;5;129;01mand\u001b[39;00m issparse(X)\n\u001b[0;32m    834\u001b[0m ):\n\u001b[0;32m    835\u001b[0m     results \u001b[38;5;241m=\u001b[39m _kneighbors_from_graph(\n\u001b[0;32m    836\u001b[0m         X, n_neighbors\u001b[38;5;241m=\u001b[39mn_neighbors, return_distance\u001b[38;5;241m=\u001b[39mreturn_distance\n\u001b[0;32m    837\u001b[0m     )\n",
      "File \u001b[1;32m~\\anaconda3\\lib\\site-packages\\sklearn\\metrics\\_pairwise_distances_reduction\\_dispatcher.py:258\u001b[0m, in \u001b[0;36mcompute\u001b[1;34m(cls, X, Y, k, metric, chunk_size, metric_kwargs, strategy, return_distance)\u001b[0m\n\u001b[0;32m    185\u001b[0m \u001b[38;5;129m@classmethod\u001b[39m\n\u001b[0;32m    186\u001b[0m \u001b[38;5;28;01mdef\u001b[39;00m \u001b[38;5;21mcompute\u001b[39m(\n\u001b[0;32m    187\u001b[0m     \u001b[38;5;28mcls\u001b[39m,\n\u001b[1;32m   (...)\u001b[0m\n\u001b[0;32m    195\u001b[0m     return_distance\u001b[38;5;241m=\u001b[39m\u001b[38;5;28;01mFalse\u001b[39;00m,\n\u001b[0;32m    196\u001b[0m ):\n\u001b[0;32m    197\u001b[0m \u001b[38;5;250m    \u001b[39m\u001b[38;5;124;03m\"\"\"Compute the argkmin reduction.\u001b[39;00m\n\u001b[0;32m    198\u001b[0m \n\u001b[0;32m    199\u001b[0m \u001b[38;5;124;03m    Parameters\u001b[39;00m\n\u001b[0;32m    200\u001b[0m \u001b[38;5;124;03m    ----------\u001b[39;00m\n\u001b[0;32m    201\u001b[0m \u001b[38;5;124;03m    X : ndarray or CSR matrix of shape (n_samples_X, n_features)\u001b[39;00m\n\u001b[0;32m    202\u001b[0m \u001b[38;5;124;03m        Input data.\u001b[39;00m\n\u001b[0;32m    203\u001b[0m \n\u001b[0;32m    204\u001b[0m \u001b[38;5;124;03m    Y : ndarray or CSR matrix of shape (n_samples_Y, n_features)\u001b[39;00m\n\u001b[0;32m    205\u001b[0m \u001b[38;5;124;03m        Input data.\u001b[39;00m\n\u001b[0;32m    206\u001b[0m \n\u001b[0;32m    207\u001b[0m \u001b[38;5;124;03m    k : int\u001b[39;00m\n\u001b[0;32m    208\u001b[0m \u001b[38;5;124;03m        The k for the argkmin reduction.\u001b[39;00m\n\u001b[0;32m    209\u001b[0m \n\u001b[0;32m    210\u001b[0m \u001b[38;5;124;03m    metric : str, default='euclidean'\u001b[39;00m\n\u001b[0;32m    211\u001b[0m \u001b[38;5;124;03m        The distance metric to use for argkmin.\u001b[39;00m\n\u001b[0;32m    212\u001b[0m \u001b[38;5;124;03m        For a list of available metrics, see the documentation of\u001b[39;00m\n\u001b[0;32m    213\u001b[0m \u001b[38;5;124;03m        :class:`~sklearn.metrics.DistanceMetric`.\u001b[39;00m\n\u001b[0;32m    214\u001b[0m \n\u001b[0;32m    215\u001b[0m \u001b[38;5;124;03m    chunk_size : int, default=None,\u001b[39;00m\n\u001b[0;32m    216\u001b[0m \u001b[38;5;124;03m        The number of vectors per chunk. If None (default) looks-up in\u001b[39;00m\n\u001b[0;32m    217\u001b[0m \u001b[38;5;124;03m        scikit-learn configuration for `pairwise_dist_chunk_size`,\u001b[39;00m\n\u001b[0;32m    218\u001b[0m \u001b[38;5;124;03m        and use 256 if it is not set.\u001b[39;00m\n\u001b[0;32m    219\u001b[0m \n\u001b[0;32m    220\u001b[0m \u001b[38;5;124;03m    metric_kwargs : dict, default=None\u001b[39;00m\n\u001b[0;32m    221\u001b[0m \u001b[38;5;124;03m        Keyword arguments to pass to specified metric function.\u001b[39;00m\n\u001b[0;32m    222\u001b[0m \n\u001b[0;32m    223\u001b[0m \u001b[38;5;124;03m    strategy : str, {'auto', 'parallel_on_X', 'parallel_on_Y'}, default=None\u001b[39;00m\n\u001b[0;32m    224\u001b[0m \u001b[38;5;124;03m        The chunking strategy defining which dataset parallelization are made on.\u001b[39;00m\n\u001b[0;32m    225\u001b[0m \n\u001b[0;32m    226\u001b[0m \u001b[38;5;124;03m        For both strategies the computations happens with two nested loops,\u001b[39;00m\n\u001b[0;32m    227\u001b[0m \u001b[38;5;124;03m        respectively on chunks of X and chunks of Y.\u001b[39;00m\n\u001b[0;32m    228\u001b[0m \u001b[38;5;124;03m        Strategies differs on which loop (outer or inner) is made to run\u001b[39;00m\n\u001b[0;32m    229\u001b[0m \u001b[38;5;124;03m        in parallel with the Cython `prange` construct:\u001b[39;00m\n\u001b[0;32m    230\u001b[0m \n\u001b[0;32m    231\u001b[0m \u001b[38;5;124;03m          - 'parallel_on_X' dispatches chunks of X uniformly on threads.\u001b[39;00m\n\u001b[0;32m    232\u001b[0m \u001b[38;5;124;03m            Each thread then iterates on all the chunks of Y. This strategy is\u001b[39;00m\n\u001b[0;32m    233\u001b[0m \u001b[38;5;124;03m            embarrassingly parallel and comes with no datastructures\u001b[39;00m\n\u001b[0;32m    234\u001b[0m \u001b[38;5;124;03m            synchronisation.\u001b[39;00m\n\u001b[0;32m    235\u001b[0m \n\u001b[0;32m    236\u001b[0m \u001b[38;5;124;03m          - 'parallel_on_Y' dispatches chunks of Y uniformly on threads.\u001b[39;00m\n\u001b[0;32m    237\u001b[0m \u001b[38;5;124;03m            Each thread processes all the chunks of X in turn. This strategy is\u001b[39;00m\n\u001b[0;32m    238\u001b[0m \u001b[38;5;124;03m            a sequence of embarrassingly parallel subtasks (the inner loop on Y\u001b[39;00m\n\u001b[0;32m    239\u001b[0m \u001b[38;5;124;03m            chunks) with intermediate datastructures synchronisation at each\u001b[39;00m\n\u001b[0;32m    240\u001b[0m \u001b[38;5;124;03m            iteration of the sequential outer loop on X chunks.\u001b[39;00m\n\u001b[0;32m    241\u001b[0m \n\u001b[0;32m    242\u001b[0m \u001b[38;5;124;03m          - 'auto' relies on a simple heuristic to choose between\u001b[39;00m\n\u001b[0;32m    243\u001b[0m \u001b[38;5;124;03m            'parallel_on_X' and 'parallel_on_Y': when `X.shape[0]` is large enough,\u001b[39;00m\n\u001b[0;32m    244\u001b[0m \u001b[38;5;124;03m            'parallel_on_X' is usually the most efficient strategy.\u001b[39;00m\n\u001b[0;32m    245\u001b[0m \u001b[38;5;124;03m            When `X.shape[0]` is small but `Y.shape[0]` is large, 'parallel_on_Y'\u001b[39;00m\n\u001b[0;32m    246\u001b[0m \u001b[38;5;124;03m            brings more opportunity for parallelism and is therefore more efficient\u001b[39;00m\n\u001b[0;32m    247\u001b[0m \n\u001b[0;32m    248\u001b[0m \u001b[38;5;124;03m          - None (default) looks-up in scikit-learn configuration for\u001b[39;00m\n\u001b[0;32m    249\u001b[0m \u001b[38;5;124;03m            `pairwise_dist_parallel_strategy`, and use 'auto' if it is not set.\u001b[39;00m\n\u001b[0;32m    250\u001b[0m \n\u001b[0;32m    251\u001b[0m \u001b[38;5;124;03m    return_distance : boolean, default=False\u001b[39;00m\n\u001b[0;32m    252\u001b[0m \u001b[38;5;124;03m        Return distances between each X vector and its\u001b[39;00m\n\u001b[0;32m    253\u001b[0m \u001b[38;5;124;03m        argkmin if set to True.\u001b[39;00m\n\u001b[0;32m    254\u001b[0m \n\u001b[0;32m    255\u001b[0m \u001b[38;5;124;03m    Returns\u001b[39;00m\n\u001b[0;32m    256\u001b[0m \u001b[38;5;124;03m    -------\u001b[39;00m\n\u001b[0;32m    257\u001b[0m \u001b[38;5;124;03m    If return_distance=False:\u001b[39;00m\n\u001b[1;32m--> 258\u001b[0m \u001b[38;5;124;03m      - argkmin_indices : ndarray of shape (n_samples_X, k)\u001b[39;00m\n\u001b[0;32m    259\u001b[0m \u001b[38;5;124;03m        Indices of the argkmin for each vector in X.\u001b[39;00m\n\u001b[0;32m    260\u001b[0m \n\u001b[0;32m    261\u001b[0m \u001b[38;5;124;03m    If return_distance=True:\u001b[39;00m\n\u001b[0;32m    262\u001b[0m \u001b[38;5;124;03m      - argkmin_distances : ndarray of shape (n_samples_X, k)\u001b[39;00m\n\u001b[0;32m    263\u001b[0m \u001b[38;5;124;03m        Distances to the argkmin for each vector in X.\u001b[39;00m\n\u001b[0;32m    264\u001b[0m \u001b[38;5;124;03m      - argkmin_indices : ndarray of shape (n_samples_X, k)\u001b[39;00m\n\u001b[0;32m    265\u001b[0m \u001b[38;5;124;03m        Indices of the argkmin for each vector in X.\u001b[39;00m\n\u001b[0;32m    266\u001b[0m \n\u001b[0;32m    267\u001b[0m \u001b[38;5;124;03m    Notes\u001b[39;00m\n\u001b[0;32m    268\u001b[0m \u001b[38;5;124;03m    -----\u001b[39;00m\n\u001b[0;32m    269\u001b[0m \u001b[38;5;124;03m    This classmethod inspects the arguments values to dispatch to the\u001b[39;00m\n\u001b[0;32m    270\u001b[0m \u001b[38;5;124;03m    dtype-specialized implementation of :class:`ArgKmin`.\u001b[39;00m\n\u001b[0;32m    271\u001b[0m \n\u001b[0;32m    272\u001b[0m \u001b[38;5;124;03m    This allows decoupling the API entirely from the implementation details\u001b[39;00m\n\u001b[0;32m    273\u001b[0m \u001b[38;5;124;03m    whilst maintaining RAII: all temporarily allocated datastructures necessary\u001b[39;00m\n\u001b[0;32m    274\u001b[0m \u001b[38;5;124;03m    for the concrete implementation are therefore freed when this classmethod\u001b[39;00m\n\u001b[0;32m    275\u001b[0m \u001b[38;5;124;03m    returns.\u001b[39;00m\n\u001b[0;32m    276\u001b[0m \u001b[38;5;124;03m    \"\"\"\u001b[39;00m\n\u001b[0;32m    277\u001b[0m     \u001b[38;5;28;01mif\u001b[39;00m X\u001b[38;5;241m.\u001b[39mdtype \u001b[38;5;241m==\u001b[39m Y\u001b[38;5;241m.\u001b[39mdtype \u001b[38;5;241m==\u001b[39m np\u001b[38;5;241m.\u001b[39mfloat64:\n\u001b[0;32m    278\u001b[0m         \u001b[38;5;28;01mreturn\u001b[39;00m ArgKmin64\u001b[38;5;241m.\u001b[39mcompute(\n\u001b[0;32m    279\u001b[0m             X\u001b[38;5;241m=\u001b[39mX,\n\u001b[0;32m    280\u001b[0m             Y\u001b[38;5;241m=\u001b[39mY,\n\u001b[1;32m   (...)\u001b[0m\n\u001b[0;32m    286\u001b[0m             return_distance\u001b[38;5;241m=\u001b[39mreturn_distance,\n\u001b[0;32m    287\u001b[0m         )\n",
      "File \u001b[1;32msklearn\\metrics\\_pairwise_distances_reduction\\_argkmin.pyx:90\u001b[0m, in \u001b[0;36msklearn.metrics._pairwise_distances_reduction._argkmin.ArgKmin64.compute\u001b[1;34m()\u001b[0m\n",
      "File \u001b[1;32m~\\anaconda3\\lib\\site-packages\\sklearn\\utils\\fixes.py:72\u001b[0m, in \u001b[0;36mthreadpool_limits\u001b[1;34m(limits, user_api)\u001b[0m\n\u001b[0;32m     70\u001b[0m     \u001b[38;5;28;01mreturn\u001b[39;00m controller\u001b[38;5;241m.\u001b[39mlimit(limits\u001b[38;5;241m=\u001b[39mlimits, user_api\u001b[38;5;241m=\u001b[39muser_api)\n\u001b[0;32m     71\u001b[0m \u001b[38;5;28;01melse\u001b[39;00m:\n\u001b[1;32m---> 72\u001b[0m     \u001b[38;5;28;01mreturn\u001b[39;00m \u001b[43mthreadpoolctl\u001b[49m\u001b[38;5;241;43m.\u001b[39;49m\u001b[43mthreadpool_limits\u001b[49m\u001b[43m(\u001b[49m\u001b[43mlimits\u001b[49m\u001b[38;5;241;43m=\u001b[39;49m\u001b[43mlimits\u001b[49m\u001b[43m,\u001b[49m\u001b[43m \u001b[49m\u001b[43muser_api\u001b[49m\u001b[38;5;241;43m=\u001b[39;49m\u001b[43muser_api\u001b[49m\u001b[43m)\u001b[49m\n",
      "File \u001b[1;32m~\\anaconda3\\lib\\site-packages\\threadpoolctl.py:171\u001b[0m, in \u001b[0;36mthreadpool_limits.__init__\u001b[1;34m(self, limits, user_api)\u001b[0m\n\u001b[0;32m    167\u001b[0m \u001b[38;5;28;01mdef\u001b[39;00m \u001b[38;5;21m__init__\u001b[39m(\u001b[38;5;28mself\u001b[39m, limits\u001b[38;5;241m=\u001b[39m\u001b[38;5;28;01mNone\u001b[39;00m, user_api\u001b[38;5;241m=\u001b[39m\u001b[38;5;28;01mNone\u001b[39;00m):\n\u001b[0;32m    168\u001b[0m     \u001b[38;5;28mself\u001b[39m\u001b[38;5;241m.\u001b[39m_limits, \u001b[38;5;28mself\u001b[39m\u001b[38;5;241m.\u001b[39m_user_api, \u001b[38;5;28mself\u001b[39m\u001b[38;5;241m.\u001b[39m_prefixes \u001b[38;5;241m=\u001b[39m \\\n\u001b[0;32m    169\u001b[0m         \u001b[38;5;28mself\u001b[39m\u001b[38;5;241m.\u001b[39m_check_params(limits, user_api)\n\u001b[1;32m--> 171\u001b[0m     \u001b[38;5;28mself\u001b[39m\u001b[38;5;241m.\u001b[39m_original_info \u001b[38;5;241m=\u001b[39m \u001b[38;5;28;43mself\u001b[39;49m\u001b[38;5;241;43m.\u001b[39;49m\u001b[43m_set_threadpool_limits\u001b[49m\u001b[43m(\u001b[49m\u001b[43m)\u001b[49m\n",
      "File \u001b[1;32m~\\anaconda3\\lib\\site-packages\\threadpoolctl.py:268\u001b[0m, in \u001b[0;36mthreadpool_limits._set_threadpool_limits\u001b[1;34m(self)\u001b[0m\n\u001b[0;32m    265\u001b[0m \u001b[38;5;28;01mif\u001b[39;00m \u001b[38;5;28mself\u001b[39m\u001b[38;5;241m.\u001b[39m_limits \u001b[38;5;129;01mis\u001b[39;00m \u001b[38;5;28;01mNone\u001b[39;00m:\n\u001b[0;32m    266\u001b[0m     \u001b[38;5;28;01mreturn\u001b[39;00m \u001b[38;5;28;01mNone\u001b[39;00m\n\u001b[1;32m--> 268\u001b[0m modules \u001b[38;5;241m=\u001b[39m \u001b[43m_ThreadpoolInfo\u001b[49m\u001b[43m(\u001b[49m\u001b[43mprefixes\u001b[49m\u001b[38;5;241;43m=\u001b[39;49m\u001b[38;5;28;43mself\u001b[39;49m\u001b[38;5;241;43m.\u001b[39;49m\u001b[43m_prefixes\u001b[49m\u001b[43m,\u001b[49m\n\u001b[0;32m    269\u001b[0m \u001b[43m                          \u001b[49m\u001b[43muser_api\u001b[49m\u001b[38;5;241;43m=\u001b[39;49m\u001b[38;5;28;43mself\u001b[39;49m\u001b[38;5;241;43m.\u001b[39;49m\u001b[43m_user_api\u001b[49m\u001b[43m)\u001b[49m\n\u001b[0;32m    270\u001b[0m \u001b[38;5;28;01mfor\u001b[39;00m module \u001b[38;5;129;01min\u001b[39;00m modules:\n\u001b[0;32m    271\u001b[0m     \u001b[38;5;66;03m# self._limits is a dict {key: num_threads} where key is either\u001b[39;00m\n\u001b[0;32m    272\u001b[0m     \u001b[38;5;66;03m# a prefix or a user_api. If a module matches both, the limit\u001b[39;00m\n\u001b[0;32m    273\u001b[0m     \u001b[38;5;66;03m# corresponding to the prefix is chosed.\u001b[39;00m\n\u001b[0;32m    274\u001b[0m     \u001b[38;5;28;01mif\u001b[39;00m module\u001b[38;5;241m.\u001b[39mprefix \u001b[38;5;129;01min\u001b[39;00m \u001b[38;5;28mself\u001b[39m\u001b[38;5;241m.\u001b[39m_limits:\n",
      "File \u001b[1;32m~\\anaconda3\\lib\\site-packages\\threadpoolctl.py:340\u001b[0m, in \u001b[0;36m_ThreadpoolInfo.__init__\u001b[1;34m(self, user_api, prefixes, modules)\u001b[0m\n\u001b[0;32m    337\u001b[0m     \u001b[38;5;28mself\u001b[39m\u001b[38;5;241m.\u001b[39muser_api \u001b[38;5;241m=\u001b[39m [] \u001b[38;5;28;01mif\u001b[39;00m user_api \u001b[38;5;129;01mis\u001b[39;00m \u001b[38;5;28;01mNone\u001b[39;00m \u001b[38;5;28;01melse\u001b[39;00m user_api\n\u001b[0;32m    339\u001b[0m     \u001b[38;5;28mself\u001b[39m\u001b[38;5;241m.\u001b[39mmodules \u001b[38;5;241m=\u001b[39m []\n\u001b[1;32m--> 340\u001b[0m     \u001b[38;5;28;43mself\u001b[39;49m\u001b[38;5;241;43m.\u001b[39;49m\u001b[43m_load_modules\u001b[49m\u001b[43m(\u001b[49m\u001b[43m)\u001b[49m\n\u001b[0;32m    341\u001b[0m     \u001b[38;5;28mself\u001b[39m\u001b[38;5;241m.\u001b[39m_warn_if_incompatible_openmp()\n\u001b[0;32m    342\u001b[0m \u001b[38;5;28;01melse\u001b[39;00m:\n",
      "File \u001b[1;32m~\\anaconda3\\lib\\site-packages\\threadpoolctl.py:373\u001b[0m, in \u001b[0;36m_ThreadpoolInfo._load_modules\u001b[1;34m(self)\u001b[0m\n\u001b[0;32m    371\u001b[0m     \u001b[38;5;28mself\u001b[39m\u001b[38;5;241m.\u001b[39m_find_modules_with_dyld()\n\u001b[0;32m    372\u001b[0m \u001b[38;5;28;01melif\u001b[39;00m sys\u001b[38;5;241m.\u001b[39mplatform \u001b[38;5;241m==\u001b[39m \u001b[38;5;124m\"\u001b[39m\u001b[38;5;124mwin32\u001b[39m\u001b[38;5;124m\"\u001b[39m:\n\u001b[1;32m--> 373\u001b[0m     \u001b[38;5;28;43mself\u001b[39;49m\u001b[38;5;241;43m.\u001b[39;49m\u001b[43m_find_modules_with_enum_process_module_ex\u001b[49m\u001b[43m(\u001b[49m\u001b[43m)\u001b[49m\n\u001b[0;32m    374\u001b[0m \u001b[38;5;28;01melse\u001b[39;00m:\n\u001b[0;32m    375\u001b[0m     \u001b[38;5;28mself\u001b[39m\u001b[38;5;241m.\u001b[39m_find_modules_with_dl_iterate_phdr()\n",
      "File \u001b[1;32m~\\anaconda3\\lib\\site-packages\\threadpoolctl.py:485\u001b[0m, in \u001b[0;36m_ThreadpoolInfo._find_modules_with_enum_process_module_ex\u001b[1;34m(self)\u001b[0m\n\u001b[0;32m    482\u001b[0m         filepath \u001b[38;5;241m=\u001b[39m buf\u001b[38;5;241m.\u001b[39mvalue\n\u001b[0;32m    484\u001b[0m         \u001b[38;5;66;03m# Store the module if it is supported and selected\u001b[39;00m\n\u001b[1;32m--> 485\u001b[0m         \u001b[38;5;28;43mself\u001b[39;49m\u001b[38;5;241;43m.\u001b[39;49m\u001b[43m_make_module_from_path\u001b[49m\u001b[43m(\u001b[49m\u001b[43mfilepath\u001b[49m\u001b[43m)\u001b[49m\n\u001b[0;32m    486\u001b[0m \u001b[38;5;28;01mfinally\u001b[39;00m:\n\u001b[0;32m    487\u001b[0m     kernel_32\u001b[38;5;241m.\u001b[39mCloseHandle(h_process)\n",
      "File \u001b[1;32m~\\anaconda3\\lib\\site-packages\\threadpoolctl.py:515\u001b[0m, in \u001b[0;36m_ThreadpoolInfo._make_module_from_path\u001b[1;34m(self, filepath)\u001b[0m\n\u001b[0;32m    513\u001b[0m \u001b[38;5;28;01mif\u001b[39;00m prefix \u001b[38;5;129;01min\u001b[39;00m \u001b[38;5;28mself\u001b[39m\u001b[38;5;241m.\u001b[39mprefixes \u001b[38;5;129;01mor\u001b[39;00m user_api \u001b[38;5;129;01min\u001b[39;00m \u001b[38;5;28mself\u001b[39m\u001b[38;5;241m.\u001b[39muser_api:\n\u001b[0;32m    514\u001b[0m     module_class \u001b[38;5;241m=\u001b[39m \u001b[38;5;28mglobals\u001b[39m()[module_class]\n\u001b[1;32m--> 515\u001b[0m     module \u001b[38;5;241m=\u001b[39m \u001b[43mmodule_class\u001b[49m\u001b[43m(\u001b[49m\u001b[43mfilepath\u001b[49m\u001b[43m,\u001b[49m\u001b[43m \u001b[49m\u001b[43mprefix\u001b[49m\u001b[43m,\u001b[49m\u001b[43m \u001b[49m\u001b[43muser_api\u001b[49m\u001b[43m,\u001b[49m\u001b[43m \u001b[49m\u001b[43minternal_api\u001b[49m\u001b[43m)\u001b[49m\n\u001b[0;32m    516\u001b[0m     \u001b[38;5;28mself\u001b[39m\u001b[38;5;241m.\u001b[39mmodules\u001b[38;5;241m.\u001b[39mappend(module)\n",
      "File \u001b[1;32m~\\anaconda3\\lib\\site-packages\\threadpoolctl.py:606\u001b[0m, in \u001b[0;36m_Module.__init__\u001b[1;34m(self, filepath, prefix, user_api, internal_api)\u001b[0m\n\u001b[0;32m    604\u001b[0m \u001b[38;5;28mself\u001b[39m\u001b[38;5;241m.\u001b[39minternal_api \u001b[38;5;241m=\u001b[39m internal_api\n\u001b[0;32m    605\u001b[0m \u001b[38;5;28mself\u001b[39m\u001b[38;5;241m.\u001b[39m_dynlib \u001b[38;5;241m=\u001b[39m ctypes\u001b[38;5;241m.\u001b[39mCDLL(filepath, mode\u001b[38;5;241m=\u001b[39m_RTLD_NOLOAD)\n\u001b[1;32m--> 606\u001b[0m \u001b[38;5;28mself\u001b[39m\u001b[38;5;241m.\u001b[39mversion \u001b[38;5;241m=\u001b[39m \u001b[38;5;28;43mself\u001b[39;49m\u001b[38;5;241;43m.\u001b[39;49m\u001b[43mget_version\u001b[49m\u001b[43m(\u001b[49m\u001b[43m)\u001b[49m\n\u001b[0;32m    607\u001b[0m \u001b[38;5;28mself\u001b[39m\u001b[38;5;241m.\u001b[39mnum_threads \u001b[38;5;241m=\u001b[39m \u001b[38;5;28mself\u001b[39m\u001b[38;5;241m.\u001b[39mget_num_threads()\n\u001b[0;32m    608\u001b[0m \u001b[38;5;28mself\u001b[39m\u001b[38;5;241m.\u001b[39m_get_extra_info()\n",
      "File \u001b[1;32m~\\anaconda3\\lib\\site-packages\\threadpoolctl.py:646\u001b[0m, in \u001b[0;36m_OpenBLASModule.get_version\u001b[1;34m(self)\u001b[0m\n\u001b[0;32m    643\u001b[0m get_config \u001b[38;5;241m=\u001b[39m \u001b[38;5;28mgetattr\u001b[39m(\u001b[38;5;28mself\u001b[39m\u001b[38;5;241m.\u001b[39m_dynlib, \u001b[38;5;124m\"\u001b[39m\u001b[38;5;124mopenblas_get_config\u001b[39m\u001b[38;5;124m\"\u001b[39m,\n\u001b[0;32m    644\u001b[0m                      \u001b[38;5;28;01mlambda\u001b[39;00m: \u001b[38;5;28;01mNone\u001b[39;00m)\n\u001b[0;32m    645\u001b[0m get_config\u001b[38;5;241m.\u001b[39mrestype \u001b[38;5;241m=\u001b[39m ctypes\u001b[38;5;241m.\u001b[39mc_char_p\n\u001b[1;32m--> 646\u001b[0m config \u001b[38;5;241m=\u001b[39m \u001b[43mget_config\u001b[49m\u001b[43m(\u001b[49m\u001b[43m)\u001b[49m\u001b[38;5;241;43m.\u001b[39;49m\u001b[43msplit\u001b[49m()\n\u001b[0;32m    647\u001b[0m \u001b[38;5;28;01mif\u001b[39;00m config[\u001b[38;5;241m0\u001b[39m] \u001b[38;5;241m==\u001b[39m \u001b[38;5;124mb\u001b[39m\u001b[38;5;124m\"\u001b[39m\u001b[38;5;124mOpenBLAS\u001b[39m\u001b[38;5;124m\"\u001b[39m:\n\u001b[0;32m    648\u001b[0m     \u001b[38;5;28;01mreturn\u001b[39;00m config[\u001b[38;5;241m1\u001b[39m]\u001b[38;5;241m.\u001b[39mdecode(\u001b[38;5;124m\"\u001b[39m\u001b[38;5;124mutf-8\u001b[39m\u001b[38;5;124m\"\u001b[39m)\n",
      "\u001b[1;31mAttributeError\u001b[0m: 'NoneType' object has no attribute 'split'"
     ]
    }
   ],
   "source": [
    "from imblearn.over_sampling import SMOTE\n",
    "\n",
    "smote = SMOTE(sampling_strategy='auto', random_state=42)  # sampling_strategy 확인\n",
    "X_train_resampled, y_train_resampled = smote.fit_resample(X_train, y_train)"
   ]
  },
  {
   "cell_type": "code",
   "execution_count": 66,
   "id": "170e0996",
   "metadata": {
    "ExecuteTime": {
     "end_time": "2024-11-07T02:56:47.111258Z",
     "start_time": "2024-11-07T02:56:47.034903Z"
    }
   },
   "outputs": [
    {
     "name": "stdout",
     "output_type": "stream",
     "text": [
      "gender                                     0\n",
      "SeniorCitizen                              0\n",
      "Partner                                    0\n",
      "Dependents                                 0\n",
      "tenure                                     0\n",
      "PhoneService                               0\n",
      "MultipleLines                              0\n",
      "OnlineSecurity                             0\n",
      "OnlineBackup                               0\n",
      "DeviceProtection                           0\n",
      "TechSupport                                0\n",
      "StreamingTV                                0\n",
      "StreamingMovies                            0\n",
      "PaperlessBilling                           0\n",
      "MonthlyCharges                             0\n",
      "TotalCharges                               0\n",
      "Churn Score                                0\n",
      "CLTV                                       0\n",
      "Under 30                                   0\n",
      "Married                                    0\n",
      "Referred a Friend                          0\n",
      "Number of Referrals                        0\n",
      "Avg Monthly Long Distance Charges          0\n",
      "Avg Monthly GB Download                    0\n",
      "Streaming Music                            0\n",
      "Premium Tech Support                       0\n",
      "Unlimited Data                             0\n",
      "Total Revenue                              0\n",
      "Satisfaction Score                         0\n",
      "Churn Score.1                              0\n",
      "Refunds                                    0\n",
      "Has Extra Data Charges                     0\n",
      "InternetService_DSL                        0\n",
      "InternetService_Fiber optic                0\n",
      "InternetService_No                         0\n",
      "Offer_None                                 0\n",
      "Offer_Offer A                              0\n",
      "Offer_Offer B                              0\n",
      "Offer_Offer C                              0\n",
      "Offer_Offer D                              0\n",
      "Offer_Offer E                              0\n",
      "PaymentMethod_Bank transfer (automatic)    0\n",
      "PaymentMethod_Credit card (automatic)      0\n",
      "PaymentMethod_Electronic check             0\n",
      "PaymentMethod_Mailed check                 0\n",
      "Contract_Month-to-month                    0\n",
      "Contract_One year                          0\n",
      "Contract_Two year                          0\n",
      "dtype: int64\n",
      "0\n"
     ]
    }
   ],
   "source": [
    "print(X_train.isnull().sum())\n",
    "print(y_train.isnull().sum())"
   ]
  },
  {
   "cell_type": "code",
   "execution_count": 67,
   "id": "7fcd411b",
   "metadata": {
    "ExecuteTime": {
     "end_time": "2024-11-07T02:57:02.322043Z",
     "start_time": "2024-11-07T02:57:02.287535Z"
    }
   },
   "outputs": [],
   "source": [
    "X_train = X_train.astype(float)\n",
    "y_train = y_train.astype(int)"
   ]
  },
  {
   "cell_type": "code",
   "execution_count": 65,
   "id": "9380293e",
   "metadata": {
    "ExecuteTime": {
     "end_time": "2024-11-07T02:55:08.416616Z",
     "start_time": "2024-11-07T02:55:08.391087Z"
    }
   },
   "outputs": [
    {
     "name": "stdout",
     "output_type": "stream",
     "text": [
      "<class 'pandas.core.frame.DataFrame'> <class 'pandas.core.series.Series'>\n"
     ]
    }
   ],
   "source": [
    "print(type(X_train), type(y_train))"
   ]
  },
  {
   "cell_type": "code",
   "execution_count": 62,
   "id": "acd7a322",
   "metadata": {
    "ExecuteTime": {
     "end_time": "2024-11-07T02:52:28.929890Z",
     "start_time": "2024-11-07T02:51:27.366829Z"
    }
   },
   "outputs": [
    {
     "name": "stdout",
     "output_type": "stream",
     "text": [
      "Requirement already satisfied: imbalanced-learn in c:\\users\\lg\\anaconda3\\lib\\site-packages (0.12.3)\n",
      "Collecting imbalanced-learn\n",
      "  Downloading imbalanced_learn-0.12.4-py3-none-any.whl.metadata (8.3 kB)\n",
      "Requirement already satisfied: scikit-learn in c:\\users\\lg\\anaconda3\\lib\\site-packages (1.3.0)\n",
      "Collecting scikit-learn\n",
      "  Downloading scikit_learn-1.5.2-cp39-cp39-win_amd64.whl.metadata (13 kB)\n",
      "Requirement already satisfied: numpy>=1.17.3 in c:\\users\\lg\\anaconda3\\lib\\site-packages (from imbalanced-learn) (1.26.4)\n",
      "Requirement already satisfied: scipy>=1.5.0 in c:\\users\\lg\\anaconda3\\lib\\site-packages (from imbalanced-learn) (1.11.4)\n",
      "Requirement already satisfied: joblib>=1.1.1 in c:\\users\\lg\\anaconda3\\lib\\site-packages (from imbalanced-learn) (1.2.0)\n",
      "Requirement already satisfied: threadpoolctl>=2.0.0 in c:\\users\\lg\\anaconda3\\lib\\site-packages (from imbalanced-learn) (2.2.0)\n",
      "Collecting threadpoolctl>=2.0.0 (from imbalanced-learn)\n",
      "  Downloading threadpoolctl-3.5.0-py3-none-any.whl.metadata (13 kB)\n",
      "Downloading imbalanced_learn-0.12.4-py3-none-any.whl (258 kB)\n",
      "   ---------------------------------------- 0.0/258.3 kB ? eta -:--:--\n",
      "   ---------------------------------------  256.0/258.3 kB 7.9 MB/s eta 0:00:01\n",
      "   ---------------------------------------- 258.3/258.3 kB 4.0 MB/s eta 0:00:00\n",
      "Downloading scikit_learn-1.5.2-cp39-cp39-win_amd64.whl (11.0 MB)\n",
      "   ---------------------------------------- 0.0/11.0 MB ? eta -:--:--\n",
      "   - -------------------------------------- 0.4/11.0 MB 7.6 MB/s eta 0:00:02\n",
      "   -- ------------------------------------- 0.6/11.0 MB 6.5 MB/s eta 0:00:02\n",
      "   --- ------------------------------------ 1.0/11.0 MB 6.9 MB/s eta 0:00:02\n",
      "   ---- ----------------------------------- 1.3/11.0 MB 6.8 MB/s eta 0:00:02\n",
      "   ------ --------------------------------- 1.7/11.0 MB 7.0 MB/s eta 0:00:02\n",
      "   ------- -------------------------------- 2.1/11.0 MB 7.3 MB/s eta 0:00:02\n",
      "   -------- ------------------------------- 2.4/11.0 MB 7.3 MB/s eta 0:00:02\n",
      "   ---------- ----------------------------- 2.8/11.0 MB 7.4 MB/s eta 0:00:02\n",
      "   ----------- ---------------------------- 3.1/11.0 MB 7.4 MB/s eta 0:00:02\n",
      "   ------------ --------------------------- 3.4/11.0 MB 7.6 MB/s eta 0:00:02\n",
      "   ------------- -------------------------- 3.7/11.0 MB 7.3 MB/s eta 0:00:02\n",
      "   -------------- ------------------------- 4.1/11.0 MB 7.3 MB/s eta 0:00:01\n",
      "   ---------------- ----------------------- 4.5/11.0 MB 7.4 MB/s eta 0:00:01\n",
      "   ----------------- ---------------------- 4.9/11.0 MB 7.4 MB/s eta 0:00:01\n",
      "   ------------------- -------------------- 5.3/11.0 MB 7.7 MB/s eta 0:00:01\n",
      "   -------------------- ------------------- 5.7/11.0 MB 7.8 MB/s eta 0:00:01\n",
      "   ---------------------- ----------------- 6.1/11.0 MB 7.9 MB/s eta 0:00:01\n",
      "   ----------------------- ---------------- 6.5/11.0 MB 7.8 MB/s eta 0:00:01\n",
      "   ------------------------ --------------- 6.8/11.0 MB 7.7 MB/s eta 0:00:01\n",
      "   ------------------------- -------------- 7.1/11.0 MB 7.7 MB/s eta 0:00:01\n",
      "   --------------------------- ------------ 7.6/11.0 MB 7.7 MB/s eta 0:00:01\n",
      "   ----------------------------- ---------- 8.0/11.0 MB 7.8 MB/s eta 0:00:01\n",
      "   ------------------------------ --------- 8.5/11.0 MB 7.8 MB/s eta 0:00:01\n",
      "   -------------------------------- ------- 8.9/11.0 MB 7.9 MB/s eta 0:00:01\n",
      "   --------------------------------- ------ 9.3/11.0 MB 7.9 MB/s eta 0:00:01\n",
      "   ---------------------------------- ----- 9.6/11.0 MB 7.9 MB/s eta 0:00:01\n",
      "   ----------------------------------- ---- 9.8/11.0 MB 7.8 MB/s eta 0:00:01\n",
      "   ------------------------------------- -- 10.2/11.0 MB 7.8 MB/s eta 0:00:01\n",
      "   ------------------------------------- -- 10.5/11.0 MB 7.7 MB/s eta 0:00:01\n",
      "   -------------------------------------- - 10.7/11.0 MB 7.6 MB/s eta 0:00:01\n",
      "   ---------------------------------------  11.0/11.0 MB 7.7 MB/s eta 0:00:01\n",
      "   ---------------------------------------- 11.0/11.0 MB 7.5 MB/s eta 0:00:00\n",
      "Downloading threadpoolctl-3.5.0-py3-none-any.whl (18 kB)\n",
      "Installing collected packages: threadpoolctl, scikit-learn, imbalanced-learn\n",
      "  Attempting uninstall: threadpoolctl\n",
      "    Found existing installation: threadpoolctl 2.2.0\n",
      "    Uninstalling threadpoolctl-2.2.0:\n",
      "      Successfully uninstalled threadpoolctl-2.2.0\n",
      "  Attempting uninstall: scikit-learn\n",
      "    Found existing installation: scikit-learn 1.3.0\n",
      "    Uninstalling scikit-learn-1.3.0:\n",
      "      Successfully uninstalled scikit-learn-1.3.0\n",
      "  Attempting uninstall: imbalanced-learn\n",
      "    Found existing installation: imbalanced-learn 0.12.3\n",
      "    Uninstalling imbalanced-learn-0.12.3:\n",
      "      Successfully uninstalled imbalanced-learn-0.12.3\n",
      "Successfully installed imbalanced-learn-0.12.4 scikit-learn-1.5.2 threadpoolctl-3.5.0\n"
     ]
    },
    {
     "name": "stderr",
     "output_type": "stream",
     "text": [
      "WARNING: Ignoring invalid distribution -ffi (c:\\users\\lg\\anaconda3\\lib\\site-packages)\n",
      "WARNING: Ignoring invalid distribution -ffi (c:\\users\\lg\\anaconda3\\lib\\site-packages)\n",
      "  WARNING: Failed to remove contents in a temporary directory 'C:\\Users\\LG\\anaconda3\\Lib\\site-packages\\~klearn'.\n",
      "  You can safely remove it manually.\n",
      "ERROR: pip's dependency resolver does not currently take into account all the packages that are installed. This behaviour is the source of the following dependency conflicts.\n",
      "sktime 0.23.0 requires numpy<1.26,>=1.21.0, but you have numpy 1.26.4 which is incompatible.\n",
      "sktime 0.23.0 requires pandas<2.2.0,>=1.1.0, but you have pandas 2.2.2 which is incompatible.\n",
      "sktime 0.23.0 requires scikit-learn<1.4.0,>=0.24.0, but you have scikit-learn 1.5.2 which is incompatible.\n"
     ]
    }
   ],
   "source": [
    "!pip install -U imbalanced-learn scikit-learn"
   ]
  },
  {
   "cell_type": "code",
   "execution_count": null,
   "id": "a1df2ff4",
   "metadata": {},
   "outputs": [],
   "source": []
  }
 ],
 "metadata": {
  "kernelspec": {
   "display_name": "Python 3 (ipykernel)",
   "language": "python",
   "name": "python3"
  },
  "language_info": {
   "codemirror_mode": {
    "name": "ipython",
    "version": 3
   },
   "file_extension": ".py",
   "mimetype": "text/x-python",
   "name": "python",
   "nbconvert_exporter": "python",
   "pygments_lexer": "ipython3",
   "version": "3.9.7"
  },
  "toc": {
   "base_numbering": 1,
   "nav_menu": {},
   "number_sections": true,
   "sideBar": true,
   "skip_h1_title": false,
   "title_cell": "Table of Contents",
   "title_sidebar": "Contents",
   "toc_cell": false,
   "toc_position": {},
   "toc_section_display": true,
   "toc_window_display": false
  }
 },
 "nbformat": 4,
 "nbformat_minor": 5
}
